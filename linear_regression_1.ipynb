{
  "nbformat": 4,
  "nbformat_minor": 0,
  "metadata": {
    "colab": {
      "provenance": [],
      "authorship_tag": "ABX9TyM0SOryCicOay2aYHP/fbT/",
      "include_colab_link": true
    },
    "kernelspec": {
      "name": "python3",
      "display_name": "Python 3"
    },
    "language_info": {
      "name": "python"
    }
  },
  "cells": [
    {
      "cell_type": "markdown",
      "metadata": {
        "id": "view-in-github",
        "colab_type": "text"
      },
      "source": [
        "<a href=\"https://colab.research.google.com/github/ItsMeBerk/MachineLearningCourse/blob/main/linear_regression_1.ipynb\" target=\"_parent\"><img src=\"https://colab.research.google.com/assets/colab-badge.svg\" alt=\"Open In Colab\"/></a>"
      ]
    },
    {
      "cell_type": "code",
      "execution_count": 1,
      "metadata": {
        "colab": {
          "base_uri": "https://localhost:8080/"
        },
        "id": "CMx3RTjwUxYS",
        "outputId": "731763a8-0dad-4681-b7a4-98570c594d7e"
      },
      "outputs": [
        {
          "output_type": "stream",
          "name": "stdout",
          "text": [
            "Lata pracy: [1 2 3 4 5 6]\n",
            "Wynagrodzenie: [3000 3250 3500 3750 4000 4250]\n",
            "Liczba próbek: 6\n"
          ]
        }
      ],
      "source": [
        "import numpy as np\n",
        "\n",
        "X1 = np.array([1, 2, 3, 4, 5, 6])\n",
        "Y = np.array([3000, 3250, 3500, 3750, 4000, 4250])\n",
        "m = len(X1)\n",
        "\n",
        "print(f'Lata pracy: {X1}')\n",
        "print(f'Wynagrodzenie: {Y}')\n",
        "print(f'Liczba próbek: {m}')\n",
        ""
      ]
    },
    {
      "cell_type": "code",
      "source": [
        "X1 = X1.reshape(m, 1)\n",
        "print(X1)\n",
        "print(X1.shape)"
      ],
      "metadata": {
        "colab": {
          "base_uri": "https://localhost:8080/"
        },
        "id": "CD4YuCgiU3ma",
        "outputId": "97ca29c1-6de2-4611-db7b-560f17060d1b"
      },
      "execution_count": 2,
      "outputs": [
        {
          "output_type": "stream",
          "name": "stdout",
          "text": [
            "[[1]\n",
            " [2]\n",
            " [3]\n",
            " [4]\n",
            " [5]\n",
            " [6]]\n",
            "(6, 1)\n"
          ]
        }
      ]
    },
    {
      "cell_type": "code",
      "source": [
        "bias = np.ones((m, 1))\n",
        "print(bias)\n",
        "print(bias.shape)\n",
        ""
      ],
      "metadata": {
        "colab": {
          "base_uri": "https://localhost:8080/"
        },
        "id": "DNGyBfpJU8nO",
        "outputId": "ae241730-b272-4ca8-dc31-1de2be7bff94"
      },
      "execution_count": 3,
      "outputs": [
        {
          "output_type": "stream",
          "name": "stdout",
          "text": [
            "[[1.]\n",
            " [1.]\n",
            " [1.]\n",
            " [1.]\n",
            " [1.]\n",
            " [1.]]\n",
            "(6, 1)\n"
          ]
        }
      ]
    },
    {
      "cell_type": "code",
      "source": [
        "X = np.append(bias, X1, axis=1)\n",
        "print(X)\n",
        "print(X.shape)\n",
        ""
      ],
      "metadata": {
        "colab": {
          "base_uri": "https://localhost:8080/"
        },
        "id": "r7C5-cSEU928",
        "outputId": "ff6ada04-7b64-4cc7-bec7-a73ccd5bc1e6"
      },
      "execution_count": 4,
      "outputs": [
        {
          "output_type": "stream",
          "name": "stdout",
          "text": [
            "[[1. 1.]\n",
            " [1. 2.]\n",
            " [1. 3.]\n",
            " [1. 4.]\n",
            " [1. 5.]\n",
            " [1. 6.]]\n",
            "(6, 2)\n"
          ]
        }
      ]
    },
    {
      "cell_type": "markdown",
      "source": [
        "![równanie_normalne.png](data:image/png;base64,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)"
      ],
      "metadata": {
        "id": "h2Q57JJOVB9v"
      }
    },
    {
      "cell_type": "code",
      "source": [
        "np.dot(X.T, X)"
      ],
      "metadata": {
        "colab": {
          "base_uri": "https://localhost:8080/"
        },
        "id": "JFmf_wQoVpPS",
        "outputId": "7138e97a-768a-491b-a673-0b608b67bc08"
      },
      "execution_count": 5,
      "outputs": [
        {
          "output_type": "execute_result",
          "data": {
            "text/plain": [
              "array([[ 6., 21.],\n",
              "       [21., 91.]])"
            ]
          },
          "metadata": {},
          "execution_count": 5
        }
      ]
    },
    {
      "cell_type": "code",
      "source": [
        "L = np.linalg.inv(np.dot(X.T, X))\n",
        "L"
      ],
      "metadata": {
        "colab": {
          "base_uri": "https://localhost:8080/"
        },
        "id": "VHTjuFNUVunz",
        "outputId": "c3b9b954-2f2d-4f87-bf18-a0e488827c55"
      },
      "execution_count": 6,
      "outputs": [
        {
          "output_type": "execute_result",
          "data": {
            "text/plain": [
              "array([[ 0.86666667, -0.2       ],\n",
              "       [-0.2       ,  0.05714286]])"
            ]
          },
          "metadata": {},
          "execution_count": 6
        }
      ]
    },
    {
      "cell_type": "code",
      "source": [
        "P = np.dot(X.T, Y)\n",
        "P"
      ],
      "metadata": {
        "colab": {
          "base_uri": "https://localhost:8080/"
        },
        "id": "nfwgOETcV8-N",
        "outputId": "8b0c968d-0260-484b-e9b0-b9b78e3fece5"
      },
      "execution_count": 7,
      "outputs": [
        {
          "output_type": "execute_result",
          "data": {
            "text/plain": [
              "array([21750., 80500.])"
            ]
          },
          "metadata": {},
          "execution_count": 7
        }
      ]
    },
    {
      "cell_type": "code",
      "source": [
        "np.dot(L, P)"
      ],
      "metadata": {
        "colab": {
          "base_uri": "https://localhost:8080/"
        },
        "id": "xEHIAwdYV-Iy",
        "outputId": "d5d9a556-408c-4844-bfa1-6cf9d4656fd9"
      },
      "execution_count": 8,
      "outputs": [
        {
          "output_type": "execute_result",
          "data": {
            "text/plain": [
              "array([2750.,  250.])"
            ]
          },
          "metadata": {},
          "execution_count": 8
        }
      ]
    },
    {
      "cell_type": "markdown",
      "source": [
        "Regresja liniowa przy pomocy scikit-learn"
      ],
      "metadata": {
        "id": "aN595dZ3WCsZ"
      }
    },
    {
      "cell_type": "code",
      "source": [
        "from sklearn.linear_model import LinearRegression\n",
        "\n",
        "regression = LinearRegression()\n",
        "regression.fit(X1, Y)\n",
        "\n",
        "print(regression.intercept_)\n",
        "print(regression.coef_[0])"
      ],
      "metadata": {
        "colab": {
          "base_uri": "https://localhost:8080/"
        },
        "id": "VrEdPU-UWE2Y",
        "outputId": "91732f8f-5106-4c25-eaba-e41e4c755d05"
      },
      "execution_count": 10,
      "outputs": [
        {
          "output_type": "stream",
          "name": "stdout",
          "text": [
            "2750.0\n",
            "250.0\n"
          ]
        }
      ]
    }
  ]
}