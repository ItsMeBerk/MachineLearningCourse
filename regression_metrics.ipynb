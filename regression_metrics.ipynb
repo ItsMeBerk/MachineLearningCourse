{
  "nbformat": 4,
  "nbformat_minor": 0,
  "metadata": {
    "colab": {
      "provenance": [],
      "authorship_tag": "ABX9TyN0+6/VRcAiIVbzgu5uyAZT",
      "include_colab_link": true
    },
    "kernelspec": {
      "name": "python3",
      "display_name": "Python 3"
    },
    "language_info": {
      "name": "python"
    }
  },
  "cells": [
    {
      "cell_type": "markdown",
      "metadata": {
        "id": "view-in-github",
        "colab_type": "text"
      },
      "source": [
        "<a href=\"https://colab.research.google.com/github/ItsMeBerk/MachineLearningCourse/blob/main/regression_metrics.ipynb\" target=\"_parent\"><img src=\"https://colab.research.google.com/assets/colab-badge.svg\" alt=\"Open In Colab\"/></a>"
      ]
    },
    {
      "cell_type": "code",
      "execution_count": 1,
      "metadata": {
        "id": "qkt1ux0FH5xB"
      },
      "outputs": [],
      "source": [
        "import numpy as np\n",
        "import pandas as pd\n",
        "import plotly.express as px\n",
        "import plotly.graph_objects as go\n",
        "\n",
        "np.random.seed(42)\n",
        ""
      ]
    },
    {
      "cell_type": "code",
      "source": [
        "y_true = 100 + 20 * np.random.randn(50)\n",
        "y_true"
      ],
      "metadata": {
        "colab": {
          "base_uri": "https://localhost:8080/"
        },
        "id": "jmrGCH7EIDyr",
        "outputId": "5cf1d37d-20bc-4808-be1c-6064cbbf817e"
      },
      "execution_count": 2,
      "outputs": [
        {
          "output_type": "execute_result",
          "data": {
            "text/plain": [
              "array([109.93428306,  97.23471398, 112.95377076, 130.46059713,\n",
              "        95.31693251,  95.31726086, 131.58425631, 115.34869458,\n",
              "        90.61051228, 110.85120087,  90.73164614,  90.68540493,\n",
              "       104.83924543,  61.73439511,  65.50164335,  88.75424942,\n",
              "        79.74337759, 106.28494665,  81.83951849,  71.75392597,\n",
              "       129.31297538,  95.48447399, 101.35056409,  71.50503628,\n",
              "        89.11234551, 102.21845179,  76.98012845, 107.51396037,\n",
              "        87.9872262 ,  94.166125  ,  87.96586776, 137.04556369,\n",
              "        99.73005551,  78.84578142, 116.45089824,  75.583127  ,\n",
              "       104.1772719 ,  60.80659752,  73.43627902, 103.93722472,\n",
              "       114.7693316 , 103.42736562,  97.68703435,  93.97792609,\n",
              "        70.42956019,  85.60311583,  90.78722458, 121.14244452,\n",
              "       106.87236579,  64.73919689])"
            ]
          },
          "metadata": {},
          "execution_count": 2
        }
      ]
    },
    {
      "cell_type": "code",
      "source": [
        "y_pred = y_true + 10 * np.random.randn(50)\n",
        "y_pred"
      ],
      "metadata": {
        "colab": {
          "base_uri": "https://localhost:8080/"
        },
        "id": "MJR58mmgIFhs",
        "outputId": "65fd966f-e7dc-40d7-8e26-c072439107b5"
      },
      "execution_count": 3,
      "outputs": [
        {
          "output_type": "execute_result",
          "data": {
            "text/plain": [
              "array([113.17512275,  93.38389117, 106.18455076, 136.57736002,\n",
              "       105.62692773, 104.63006205, 123.19208108, 112.25657082,\n",
              "        93.9231466 , 120.60665214,  85.93990377,  88.82881516,\n",
              "        93.77589569,  49.77232887,  73.62690157, 102.3166497 ,\n",
              "        79.02327638, 116.32027563,  85.45587874,  65.30272843,\n",
              "       132.92693143, 110.86483965, 100.9923037 ,  87.15147283,\n",
              "        62.91489447, 110.43747684,  77.85059913, 104.52388686,\n",
              "        88.90483397,  74.29043586,  85.76914888, 140.61668941,\n",
              "       114.50899595,  73.66307924, 108.36596221,  70.56555656,\n",
              "       113.33129308,  64.09410862,  68.13867698, 109.06989905,\n",
              "       115.74010709, 113.11381553,  90.66650341,  90.70130462,\n",
              "        66.50847866,  70.96796635,  93.74842735, 123.75299725,\n",
              "       106.92350036,  62.39332556])"
            ]
          },
          "metadata": {},
          "execution_count": 3
        }
      ]
    },
    {
      "cell_type": "code",
      "source": [
        "results = pd.DataFrame({'y_true': y_true, 'y_pred': y_pred})\n",
        "results.head()"
      ],
      "metadata": {
        "colab": {
          "base_uri": "https://localhost:8080/",
          "height": 206
        },
        "id": "aDiyvB4PIHJo",
        "outputId": "0fb3b29e-eaf1-45cf-e275-81d276c57f64"
      },
      "execution_count": 4,
      "outputs": [
        {
          "output_type": "execute_result",
          "data": {
            "text/plain": [
              "       y_true      y_pred\n",
              "0  109.934283  113.175123\n",
              "1   97.234714   93.383891\n",
              "2  112.953771  106.184551\n",
              "3  130.460597  136.577360\n",
              "4   95.316933  105.626928"
            ],
            "text/html": [
              "\n",
              "  <div id=\"df-8cc6f4a7-c53d-49c8-8b43-8a03a5fc0ea6\" class=\"colab-df-container\">\n",
              "    <div>\n",
              "<style scoped>\n",
              "    .dataframe tbody tr th:only-of-type {\n",
              "        vertical-align: middle;\n",
              "    }\n",
              "\n",
              "    .dataframe tbody tr th {\n",
              "        vertical-align: top;\n",
              "    }\n",
              "\n",
              "    .dataframe thead th {\n",
              "        text-align: right;\n",
              "    }\n",
              "</style>\n",
              "<table border=\"1\" class=\"dataframe\">\n",
              "  <thead>\n",
              "    <tr style=\"text-align: right;\">\n",
              "      <th></th>\n",
              "      <th>y_true</th>\n",
              "      <th>y_pred</th>\n",
              "    </tr>\n",
              "  </thead>\n",
              "  <tbody>\n",
              "    <tr>\n",
              "      <th>0</th>\n",
              "      <td>109.934283</td>\n",
              "      <td>113.175123</td>\n",
              "    </tr>\n",
              "    <tr>\n",
              "      <th>1</th>\n",
              "      <td>97.234714</td>\n",
              "      <td>93.383891</td>\n",
              "    </tr>\n",
              "    <tr>\n",
              "      <th>2</th>\n",
              "      <td>112.953771</td>\n",
              "      <td>106.184551</td>\n",
              "    </tr>\n",
              "    <tr>\n",
              "      <th>3</th>\n",
              "      <td>130.460597</td>\n",
              "      <td>136.577360</td>\n",
              "    </tr>\n",
              "    <tr>\n",
              "      <th>4</th>\n",
              "      <td>95.316933</td>\n",
              "      <td>105.626928</td>\n",
              "    </tr>\n",
              "  </tbody>\n",
              "</table>\n",
              "</div>\n",
              "    <div class=\"colab-df-buttons\">\n",
              "\n",
              "  <div class=\"colab-df-container\">\n",
              "    <button class=\"colab-df-convert\" onclick=\"convertToInteractive('df-8cc6f4a7-c53d-49c8-8b43-8a03a5fc0ea6')\"\n",
              "            title=\"Convert this dataframe to an interactive table.\"\n",
              "            style=\"display:none;\">\n",
              "\n",
              "  <svg xmlns=\"http://www.w3.org/2000/svg\" height=\"24px\" viewBox=\"0 -960 960 960\">\n",
              "    <path d=\"M120-120v-720h720v720H120Zm60-500h600v-160H180v160Zm220 220h160v-160H400v160Zm0 220h160v-160H400v160ZM180-400h160v-160H180v160Zm440 0h160v-160H620v160ZM180-180h160v-160H180v160Zm440 0h160v-160H620v160Z\"/>\n",
              "  </svg>\n",
              "    </button>\n",
              "\n",
              "  <style>\n",
              "    .colab-df-container {\n",
              "      display:flex;\n",
              "      gap: 12px;\n",
              "    }\n",
              "\n",
              "    .colab-df-convert {\n",
              "      background-color: #E8F0FE;\n",
              "      border: none;\n",
              "      border-radius: 50%;\n",
              "      cursor: pointer;\n",
              "      display: none;\n",
              "      fill: #1967D2;\n",
              "      height: 32px;\n",
              "      padding: 0 0 0 0;\n",
              "      width: 32px;\n",
              "    }\n",
              "\n",
              "    .colab-df-convert:hover {\n",
              "      background-color: #E2EBFA;\n",
              "      box-shadow: 0px 1px 2px rgba(60, 64, 67, 0.3), 0px 1px 3px 1px rgba(60, 64, 67, 0.15);\n",
              "      fill: #174EA6;\n",
              "    }\n",
              "\n",
              "    .colab-df-buttons div {\n",
              "      margin-bottom: 4px;\n",
              "    }\n",
              "\n",
              "    [theme=dark] .colab-df-convert {\n",
              "      background-color: #3B4455;\n",
              "      fill: #D2E3FC;\n",
              "    }\n",
              "\n",
              "    [theme=dark] .colab-df-convert:hover {\n",
              "      background-color: #434B5C;\n",
              "      box-shadow: 0px 1px 3px 1px rgba(0, 0, 0, 0.15);\n",
              "      filter: drop-shadow(0px 1px 2px rgba(0, 0, 0, 0.3));\n",
              "      fill: #FFFFFF;\n",
              "    }\n",
              "  </style>\n",
              "\n",
              "    <script>\n",
              "      const buttonEl =\n",
              "        document.querySelector('#df-8cc6f4a7-c53d-49c8-8b43-8a03a5fc0ea6 button.colab-df-convert');\n",
              "      buttonEl.style.display =\n",
              "        google.colab.kernel.accessAllowed ? 'block' : 'none';\n",
              "\n",
              "      async function convertToInteractive(key) {\n",
              "        const element = document.querySelector('#df-8cc6f4a7-c53d-49c8-8b43-8a03a5fc0ea6');\n",
              "        const dataTable =\n",
              "          await google.colab.kernel.invokeFunction('convertToInteractive',\n",
              "                                                    [key], {});\n",
              "        if (!dataTable) return;\n",
              "\n",
              "        const docLinkHtml = 'Like what you see? Visit the ' +\n",
              "          '<a target=\"_blank\" href=https://colab.research.google.com/notebooks/data_table.ipynb>data table notebook</a>'\n",
              "          + ' to learn more about interactive tables.';\n",
              "        element.innerHTML = '';\n",
              "        dataTable['output_type'] = 'display_data';\n",
              "        await google.colab.output.renderOutput(dataTable, element);\n",
              "        const docLink = document.createElement('div');\n",
              "        docLink.innerHTML = docLinkHtml;\n",
              "        element.appendChild(docLink);\n",
              "      }\n",
              "    </script>\n",
              "  </div>\n",
              "\n",
              "\n",
              "<div id=\"df-2ea6c792-4936-48ea-81b4-4bc3281560a2\">\n",
              "  <button class=\"colab-df-quickchart\" onclick=\"quickchart('df-2ea6c792-4936-48ea-81b4-4bc3281560a2')\"\n",
              "            title=\"Suggest charts.\"\n",
              "            style=\"display:none;\">\n",
              "\n",
              "<svg xmlns=\"http://www.w3.org/2000/svg\" height=\"24px\"viewBox=\"0 0 24 24\"\n",
              "     width=\"24px\">\n",
              "    <g>\n",
              "        <path d=\"M19 3H5c-1.1 0-2 .9-2 2v14c0 1.1.9 2 2 2h14c1.1 0 2-.9 2-2V5c0-1.1-.9-2-2-2zM9 17H7v-7h2v7zm4 0h-2V7h2v10zm4 0h-2v-4h2v4z\"/>\n",
              "    </g>\n",
              "</svg>\n",
              "  </button>\n",
              "\n",
              "<style>\n",
              "  .colab-df-quickchart {\n",
              "      --bg-color: #E8F0FE;\n",
              "      --fill-color: #1967D2;\n",
              "      --hover-bg-color: #E2EBFA;\n",
              "      --hover-fill-color: #174EA6;\n",
              "      --disabled-fill-color: #AAA;\n",
              "      --disabled-bg-color: #DDD;\n",
              "  }\n",
              "\n",
              "  [theme=dark] .colab-df-quickchart {\n",
              "      --bg-color: #3B4455;\n",
              "      --fill-color: #D2E3FC;\n",
              "      --hover-bg-color: #434B5C;\n",
              "      --hover-fill-color: #FFFFFF;\n",
              "      --disabled-bg-color: #3B4455;\n",
              "      --disabled-fill-color: #666;\n",
              "  }\n",
              "\n",
              "  .colab-df-quickchart {\n",
              "    background-color: var(--bg-color);\n",
              "    border: none;\n",
              "    border-radius: 50%;\n",
              "    cursor: pointer;\n",
              "    display: none;\n",
              "    fill: var(--fill-color);\n",
              "    height: 32px;\n",
              "    padding: 0;\n",
              "    width: 32px;\n",
              "  }\n",
              "\n",
              "  .colab-df-quickchart:hover {\n",
              "    background-color: var(--hover-bg-color);\n",
              "    box-shadow: 0 1px 2px rgba(60, 64, 67, 0.3), 0 1px 3px 1px rgba(60, 64, 67, 0.15);\n",
              "    fill: var(--button-hover-fill-color);\n",
              "  }\n",
              "\n",
              "  .colab-df-quickchart-complete:disabled,\n",
              "  .colab-df-quickchart-complete:disabled:hover {\n",
              "    background-color: var(--disabled-bg-color);\n",
              "    fill: var(--disabled-fill-color);\n",
              "    box-shadow: none;\n",
              "  }\n",
              "\n",
              "  .colab-df-spinner {\n",
              "    border: 2px solid var(--fill-color);\n",
              "    border-color: transparent;\n",
              "    border-bottom-color: var(--fill-color);\n",
              "    animation:\n",
              "      spin 1s steps(1) infinite;\n",
              "  }\n",
              "\n",
              "  @keyframes spin {\n",
              "    0% {\n",
              "      border-color: transparent;\n",
              "      border-bottom-color: var(--fill-color);\n",
              "      border-left-color: var(--fill-color);\n",
              "    }\n",
              "    20% {\n",
              "      border-color: transparent;\n",
              "      border-left-color: var(--fill-color);\n",
              "      border-top-color: var(--fill-color);\n",
              "    }\n",
              "    30% {\n",
              "      border-color: transparent;\n",
              "      border-left-color: var(--fill-color);\n",
              "      border-top-color: var(--fill-color);\n",
              "      border-right-color: var(--fill-color);\n",
              "    }\n",
              "    40% {\n",
              "      border-color: transparent;\n",
              "      border-right-color: var(--fill-color);\n",
              "      border-top-color: var(--fill-color);\n",
              "    }\n",
              "    60% {\n",
              "      border-color: transparent;\n",
              "      border-right-color: var(--fill-color);\n",
              "    }\n",
              "    80% {\n",
              "      border-color: transparent;\n",
              "      border-right-color: var(--fill-color);\n",
              "      border-bottom-color: var(--fill-color);\n",
              "    }\n",
              "    90% {\n",
              "      border-color: transparent;\n",
              "      border-bottom-color: var(--fill-color);\n",
              "    }\n",
              "  }\n",
              "</style>\n",
              "\n",
              "  <script>\n",
              "    async function quickchart(key) {\n",
              "      const quickchartButtonEl =\n",
              "        document.querySelector('#' + key + ' button');\n",
              "      quickchartButtonEl.disabled = true;  // To prevent multiple clicks.\n",
              "      quickchartButtonEl.classList.add('colab-df-spinner');\n",
              "      try {\n",
              "        const charts = await google.colab.kernel.invokeFunction(\n",
              "            'suggestCharts', [key], {});\n",
              "      } catch (error) {\n",
              "        console.error('Error during call to suggestCharts:', error);\n",
              "      }\n",
              "      quickchartButtonEl.classList.remove('colab-df-spinner');\n",
              "      quickchartButtonEl.classList.add('colab-df-quickchart-complete');\n",
              "    }\n",
              "    (() => {\n",
              "      let quickchartButtonEl =\n",
              "        document.querySelector('#df-2ea6c792-4936-48ea-81b4-4bc3281560a2 button');\n",
              "      quickchartButtonEl.style.display =\n",
              "        google.colab.kernel.accessAllowed ? 'block' : 'none';\n",
              "    })();\n",
              "  </script>\n",
              "</div>\n",
              "    </div>\n",
              "  </div>\n"
            ]
          },
          "metadata": {},
          "execution_count": 4
        }
      ]
    },
    {
      "cell_type": "code",
      "source": [
        "results['error'] = results['y_true'] - results['y_pred']\n",
        "results['error_squared'] = results['error'] ** 2\n",
        "results.head()"
      ],
      "metadata": {
        "colab": {
          "base_uri": "https://localhost:8080/",
          "height": 206
        },
        "id": "WbaByZGNIIgr",
        "outputId": "ca7ef1f2-6df3-4cc1-9c61-fa4301c7328f"
      },
      "execution_count": 5,
      "outputs": [
        {
          "output_type": "execute_result",
          "data": {
            "text/plain": [
              "       y_true      y_pred      error  error_squared\n",
              "0  109.934283  113.175123  -3.240840      10.503042\n",
              "1   97.234714   93.383891   3.850823      14.828836\n",
              "2  112.953771  106.184551   6.769220      45.822339\n",
              "3  130.460597  136.577360  -6.116763      37.414788\n",
              "4   95.316933  105.626928 -10.309995     106.296002"
            ],
            "text/html": [
              "\n",
              "  <div id=\"df-a2ec651e-8132-415f-b1ca-4193ae440572\" class=\"colab-df-container\">\n",
              "    <div>\n",
              "<style scoped>\n",
              "    .dataframe tbody tr th:only-of-type {\n",
              "        vertical-align: middle;\n",
              "    }\n",
              "\n",
              "    .dataframe tbody tr th {\n",
              "        vertical-align: top;\n",
              "    }\n",
              "\n",
              "    .dataframe thead th {\n",
              "        text-align: right;\n",
              "    }\n",
              "</style>\n",
              "<table border=\"1\" class=\"dataframe\">\n",
              "  <thead>\n",
              "    <tr style=\"text-align: right;\">\n",
              "      <th></th>\n",
              "      <th>y_true</th>\n",
              "      <th>y_pred</th>\n",
              "      <th>error</th>\n",
              "      <th>error_squared</th>\n",
              "    </tr>\n",
              "  </thead>\n",
              "  <tbody>\n",
              "    <tr>\n",
              "      <th>0</th>\n",
              "      <td>109.934283</td>\n",
              "      <td>113.175123</td>\n",
              "      <td>-3.240840</td>\n",
              "      <td>10.503042</td>\n",
              "    </tr>\n",
              "    <tr>\n",
              "      <th>1</th>\n",
              "      <td>97.234714</td>\n",
              "      <td>93.383891</td>\n",
              "      <td>3.850823</td>\n",
              "      <td>14.828836</td>\n",
              "    </tr>\n",
              "    <tr>\n",
              "      <th>2</th>\n",
              "      <td>112.953771</td>\n",
              "      <td>106.184551</td>\n",
              "      <td>6.769220</td>\n",
              "      <td>45.822339</td>\n",
              "    </tr>\n",
              "    <tr>\n",
              "      <th>3</th>\n",
              "      <td>130.460597</td>\n",
              "      <td>136.577360</td>\n",
              "      <td>-6.116763</td>\n",
              "      <td>37.414788</td>\n",
              "    </tr>\n",
              "    <tr>\n",
              "      <th>4</th>\n",
              "      <td>95.316933</td>\n",
              "      <td>105.626928</td>\n",
              "      <td>-10.309995</td>\n",
              "      <td>106.296002</td>\n",
              "    </tr>\n",
              "  </tbody>\n",
              "</table>\n",
              "</div>\n",
              "    <div class=\"colab-df-buttons\">\n",
              "\n",
              "  <div class=\"colab-df-container\">\n",
              "    <button class=\"colab-df-convert\" onclick=\"convertToInteractive('df-a2ec651e-8132-415f-b1ca-4193ae440572')\"\n",
              "            title=\"Convert this dataframe to an interactive table.\"\n",
              "            style=\"display:none;\">\n",
              "\n",
              "  <svg xmlns=\"http://www.w3.org/2000/svg\" height=\"24px\" viewBox=\"0 -960 960 960\">\n",
              "    <path d=\"M120-120v-720h720v720H120Zm60-500h600v-160H180v160Zm220 220h160v-160H400v160Zm0 220h160v-160H400v160ZM180-400h160v-160H180v160Zm440 0h160v-160H620v160ZM180-180h160v-160H180v160Zm440 0h160v-160H620v160Z\"/>\n",
              "  </svg>\n",
              "    </button>\n",
              "\n",
              "  <style>\n",
              "    .colab-df-container {\n",
              "      display:flex;\n",
              "      gap: 12px;\n",
              "    }\n",
              "\n",
              "    .colab-df-convert {\n",
              "      background-color: #E8F0FE;\n",
              "      border: none;\n",
              "      border-radius: 50%;\n",
              "      cursor: pointer;\n",
              "      display: none;\n",
              "      fill: #1967D2;\n",
              "      height: 32px;\n",
              "      padding: 0 0 0 0;\n",
              "      width: 32px;\n",
              "    }\n",
              "\n",
              "    .colab-df-convert:hover {\n",
              "      background-color: #E2EBFA;\n",
              "      box-shadow: 0px 1px 2px rgba(60, 64, 67, 0.3), 0px 1px 3px 1px rgba(60, 64, 67, 0.15);\n",
              "      fill: #174EA6;\n",
              "    }\n",
              "\n",
              "    .colab-df-buttons div {\n",
              "      margin-bottom: 4px;\n",
              "    }\n",
              "\n",
              "    [theme=dark] .colab-df-convert {\n",
              "      background-color: #3B4455;\n",
              "      fill: #D2E3FC;\n",
              "    }\n",
              "\n",
              "    [theme=dark] .colab-df-convert:hover {\n",
              "      background-color: #434B5C;\n",
              "      box-shadow: 0px 1px 3px 1px rgba(0, 0, 0, 0.15);\n",
              "      filter: drop-shadow(0px 1px 2px rgba(0, 0, 0, 0.3));\n",
              "      fill: #FFFFFF;\n",
              "    }\n",
              "  </style>\n",
              "\n",
              "    <script>\n",
              "      const buttonEl =\n",
              "        document.querySelector('#df-a2ec651e-8132-415f-b1ca-4193ae440572 button.colab-df-convert');\n",
              "      buttonEl.style.display =\n",
              "        google.colab.kernel.accessAllowed ? 'block' : 'none';\n",
              "\n",
              "      async function convertToInteractive(key) {\n",
              "        const element = document.querySelector('#df-a2ec651e-8132-415f-b1ca-4193ae440572');\n",
              "        const dataTable =\n",
              "          await google.colab.kernel.invokeFunction('convertToInteractive',\n",
              "                                                    [key], {});\n",
              "        if (!dataTable) return;\n",
              "\n",
              "        const docLinkHtml = 'Like what you see? Visit the ' +\n",
              "          '<a target=\"_blank\" href=https://colab.research.google.com/notebooks/data_table.ipynb>data table notebook</a>'\n",
              "          + ' to learn more about interactive tables.';\n",
              "        element.innerHTML = '';\n",
              "        dataTable['output_type'] = 'display_data';\n",
              "        await google.colab.output.renderOutput(dataTable, element);\n",
              "        const docLink = document.createElement('div');\n",
              "        docLink.innerHTML = docLinkHtml;\n",
              "        element.appendChild(docLink);\n",
              "      }\n",
              "    </script>\n",
              "  </div>\n",
              "\n",
              "\n",
              "<div id=\"df-ce041cc8-10cf-46d3-a916-0ac879db73c5\">\n",
              "  <button class=\"colab-df-quickchart\" onclick=\"quickchart('df-ce041cc8-10cf-46d3-a916-0ac879db73c5')\"\n",
              "            title=\"Suggest charts.\"\n",
              "            style=\"display:none;\">\n",
              "\n",
              "<svg xmlns=\"http://www.w3.org/2000/svg\" height=\"24px\"viewBox=\"0 0 24 24\"\n",
              "     width=\"24px\">\n",
              "    <g>\n",
              "        <path d=\"M19 3H5c-1.1 0-2 .9-2 2v14c0 1.1.9 2 2 2h14c1.1 0 2-.9 2-2V5c0-1.1-.9-2-2-2zM9 17H7v-7h2v7zm4 0h-2V7h2v10zm4 0h-2v-4h2v4z\"/>\n",
              "    </g>\n",
              "</svg>\n",
              "  </button>\n",
              "\n",
              "<style>\n",
              "  .colab-df-quickchart {\n",
              "      --bg-color: #E8F0FE;\n",
              "      --fill-color: #1967D2;\n",
              "      --hover-bg-color: #E2EBFA;\n",
              "      --hover-fill-color: #174EA6;\n",
              "      --disabled-fill-color: #AAA;\n",
              "      --disabled-bg-color: #DDD;\n",
              "  }\n",
              "\n",
              "  [theme=dark] .colab-df-quickchart {\n",
              "      --bg-color: #3B4455;\n",
              "      --fill-color: #D2E3FC;\n",
              "      --hover-bg-color: #434B5C;\n",
              "      --hover-fill-color: #FFFFFF;\n",
              "      --disabled-bg-color: #3B4455;\n",
              "      --disabled-fill-color: #666;\n",
              "  }\n",
              "\n",
              "  .colab-df-quickchart {\n",
              "    background-color: var(--bg-color);\n",
              "    border: none;\n",
              "    border-radius: 50%;\n",
              "    cursor: pointer;\n",
              "    display: none;\n",
              "    fill: var(--fill-color);\n",
              "    height: 32px;\n",
              "    padding: 0;\n",
              "    width: 32px;\n",
              "  }\n",
              "\n",
              "  .colab-df-quickchart:hover {\n",
              "    background-color: var(--hover-bg-color);\n",
              "    box-shadow: 0 1px 2px rgba(60, 64, 67, 0.3), 0 1px 3px 1px rgba(60, 64, 67, 0.15);\n",
              "    fill: var(--button-hover-fill-color);\n",
              "  }\n",
              "\n",
              "  .colab-df-quickchart-complete:disabled,\n",
              "  .colab-df-quickchart-complete:disabled:hover {\n",
              "    background-color: var(--disabled-bg-color);\n",
              "    fill: var(--disabled-fill-color);\n",
              "    box-shadow: none;\n",
              "  }\n",
              "\n",
              "  .colab-df-spinner {\n",
              "    border: 2px solid var(--fill-color);\n",
              "    border-color: transparent;\n",
              "    border-bottom-color: var(--fill-color);\n",
              "    animation:\n",
              "      spin 1s steps(1) infinite;\n",
              "  }\n",
              "\n",
              "  @keyframes spin {\n",
              "    0% {\n",
              "      border-color: transparent;\n",
              "      border-bottom-color: var(--fill-color);\n",
              "      border-left-color: var(--fill-color);\n",
              "    }\n",
              "    20% {\n",
              "      border-color: transparent;\n",
              "      border-left-color: var(--fill-color);\n",
              "      border-top-color: var(--fill-color);\n",
              "    }\n",
              "    30% {\n",
              "      border-color: transparent;\n",
              "      border-left-color: var(--fill-color);\n",
              "      border-top-color: var(--fill-color);\n",
              "      border-right-color: var(--fill-color);\n",
              "    }\n",
              "    40% {\n",
              "      border-color: transparent;\n",
              "      border-right-color: var(--fill-color);\n",
              "      border-top-color: var(--fill-color);\n",
              "    }\n",
              "    60% {\n",
              "      border-color: transparent;\n",
              "      border-right-color: var(--fill-color);\n",
              "    }\n",
              "    80% {\n",
              "      border-color: transparent;\n",
              "      border-right-color: var(--fill-color);\n",
              "      border-bottom-color: var(--fill-color);\n",
              "    }\n",
              "    90% {\n",
              "      border-color: transparent;\n",
              "      border-bottom-color: var(--fill-color);\n",
              "    }\n",
              "  }\n",
              "</style>\n",
              "\n",
              "  <script>\n",
              "    async function quickchart(key) {\n",
              "      const quickchartButtonEl =\n",
              "        document.querySelector('#' + key + ' button');\n",
              "      quickchartButtonEl.disabled = true;  // To prevent multiple clicks.\n",
              "      quickchartButtonEl.classList.add('colab-df-spinner');\n",
              "      try {\n",
              "        const charts = await google.colab.kernel.invokeFunction(\n",
              "            'suggestCharts', [key], {});\n",
              "      } catch (error) {\n",
              "        console.error('Error during call to suggestCharts:', error);\n",
              "      }\n",
              "      quickchartButtonEl.classList.remove('colab-df-spinner');\n",
              "      quickchartButtonEl.classList.add('colab-df-quickchart-complete');\n",
              "    }\n",
              "    (() => {\n",
              "      let quickchartButtonEl =\n",
              "        document.querySelector('#df-ce041cc8-10cf-46d3-a916-0ac879db73c5 button');\n",
              "      quickchartButtonEl.style.display =\n",
              "        google.colab.kernel.accessAllowed ? 'block' : 'none';\n",
              "    })();\n",
              "  </script>\n",
              "</div>\n",
              "    </div>\n",
              "  </div>\n"
            ]
          },
          "metadata": {},
          "execution_count": 5
        }
      ]
    },
    {
      "cell_type": "code",
      "source": [
        "print(f\"MAE - mean absolute error: {results['error'].abs().sum() / len(results):.4f}\")\n",
        "\n",
        "print(f\"MSE - mean squared error: {results['error_squared'].sum() / len(results):.4f}\")\n",
        "\n",
        "print(f\"RMSE - root mean squared error: {np.sqrt(results['error_squared'].sum() / len(results)):.4f}\")"
      ],
      "metadata": {
        "colab": {
          "base_uri": "https://localhost:8080/"
        },
        "id": "vLpIq7L1ILRO",
        "outputId": "922aaeb9-2671-40aa-aa10-e29ed923fe60"
      },
      "execution_count": 6,
      "outputs": [
        {
          "output_type": "stream",
          "name": "stdout",
          "text": [
            "MAE - mean absolute error: 6.7918\n",
            "MSE - mean squared error: 74.9471\n",
            "RMSE - root mean squared error: 8.6572\n"
          ]
        }
      ]
    },
    {
      "cell_type": "markdown",
      "source": [
        "## Interpretacja graficzna"
      ],
      "metadata": {
        "id": "g-Trxu5QIQVM"
      }
    },
    {
      "cell_type": "code",
      "source": [
        "def plot_regression_results(y_true, y_pred):\n",
        "\n",
        "    results = pd.DataFrame({'y_true': y_true, 'y_pred': y_pred})\n",
        "    min = results[['y_true', 'y_pred']].min().min()\n",
        "    max = results[['y_true', 'y_pred']].max().max()\n",
        "\n",
        "    fig = go.Figure(data=[go.Scatter(x=results['y_true'], y=results['y_pred'], mode='markers'),\n",
        "                    go.Scatter(x=[min, max], y=[min, max])],\n",
        "                    layout=go.Layout(showlegend=False, width=800,\n",
        "                                     xaxis_title='y_true',\n",
        "                                     yaxis_title='y_pred',\n",
        "                                     title='Regresja: y_true vs. y_pred'))\n",
        "    fig.show()\n",
        "\n",
        "plot_regression_results(y_true, y_pred)"
      ],
      "metadata": {
        "colab": {
          "base_uri": "https://localhost:8080/",
          "height": 542
        },
        "id": "ZtyGp198IOUc",
        "outputId": "aea8f2e9-c4b2-482e-d554-cbb85d926350"
      },
      "execution_count": 7,
      "outputs": [
        {
          "output_type": "display_data",
          "data": {
            "text/html": [
              "<html>\n",
              "<head><meta charset=\"utf-8\" /></head>\n",
              "<body>\n",
              "    <div>            <script src=\"https://cdnjs.cloudflare.com/ajax/libs/mathjax/2.7.5/MathJax.js?config=TeX-AMS-MML_SVG\"></script><script type=\"text/javascript\">if (window.MathJax && window.MathJax.Hub && window.MathJax.Hub.Config) {window.MathJax.Hub.Config({SVG: {font: \"STIX-Web\"}});}</script>                <script type=\"text/javascript\">window.PlotlyConfig = {MathJaxConfig: 'local'};</script>\n",
              "        <script charset=\"utf-8\" src=\"https://cdn.plot.ly/plotly-2.24.1.min.js\"></script>                <div id=\"d5f279e5-baa2-4ed7-b68d-ba612756e64c\" class=\"plotly-graph-div\" style=\"height:525px; width:800px;\"></div>            <script type=\"text/javascript\">                                    window.PLOTLYENV=window.PLOTLYENV || {};                                    if (document.getElementById(\"d5f279e5-baa2-4ed7-b68d-ba612756e64c\")) {                    Plotly.newPlot(                        \"d5f279e5-baa2-4ed7-b68d-ba612756e64c\",                        [{\"mode\":\"markers\",\"x\":[109.93428306022466,97.2347139765763,112.95377076201385,130.46059712816052,95.31693250553329,95.3172608610164,131.58425631014782,115.34869458305818,90.61051228130096,110.8512008717193,90.73164614375075,90.68540492859486,104.83924543132068,61.73439510684404,65.50164334973934,88.75424941518054,79.74337759331152,106.28494665190547,81.83951848957578,71.75392597329417,129.31297537843108,95.4844739902693,101.35056409375848,71.50503627573087,89.11234550949635,102.21845179419732,76.98012845155395,107.51396036691344,87.9872262016239,94.16612500413447,87.96586775541206,137.04556369017877,99.73005550524132,78.84578142088199,116.45089824206377,75.58312700057955,104.1772719000951,60.80659752240449,73.43627902203139,103.93722471738246,114.76933159990821,103.4273656237994,97.68703435223519,93.97792608821422,70.42956019265145,85.60311583210583,90.78722458080425,121.1424445243783,106.87236579136923,64.73919689274533],\"y\":[113.1751227541726,93.38389117241314,106.18455075895426,136.5773600165692,105.6269277304928,104.63006205217837,123.19208107792144,112.25657082454603,93.92314659533659,120.60665214294289,85.93990376529786,88.8288151619567,93.77589569126039,49.772328866037334,73.62690157368132,102.31664970088877,79.02327637750818,116.3202756308257,85.45587874005213,65.30272842724293,132.92693143351522,110.86483965492899,100.99230370265896,87.15147283387094,62.9148944685989,110.43747683794956,77.85059913393566,104.52388686225476,88.90483396697893,74.29043585812555,85.76914887703694,140.61668940529623,114.50899595265649,73.66307923814551,108.3659622131319,70.56555656473418,113.33129307711584,64.09410861900133,68.138676984361,109.06989904851602,115.74010709338862,113.11381552912829,90.66650341346167,90.70130462223653,66.50847866132987,70.96796635078465,93.74842735145,123.7529972461772,106.92350035779384,62.39332555899386],\"type\":\"scatter\"},{\"x\":[49.772328866037334,140.61668940529623],\"y\":[49.772328866037334,140.61668940529623],\"type\":\"scatter\"}],                        {\"showlegend\":false,\"title\":{\"text\":\"Regresja: y_true vs. y_pred\"},\"width\":800,\"xaxis\":{\"title\":{\"text\":\"y_true\"}},\"yaxis\":{\"title\":{\"text\":\"y_pred\"}},\"template\":{\"data\":{\"histogram2dcontour\":[{\"type\":\"histogram2dcontour\",\"colorbar\":{\"outlinewidth\":0,\"ticks\":\"\"},\"colorscale\":[[0.0,\"#0d0887\"],[0.1111111111111111,\"#46039f\"],[0.2222222222222222,\"#7201a8\"],[0.3333333333333333,\"#9c179e\"],[0.4444444444444444,\"#bd3786\"],[0.5555555555555556,\"#d8576b\"],[0.6666666666666666,\"#ed7953\"],[0.7777777777777778,\"#fb9f3a\"],[0.8888888888888888,\"#fdca26\"],[1.0,\"#f0f921\"]]}],\"choropleth\":[{\"type\":\"choropleth\",\"colorbar\":{\"outlinewidth\":0,\"ticks\":\"\"}}],\"histogram2d\":[{\"type\":\"histogram2d\",\"colorbar\":{\"outlinewidth\":0,\"ticks\":\"\"},\"colorscale\":[[0.0,\"#0d0887\"],[0.1111111111111111,\"#46039f\"],[0.2222222222222222,\"#7201a8\"],[0.3333333333333333,\"#9c179e\"],[0.4444444444444444,\"#bd3786\"],[0.5555555555555556,\"#d8576b\"],[0.6666666666666666,\"#ed7953\"],[0.7777777777777778,\"#fb9f3a\"],[0.8888888888888888,\"#fdca26\"],[1.0,\"#f0f921\"]]}],\"heatmap\":[{\"type\":\"heatmap\",\"colorbar\":{\"outlinewidth\":0,\"ticks\":\"\"},\"colorscale\":[[0.0,\"#0d0887\"],[0.1111111111111111,\"#46039f\"],[0.2222222222222222,\"#7201a8\"],[0.3333333333333333,\"#9c179e\"],[0.4444444444444444,\"#bd3786\"],[0.5555555555555556,\"#d8576b\"],[0.6666666666666666,\"#ed7953\"],[0.7777777777777778,\"#fb9f3a\"],[0.8888888888888888,\"#fdca26\"],[1.0,\"#f0f921\"]]}],\"heatmapgl\":[{\"type\":\"heatmapgl\",\"colorbar\":{\"outlinewidth\":0,\"ticks\":\"\"},\"colorscale\":[[0.0,\"#0d0887\"],[0.1111111111111111,\"#46039f\"],[0.2222222222222222,\"#7201a8\"],[0.3333333333333333,\"#9c179e\"],[0.4444444444444444,\"#bd3786\"],[0.5555555555555556,\"#d8576b\"],[0.6666666666666666,\"#ed7953\"],[0.7777777777777778,\"#fb9f3a\"],[0.8888888888888888,\"#fdca26\"],[1.0,\"#f0f921\"]]}],\"contourcarpet\":[{\"type\":\"contourcarpet\",\"colorbar\":{\"outlinewidth\":0,\"ticks\":\"\"}}],\"contour\":[{\"type\":\"contour\",\"colorbar\":{\"outlinewidth\":0,\"ticks\":\"\"},\"colorscale\":[[0.0,\"#0d0887\"],[0.1111111111111111,\"#46039f\"],[0.2222222222222222,\"#7201a8\"],[0.3333333333333333,\"#9c179e\"],[0.4444444444444444,\"#bd3786\"],[0.5555555555555556,\"#d8576b\"],[0.6666666666666666,\"#ed7953\"],[0.7777777777777778,\"#fb9f3a\"],[0.8888888888888888,\"#fdca26\"],[1.0,\"#f0f921\"]]}],\"surface\":[{\"type\":\"surface\",\"colorbar\":{\"outlinewidth\":0,\"ticks\":\"\"},\"colorscale\":[[0.0,\"#0d0887\"],[0.1111111111111111,\"#46039f\"],[0.2222222222222222,\"#7201a8\"],[0.3333333333333333,\"#9c179e\"],[0.4444444444444444,\"#bd3786\"],[0.5555555555555556,\"#d8576b\"],[0.6666666666666666,\"#ed7953\"],[0.7777777777777778,\"#fb9f3a\"],[0.8888888888888888,\"#fdca26\"],[1.0,\"#f0f921\"]]}],\"mesh3d\":[{\"type\":\"mesh3d\",\"colorbar\":{\"outlinewidth\":0,\"ticks\":\"\"}}],\"scatter\":[{\"fillpattern\":{\"fillmode\":\"overlay\",\"size\":10,\"solidity\":0.2},\"type\":\"scatter\"}],\"parcoords\":[{\"type\":\"parcoords\",\"line\":{\"colorbar\":{\"outlinewidth\":0,\"ticks\":\"\"}}}],\"scatterpolargl\":[{\"type\":\"scatterpolargl\",\"marker\":{\"colorbar\":{\"outlinewidth\":0,\"ticks\":\"\"}}}],\"bar\":[{\"error_x\":{\"color\":\"#2a3f5f\"},\"error_y\":{\"color\":\"#2a3f5f\"},\"marker\":{\"line\":{\"color\":\"#E5ECF6\",\"width\":0.5},\"pattern\":{\"fillmode\":\"overlay\",\"size\":10,\"solidity\":0.2}},\"type\":\"bar\"}],\"scattergeo\":[{\"type\":\"scattergeo\",\"marker\":{\"colorbar\":{\"outlinewidth\":0,\"ticks\":\"\"}}}],\"scatterpolar\":[{\"type\":\"scatterpolar\",\"marker\":{\"colorbar\":{\"outlinewidth\":0,\"ticks\":\"\"}}}],\"histogram\":[{\"marker\":{\"pattern\":{\"fillmode\":\"overlay\",\"size\":10,\"solidity\":0.2}},\"type\":\"histogram\"}],\"scattergl\":[{\"type\":\"scattergl\",\"marker\":{\"colorbar\":{\"outlinewidth\":0,\"ticks\":\"\"}}}],\"scatter3d\":[{\"type\":\"scatter3d\",\"line\":{\"colorbar\":{\"outlinewidth\":0,\"ticks\":\"\"}},\"marker\":{\"colorbar\":{\"outlinewidth\":0,\"ticks\":\"\"}}}],\"scattermapbox\":[{\"type\":\"scattermapbox\",\"marker\":{\"colorbar\":{\"outlinewidth\":0,\"ticks\":\"\"}}}],\"scatterternary\":[{\"type\":\"scatterternary\",\"marker\":{\"colorbar\":{\"outlinewidth\":0,\"ticks\":\"\"}}}],\"scattercarpet\":[{\"type\":\"scattercarpet\",\"marker\":{\"colorbar\":{\"outlinewidth\":0,\"ticks\":\"\"}}}],\"carpet\":[{\"aaxis\":{\"endlinecolor\":\"#2a3f5f\",\"gridcolor\":\"white\",\"linecolor\":\"white\",\"minorgridcolor\":\"white\",\"startlinecolor\":\"#2a3f5f\"},\"baxis\":{\"endlinecolor\":\"#2a3f5f\",\"gridcolor\":\"white\",\"linecolor\":\"white\",\"minorgridcolor\":\"white\",\"startlinecolor\":\"#2a3f5f\"},\"type\":\"carpet\"}],\"table\":[{\"cells\":{\"fill\":{\"color\":\"#EBF0F8\"},\"line\":{\"color\":\"white\"}},\"header\":{\"fill\":{\"color\":\"#C8D4E3\"},\"line\":{\"color\":\"white\"}},\"type\":\"table\"}],\"barpolar\":[{\"marker\":{\"line\":{\"color\":\"#E5ECF6\",\"width\":0.5},\"pattern\":{\"fillmode\":\"overlay\",\"size\":10,\"solidity\":0.2}},\"type\":\"barpolar\"}],\"pie\":[{\"automargin\":true,\"type\":\"pie\"}]},\"layout\":{\"autotypenumbers\":\"strict\",\"colorway\":[\"#636efa\",\"#EF553B\",\"#00cc96\",\"#ab63fa\",\"#FFA15A\",\"#19d3f3\",\"#FF6692\",\"#B6E880\",\"#FF97FF\",\"#FECB52\"],\"font\":{\"color\":\"#2a3f5f\"},\"hovermode\":\"closest\",\"hoverlabel\":{\"align\":\"left\"},\"paper_bgcolor\":\"white\",\"plot_bgcolor\":\"#E5ECF6\",\"polar\":{\"bgcolor\":\"#E5ECF6\",\"angularaxis\":{\"gridcolor\":\"white\",\"linecolor\":\"white\",\"ticks\":\"\"},\"radialaxis\":{\"gridcolor\":\"white\",\"linecolor\":\"white\",\"ticks\":\"\"}},\"ternary\":{\"bgcolor\":\"#E5ECF6\",\"aaxis\":{\"gridcolor\":\"white\",\"linecolor\":\"white\",\"ticks\":\"\"},\"baxis\":{\"gridcolor\":\"white\",\"linecolor\":\"white\",\"ticks\":\"\"},\"caxis\":{\"gridcolor\":\"white\",\"linecolor\":\"white\",\"ticks\":\"\"}},\"coloraxis\":{\"colorbar\":{\"outlinewidth\":0,\"ticks\":\"\"}},\"colorscale\":{\"sequential\":[[0.0,\"#0d0887\"],[0.1111111111111111,\"#46039f\"],[0.2222222222222222,\"#7201a8\"],[0.3333333333333333,\"#9c179e\"],[0.4444444444444444,\"#bd3786\"],[0.5555555555555556,\"#d8576b\"],[0.6666666666666666,\"#ed7953\"],[0.7777777777777778,\"#fb9f3a\"],[0.8888888888888888,\"#fdca26\"],[1.0,\"#f0f921\"]],\"sequentialminus\":[[0.0,\"#0d0887\"],[0.1111111111111111,\"#46039f\"],[0.2222222222222222,\"#7201a8\"],[0.3333333333333333,\"#9c179e\"],[0.4444444444444444,\"#bd3786\"],[0.5555555555555556,\"#d8576b\"],[0.6666666666666666,\"#ed7953\"],[0.7777777777777778,\"#fb9f3a\"],[0.8888888888888888,\"#fdca26\"],[1.0,\"#f0f921\"]],\"diverging\":[[0,\"#8e0152\"],[0.1,\"#c51b7d\"],[0.2,\"#de77ae\"],[0.3,\"#f1b6da\"],[0.4,\"#fde0ef\"],[0.5,\"#f7f7f7\"],[0.6,\"#e6f5d0\"],[0.7,\"#b8e186\"],[0.8,\"#7fbc41\"],[0.9,\"#4d9221\"],[1,\"#276419\"]]},\"xaxis\":{\"gridcolor\":\"white\",\"linecolor\":\"white\",\"ticks\":\"\",\"title\":{\"standoff\":15},\"zerolinecolor\":\"white\",\"automargin\":true,\"zerolinewidth\":2},\"yaxis\":{\"gridcolor\":\"white\",\"linecolor\":\"white\",\"ticks\":\"\",\"title\":{\"standoff\":15},\"zerolinecolor\":\"white\",\"automargin\":true,\"zerolinewidth\":2},\"scene\":{\"xaxis\":{\"backgroundcolor\":\"#E5ECF6\",\"gridcolor\":\"white\",\"linecolor\":\"white\",\"showbackground\":true,\"ticks\":\"\",\"zerolinecolor\":\"white\",\"gridwidth\":2},\"yaxis\":{\"backgroundcolor\":\"#E5ECF6\",\"gridcolor\":\"white\",\"linecolor\":\"white\",\"showbackground\":true,\"ticks\":\"\",\"zerolinecolor\":\"white\",\"gridwidth\":2},\"zaxis\":{\"backgroundcolor\":\"#E5ECF6\",\"gridcolor\":\"white\",\"linecolor\":\"white\",\"showbackground\":true,\"ticks\":\"\",\"zerolinecolor\":\"white\",\"gridwidth\":2}},\"shapedefaults\":{\"line\":{\"color\":\"#2a3f5f\"}},\"annotationdefaults\":{\"arrowcolor\":\"#2a3f5f\",\"arrowhead\":0,\"arrowwidth\":1},\"geo\":{\"bgcolor\":\"white\",\"landcolor\":\"#E5ECF6\",\"subunitcolor\":\"white\",\"showland\":true,\"showlakes\":true,\"lakecolor\":\"white\"},\"title\":{\"x\":0.05},\"mapbox\":{\"style\":\"light\"}}}},                        {\"responsive\": true}                    ).then(function(){\n",
              "                            \n",
              "var gd = document.getElementById('d5f279e5-baa2-4ed7-b68d-ba612756e64c');\n",
              "var x = new MutationObserver(function (mutations, observer) {{\n",
              "        var display = window.getComputedStyle(gd).display;\n",
              "        if (!display || display === 'none') {{\n",
              "            console.log([gd, 'removed!']);\n",
              "            Plotly.purge(gd);\n",
              "            observer.disconnect();\n",
              "        }}\n",
              "}});\n",
              "\n",
              "// Listen for the removal of the full notebook cells\n",
              "var notebookContainer = gd.closest('#notebook-container');\n",
              "if (notebookContainer) {{\n",
              "    x.observe(notebookContainer, {childList: true});\n",
              "}}\n",
              "\n",
              "// Listen for the clearing of the current output cell\n",
              "var outputEl = gd.closest('.output');\n",
              "if (outputEl) {{\n",
              "    x.observe(outputEl, {childList: true});\n",
              "}}\n",
              "\n",
              "                        })                };                            </script>        </div>\n",
              "</body>\n",
              "</html>"
            ]
          },
          "metadata": {}
        }
      ]
    },
    {
      "cell_type": "code",
      "source": [
        "y_true = 100 + 20 * np.random.randn(1000)\n",
        "y_pred = y_true + 10 * np.random.randn(1000)\n",
        "\n",
        "results = pd.DataFrame({'y_true': y_true, 'y_pred': y_pred})\n",
        "results['error'] = results['y_true'] - results['y_pred']\n",
        "\n",
        "px.histogram(results, x='error', nbins=50, width=800)"
      ],
      "metadata": {
        "colab": {
          "base_uri": "https://localhost:8080/",
          "height": 542
        },
        "id": "94hTBAq6IV73",
        "outputId": "49ca31a5-aa4d-4e87-ae37-f97f1d5822e9"
      },
      "execution_count": 8,
      "outputs": [
        {
          "output_type": "display_data",
          "data": {
            "text/html": [
              "<html>\n",
              "<head><meta charset=\"utf-8\" /></head>\n",
              "<body>\n",
              "    <div>            <script src=\"https://cdnjs.cloudflare.com/ajax/libs/mathjax/2.7.5/MathJax.js?config=TeX-AMS-MML_SVG\"></script><script type=\"text/javascript\">if (window.MathJax && window.MathJax.Hub && window.MathJax.Hub.Config) {window.MathJax.Hub.Config({SVG: {font: \"STIX-Web\"}});}</script>                <script type=\"text/javascript\">window.PlotlyConfig = {MathJaxConfig: 'local'};</script>\n",
              "        <script charset=\"utf-8\" src=\"https://cdn.plot.ly/plotly-2.24.1.min.js\"></script>                <div id=\"080c20da-5a45-46de-98db-d6c68db041d8\" class=\"plotly-graph-div\" style=\"height:525px; width:800px;\"></div>            <script type=\"text/javascript\">                                    window.PLOTLYENV=window.PLOTLYENV || {};                                    if (document.getElementById(\"080c20da-5a45-46de-98db-d6c68db041d8\")) {                    Plotly.newPlot(                        \"080c20da-5a45-46de-98db-d6c68db041d8\",                        [{\"alignmentgroup\":\"True\",\"bingroup\":\"x\",\"hovertemplate\":\"error=%{x}\\u003cbr\\u003ecount=%{y}\\u003cextra\\u003e\\u003c\\u002fextra\\u003e\",\"legendgroup\":\"\",\"marker\":{\"color\":\"#636efa\",\"pattern\":{\"shape\":\"\"}},\"name\":\"\",\"nbinsx\":50,\"offsetgroup\":\"\",\"orientation\":\"v\",\"showlegend\":false,\"x\":[-9.98010109859652,28.96255378193689,-20.883747047807276,1.3958962815517424,-11.081828167375164,10.399059271255311,-6.127739050625706,10.534155631736567,6.237689606958057,-19.140313538667854,1.9068240076334675,-2.1743287317972317,-8.700677306887542,-4.9568188797260575,-1.504189051435759,-3.649610024662252,-24.034155852382753,0.5761879703358517,-2.010990467149682,-10.506543960076115,-11.05525932957984,-11.870303055603799,-6.3873022202918435,11.430049127304834,-16.33431532301097,11.463453930186887,-3.0263546523903386,7.542758500193585,0.6413834659299198,-3.2876241030348012,-3.213572154502728,-4.219207542352848,-16.137112690586463,-4.5353430151398015,2.4415663529064915,-9.640871682883585,-11.894704889246398,12.27607815136993,-5.974000698498585,-7.0117274231089795,2.9756350335999144,-13.757068133116206,1.5005558703252717,-1.255764534715425,1.730718242838691,-0.1557904758146691,10.962750868952014,14.400508825942943,-15.945050632249718,8.46961348318328,9.913923494563065,21.533901136037144,6.389617476895026,13.230897934074989,-16.420151601363685,-10.098170893426342,6.881503451777235,-22.52435805344308,-9.817654869915941,3.248313835086222,24.994057148735735,-22.90942572590741,13.89572466763596,16.453987469568915,-10.225704320096398,-24.397524063392737,-13.842728185105187,-5.639091200523609,-5.947543416652863,-8.53415558780307,-7.589285897867654,-2.8119142396937633,-1.042011039518755,0.6259312789952247,7.539645888666769,2.80675076866774,16.92956814195385,0.9833962679475121,9.88591107150917,11.0358931721577,-1.7989415115347782,-13.920022863445993,-9.183166060023126,15.705006036231765,9.896281365703373,-9.407711879882157,9.824873935383096,2.246331499970239,-5.500520990245519,9.683444548636352,-1.0537550614595972,13.34025494918204,6.013676439512139,-3.1978193414253724,15.929937335316694,-4.4047473796039895,0.19637798926680716,-5.524899544171475,-2.2391413406466114,-13.64140429973844,-1.2522450264790734,4.294055411252529,-1.2229750303228428,-5.432980290363886,-0.48860070325704896,-0.4059169120388191,7.019916878067548,6.629009175509481,14.026052717996933,-17.495767431869382,12.438632353912851,6.929051977959077,7.184072655691978,-8.949243769444408,2.949496782920278,-12.477420726737336,6.734906242438683,-2.7899416222380182,8.35347053259757,-21.45149127773388,11.875984190295128,-3.0982071022702726,-6.337768809320991,-4.137990974514977,1.8528765887770788,1.2982069973342618,-0.43811471979110195,1.4700200162848915,-9.638791167949094,-22.105230015913506,5.574917850078336,13.698029795790774,0.8828204835125462,-25.797093376543188,8.036745679697304,-16.39116805444067,-16.77700814076441,5.5358824170799465,-5.689830791852756,-16.283966231285376,3.7912774098748656,2.0358036010236162,5.816809139486438,10.147567306928664,6.492775450660076,12.23940266762257,-0.34083468259225924,7.699732310586413,-2.3378591179074704,15.558956462036278,-3.3088023221445724,-8.335289616089241,19.937356425714555,-3.74056569847572,-12.27668992473292,12.096410186912053,-16.725723868377045,-4.190190093660448,7.050118557584085,0.5576907765770613,-5.583269125217228,-0.7600539141241143,-5.3875599244636945,9.20673593079367,-1.6936082403607742,14.1371449690498,1.1122606134869955,9.039076414647894,7.35529942589767,-12.360931752104378,-10.913101205942695,-6.09138120907177,10.923127646725789,3.1640844969480213,-12.130976999791827,-1.4171691363990533,-23.193295399816947,-3.93317839394372,-1.9204911649003122,3.0911646420250207,-1.3354090478228215,1.5246983638054417,-7.081086766885903,-9.567023167945848,7.859894605079489,13.312329535577781,18.362053731032972,-5.079913269125441,11.033666061738728,21.528905929524825,-3.8857860453096436,-24.929995174327914,0.060709115398935865,-8.384907744516411,-0.8182935854756437,0.988896531911422,-9.19076482987768,2.902745441886509,-2.673923140719026,-3.216978061960134,6.680904536430489,-9.920423495365227,1.7495975669540798,7.557451594928452,-5.365098435704041,8.984679817910376,-0.28181157369128584,0.09118996644203037,-10.858955658315779,-4.7469823287995325,0.25026958745144157,-8.17766299200288,-13.902075490173132,-5.5781030635186255,-0.10352619843381206,13.1183623235016,10.651136630753726,3.0522470435466715,6.095122021592829,1.8697130298544664,-0.5664992489710698,-5.296927543567307,0.7049877805909119,-4.865016438262018,-0.6447441481011964,19.754665663538717,9.393353938187545,1.4408755572161596,12.09694742841107,-5.999287299962049,-15.307508323436977,-12.187618516973174,2.1344287093020853,-14.907261368499519,-1.4866745720211156,3.370859711180387,6.134026635409398,3.024696864881278,3.881768185412284,-1.704162223754878,-1.6057398104986476,-0.030460201534140197,-4.369381697463496,-11.906462747863415,-9.495541354413234,14.848979684499042,25.539211349019553,-9.343199112392739,13.66878698415421,2.2476540189268377,11.701130260593601,18.01980437580019,-5.414627282047874,-7.591551603026474,5.7651040072671975,25.910422921449097,5.46244448252483,-3.918040054025468,14.789115687741287,-1.833599197791557,0.15309849172994916,-5.792914996010893,-1.1958036841415378,9.73068940881555,-11.965715016644921,1.5852957302697064,0.2730453950993166,9.332679590731956,4.432822511915106,8.84802714026901,1.7294605992342298,-17.11708480142343,13.719011429313568,16.13561397876741,-14.711703274936099,2.0932367715186615,6.690727386599164,-10.39904687396077,6.056155397368627,-18.260097135469366,-6.779258713392693,4.879114081457033,-21.57308213265503,6.057149230033389,-7.420953720093067,-2.9929258040649245,-13.01741289398798,-15.615111967268518,-0.3200414906576725,7.5341787034618335,-4.599721429391167,6.777153697521058,-20.13387247526623,-1.3653533108273734,3.653215513121083,-1.846803058649087,13.471262895296967,9.716140385106513,-12.004139079444258,6.568942789713958,10.469109826819398,-5.366527525272858,-11.857041546629972,-7.189533106650671,-9.960476858058158,7.5679508856946,14.21810666741844,-15.01333651955487,3.226798388421358,2.508330164550472,-13.281941418490575,-5.562300094006602,-4.558877720816071,-21.650023449010845,6.435182303801426,-9.278401280812375,-0.5701312489708528,-2.685922788632567,-15.284684264125318,-5.078357562896244,-5.382960790496327,-10.725073373098013,3.649527295428854,8.392096673390057,10.448091940210332,19.663565893760023,-20.562071299403215,11.03208365721683,2.2125362358577263,2.7681329988892074,-3.074066978091011,-8.157372125392968,-8.604734883597459,5.830774385689381,1.6712171378641187,-2.825799504882994,2.4869112618354734,-16.073455760199934,-4.909749516382519,-7.348777860498174,-6.628812686674124,-11.734738574853253,-1.8102155870370709,12.96831947955846,-3.996879517526409,6.5135689379182935,5.286166817497573,-5.863640187550928,-12.382830714336365,-0.2127157673606206,-3.0883301259896427,-17.022149446352387,-2.407531794885685,-26.016831141803962,-5.655096456315448,17.607627591558185,-7.533416211045321,-3.8115838488277802,-12.897527540827454,-6.731813512699588,1.384559839837749,12.242982362893656,2.090232572860259,8.505204542092997,5.805234498047227,-5.8857840442060905,-16.699045043514076,-3.9467152982298046,11.958830620351847,-4.446026682201406,-11.966314866456514,6.097829043193819,1.3401716667291765,-0.14688194729197335,7.848983130822404,-6.482804338438598,1.20948148607782,-4.195324439070276,8.87492177802099,4.3745830032341075,-7.2238135782777135,3.7283315209176635,-17.269638512334055,3.9963618561460237,-2.2468472575188656,-9.325908318730896,14.183657329330316,17.60808811980776,15.256563145700952,-12.62584103427183,5.518581458924473,-25.58199285668252,5.642475986573885,-1.8455130319703699,-15.421099525678756,-20.060928881591224,-20.615035766363974,-12.083662305931426,-10.240625258114619,-5.925269492011836,-7.783610761666381,5.5118571632853275,8.18198883422307,0.033744574109519476,1.7018462252492839,4.532280493272751,-6.963874474567149,-9.553052085705104,-0.8840688629184683,-14.775300810552622,11.416891141335043,1.936594592797178,7.1682232060280455,18.6653661707306,0.8268068584269912,1.2174750838328379,-15.134497432421313,-6.308116845547772,10.241868243292046,-18.54092566334188,-12.210336955253524,-5.820977034686152,2.264840988498321,9.594392367234803,3.72206776071053,-10.887486197041866,-18.845863059346087,-15.432435282721883,4.888494217862743,11.19617433289011,-1.4088624691120373,17.68439365562851,-3.231677141847811,1.4760258629866883,4.660365018682427,15.94703067266795,-5.136001065697172,5.327008396619121,11.699168357102877,28.722622132816497,0.2751490505063572,-17.722515966697443,-16.6125921454787,4.570962565862715,6.022120603617807,-4.687742560750237,9.983854391882915,-3.0179189981946593,-7.660802783846904,-12.269332238843077,1.001540764799529,2.0367375017696645,8.779825867565606,8.268803540398608,2.264788919015274,-3.6736550681617786,-9.135846262332493,8.031789506803449,-14.92688568959521,2.7112360104256936,0.2136729434843545,7.472116791478243,24.242402602729413,-8.8404539636105,-7.3684389709243305,2.813275571182132,-0.6699071722487204,-5.159392177040999,15.625458568865426,5.290526773462943,-7.94264679621827,12.542894231692486,-2.935579321666296,13.565818046234043,-4.664299824335259,0.35641482297483407,16.151318159055094,-11.647393544571713,7.345915767980493,8.102524370143811,-2.0056919723094353,-11.48637349428715,10.158218189783966,-0.6167984984797101,-4.2881650033057355,-6.931056072631435,-1.764415552772249,3.670278390833218,8.275902206487203,-0.8614388304637544,10.721390119856068,29.21350483494607,-4.365598041576675,-9.039348410861948,23.62932435541839,10.097307047099378,-6.191542610051982,-20.574954697116993,-0.20793707675407802,7.280029412291341,1.8289644110484033,-13.748764191481854,6.45964179124536,7.99192006650253,4.827435221820323,9.533286082587125,-1.2267031599479594,-16.246784584695604,-3.2307927311602924,2.523535021262873,2.9181126891554356,15.631908086966575,-8.83109777147159,0.7783719701280205,1.8047991359062507,-31.931075678448607,-2.9875290836568666,7.517910500951842,4.263575962055427,-11.484457091967556,-1.1327041053776412,14.382779783173675,-9.192289345752044,6.681440855389937,-18.732977762175466,-10.80048065714648,4.473218956587516,-12.810163617351122,-0.6785551052740288,-8.527736751222193,-4.847328172944742,8.463566549908734,6.435498323174613,-10.299608175811613,3.3477533210654116,4.03648463241997,9.55122579349353,-4.235990655934614,-20.625249192431454,10.67532914254273,-0.24219456672757644,-14.122205554154277,0.7964139124571545,-4.523717962497344,10.623935281468789,-4.283070972076487,1.8714426500454877,-9.857299956798627,-11.873860515647507,-25.895636420186136,-5.796331732135769,-3.257963165821664,-1.9438430157733535,3.5316629281068828,-3.38483843461691,2.9540141013902996,-1.684609762696141,-13.17597535607959,10.065425652796407,-11.39878561129045,-13.171150673398657,1.1806852699107822,21.21854899008595,6.078219870944324,-12.96994546561109,0.22868062298881853,9.993022322949102,5.04774921228217,-8.406200265045527,-5.467335682013797,2.3893209916969482,3.6682441181468732,3.9175814904382236,9.224101844985029,-16.153756894694425,3.2232046921133986,-12.171585208254967,-15.213160519224516,-9.983108981479603,4.316203127180486,-4.037300903366102,0.24195606390915714,9.037018607301277,-3.243592817216026,11.79039791159802,-11.876793884615637,4.646172972983933,-2.0115965587283995,-2.832878715461419,2.5890497370407672,-5.866938014752748,4.749036566225243,-8.712972974572438,13.45979680246748,-1.2637957954641195,-19.389289990582853,10.00331324605574,6.7774497052485145,-5.13907849658915,-1.7958178193959782,-3.5063009927355893,-4.891871301476641,-6.3472146856177005,-11.096998419562226,-4.098186569285133,2.41257654618542,-6.7257370120273094,-18.998819348952168,1.3263374638257375,9.745293046706422,-11.070806692869724,1.203811639535985,21.726695460140363,-8.474216771504217,5.353281859539223,0.9053328230416042,-3.3198033056901437,-1.904996797790659,-7.094518171390391,4.354863705698435,-5.131057981760833,2.5954667758391707,-7.388104808875028,-6.153674840130535,9.354387020445955,-10.859821161750318,5.359634451140479,-8.080577982811448,-3.6728731340134004,-18.381836767951228,2.2346598237185162,3.4931679611819817,0.19419605887732416,3.0317978283427536,-7.999419019420486,16.16310608436588,10.536824191463538,10.678029215791923,-9.50307591973575,-17.106133725819262,1.0444921853747147,1.6882172319001114,-0.7005216311318208,-11.6187830260819,9.273531341905738,-2.383689827347851,-9.7519762978243,-5.010941699398458,-1.8958161659874406,-10.01046092567141,27.032322929992375,-6.778753195309079,6.540756831274237,18.30632896856457,-5.112025995249809,-13.736585451629566,1.3744851462769248,-9.528745472029385,-16.122782579886447,-13.149144535840477,-16.39964529371393,-7.421274910718921,-0.7543363890159185,16.01965811897169,2.4606248812994806,8.432465953161923,-21.70942717497813,1.7588581243233534,-1.2320480678448575,-5.514853760404662,-0.43602446372453585,-16.950510404307522,6.2264936173445165,-1.9460745523724228,7.424705856980481,13.200225112207058,6.117690909052854,0.37036797048412495,4.293022245172594,6.924209798738559,14.063174636718344,0.831055726286948,15.047203740310025,-7.600559636896023,-0.8243975293450347,14.57551499464931,3.092090770498629,7.521564055905827,-3.19174510419181,-13.40450446023145,18.751724696457444,-1.1502607914741674,1.601327955666406,-6.713400764504655,-2.1319662823768937,7.519693317388189,3.1905393566661786,7.960258568034888,-10.760071385985981,-0.21311648671942862,-19.01190685753008,0.6066081381462141,7.084067669104627,15.137143926128275,18.031396762559453,15.841359430054894,-2.671266510114833,-5.08725023229934,15.811907020321328,-8.950383140761147,4.830610516834398,-1.4679301198554953,-16.12220628255423,-8.968393158655317,2.685306479058326,8.91192225415287,21.518154013293056,7.1915331924242025,2.1113023882769397,9.871795271511843,1.3125696709230539,-0.7685188295876912,2.2485598180807926,6.5000258082345965,-1.6865467196672768,-4.419406495694091,10.903990774428465,-14.109323797462707,0.9858813228426158,-0.1884962294484751,-7.082144232565568,-2.332161312635023,-9.531366339132447,-2.8712416520182416,6.124373746404373,-3.61503525206102,11.437262073206625,-1.0855970577652272,0.3322999064446037,2.081168572725403,1.2853751143893106,18.8184904549764,5.487249077409615,-0.9284490114111463,-1.5985639199739978,10.276751409259589,-12.65707840864701,8.661748482145015,-9.69457200526736,-4.271943618716847,6.4622730984380325,-17.753108926095123,11.9363683175648,-9.191541736100021,-10.005823180429786,6.706202090766453,-13.92465300064329,2.500465145989523,-2.8869362927985662,-2.6032183877122037,1.3430874147054794,-8.108082731597818,-7.934887205522131,17.48531973238181,-13.04340242878152,16.624919880356742,-10.325462043416579,-11.26705136827583,10.909664302151981,4.108142879545852,11.057046684859358,2.1492103028873544,3.0803428418574157,-7.796605322693395,-13.103087461196083,-13.956838107899557,5.621680265783027,2.092218737445279,16.834381922209502,8.05870066496189,-9.648516330974587,-16.155828235482318,12.343488718799222,5.9246425915289365,0.2640575695892693,-2.8016115881960673,8.096035199216459,-4.240610444640893,4.7383934707091555,0.1445227087827874,-5.462842480036997,-0.06422269810937564,4.363858905265687,1.0960980392583082,0.883629592053353,3.700110298821272,2.58796062667102,-15.986471705047165,-5.6091944794123805,2.9548031802916057,-6.969544045107355,3.3381948975601006,-11.73124637586642,-3.696421921980928,1.0730214400422824,-4.477169258102776,15.708761520684995,11.267674689098058,11.939250063990556,-1.4294309476370586,-17.325149994850918,-22.31300146192632,-6.380511014407574,-5.008444749444578,18.010577341527394,5.4267379973402115,7.877837519082391,6.20847598251116,1.6814381858478953,4.7209057769712786,19.79299810375788,-7.479102561175338,10.727430257398069,-2.392468641111492,-20.740826697499728,9.19384591586423,25.302875227463296,2.8600422188011123,-11.009596349985713,-19.583474542205934,12.295495944524163,-4.9669922323652145,4.65310456780054,1.0594835430413596,-26.443433470170348,15.029703283951534,-2.5373966149457345,-4.676931717654327,-10.857863249393475,-0.9798315347089499,-3.0805053950410297,3.9164856742179097,-2.691269412451078,3.43192275497411,-6.21571889856051,3.6961033604363394,-3.771003939021867,0.2926281368497854,-11.260502507721682,0.5139372358848675,17.73032468206881,-12.619215007139914,9.057323008626184,6.537663386488191,5.956612940434923,-13.744380931708179,21.35674213978696,-31.377485336599932,-10.56056809066051,-2.2323891412915913,0.5489400061628658,-2.8555407485765727,-5.211224283793385,-6.452155859500564,-5.5560446600344875,-0.895806812552479,1.973384203073266,1.5127328365351218,1.9490828035268066,-11.337700968670646,-5.935567222808615,29.403886346642807,-6.559007765297608,-1.9473619471877441,0.18708756445897734,3.885184530888857,-11.24112719986013,-9.475264621228582,7.728776678236088,-4.070522871245345,9.716567345412855,13.796181647889298,6.267172245899644,-8.623934723827588,-9.531250453760862,-5.130854200972934,-7.250957868479958,-5.161782871149583,6.414815952229517,-4.319225446739409,-8.004095252276826,-7.542913298135737,-11.889133714746436,-7.083038472010642,-3.5144820754158275,-10.701502383164268,0.2652125924905988,8.818746512277173,1.6306696394376416,7.449026448064487,6.7517827497438105,1.4451867071551732,7.924199209999614,3.0796152963904007,18.936146669537848,-2.13293707372938,-0.012054753622237513,8.170886310681908,-6.592456684324048,-9.375701376265582,16.075598643689744,7.627247785662149,7.691423497872989,9.399031011088653,-8.294748419317472,1.9382613877280335,2.6451484131061136,20.038623644067528,-6.35418030209226,12.392583948534721,-0.599326302663286,-2.773769379581921,-13.606585958386518,13.088203991191108,30.195121558208257,-1.8384954475369426,-18.005111815108535,-12.389463529394376,-2.0965941527462633,4.916361856320478,-8.071225966373106,9.735461997044688,-4.763577693562198,-5.054701591666273,-10.6020990749888,-27.596600389110762,-3.9241596717876774,5.089636257074986,0.25574312191994863,17.69075904889118,6.947131310890583,4.092824381131038,5.240883979345924,-1.5235487203372173,8.224199323822006,-11.210306673244702,-0.0020706491819737494,0.0930032113861472,3.278947165129182,-1.5519068385897867,-8.250982646676349,8.671302157109011,6.581164890752561,3.0372602877666424,13.458709234732154,8.192578597214975,4.762208735446592,-8.743891807127284,-2.6256132900192455,-1.9358991136754469,-8.508979621679714,1.3737178839939688,-3.9046484992888963,1.0322175293249671,-2.653623493996278,5.82758657611582,24.388171582764286,1.342791621863043,-14.227481360999406,-9.262154022415928,-9.653974845911705,-12.36130721806218,-0.886575909614379,-1.9731570740559619,6.176518954343507,3.160728560270499,-6.157711497711418,-12.038844371688157,1.394462756809986,4.501892648514115,-0.005279588565969107,-6.012067489291141,14.438548161335419,22.96180953137238,5.505368494915842,12.20712425914158,5.081401976473103,1.4778031881747182,4.5324840902301275,-14.524675344707461,-3.2674476460232,-3.004743596108284,-6.222071440434021,11.388331177807686,-10.391117874202692,0.7576428653545975,-6.70480617241212,10.718572330401557,15.53758766016064,-8.178896580250282],\"xaxis\":\"x\",\"yaxis\":\"y\",\"type\":\"histogram\"}],                        {\"template\":{\"data\":{\"histogram2dcontour\":[{\"type\":\"histogram2dcontour\",\"colorbar\":{\"outlinewidth\":0,\"ticks\":\"\"},\"colorscale\":[[0.0,\"#0d0887\"],[0.1111111111111111,\"#46039f\"],[0.2222222222222222,\"#7201a8\"],[0.3333333333333333,\"#9c179e\"],[0.4444444444444444,\"#bd3786\"],[0.5555555555555556,\"#d8576b\"],[0.6666666666666666,\"#ed7953\"],[0.7777777777777778,\"#fb9f3a\"],[0.8888888888888888,\"#fdca26\"],[1.0,\"#f0f921\"]]}],\"choropleth\":[{\"type\":\"choropleth\",\"colorbar\":{\"outlinewidth\":0,\"ticks\":\"\"}}],\"histogram2d\":[{\"type\":\"histogram2d\",\"colorbar\":{\"outlinewidth\":0,\"ticks\":\"\"},\"colorscale\":[[0.0,\"#0d0887\"],[0.1111111111111111,\"#46039f\"],[0.2222222222222222,\"#7201a8\"],[0.3333333333333333,\"#9c179e\"],[0.4444444444444444,\"#bd3786\"],[0.5555555555555556,\"#d8576b\"],[0.6666666666666666,\"#ed7953\"],[0.7777777777777778,\"#fb9f3a\"],[0.8888888888888888,\"#fdca26\"],[1.0,\"#f0f921\"]]}],\"heatmap\":[{\"type\":\"heatmap\",\"colorbar\":{\"outlinewidth\":0,\"ticks\":\"\"},\"colorscale\":[[0.0,\"#0d0887\"],[0.1111111111111111,\"#46039f\"],[0.2222222222222222,\"#7201a8\"],[0.3333333333333333,\"#9c179e\"],[0.4444444444444444,\"#bd3786\"],[0.5555555555555556,\"#d8576b\"],[0.6666666666666666,\"#ed7953\"],[0.7777777777777778,\"#fb9f3a\"],[0.8888888888888888,\"#fdca26\"],[1.0,\"#f0f921\"]]}],\"heatmapgl\":[{\"type\":\"heatmapgl\",\"colorbar\":{\"outlinewidth\":0,\"ticks\":\"\"},\"colorscale\":[[0.0,\"#0d0887\"],[0.1111111111111111,\"#46039f\"],[0.2222222222222222,\"#7201a8\"],[0.3333333333333333,\"#9c179e\"],[0.4444444444444444,\"#bd3786\"],[0.5555555555555556,\"#d8576b\"],[0.6666666666666666,\"#ed7953\"],[0.7777777777777778,\"#fb9f3a\"],[0.8888888888888888,\"#fdca26\"],[1.0,\"#f0f921\"]]}],\"contourcarpet\":[{\"type\":\"contourcarpet\",\"colorbar\":{\"outlinewidth\":0,\"ticks\":\"\"}}],\"contour\":[{\"type\":\"contour\",\"colorbar\":{\"outlinewidth\":0,\"ticks\":\"\"},\"colorscale\":[[0.0,\"#0d0887\"],[0.1111111111111111,\"#46039f\"],[0.2222222222222222,\"#7201a8\"],[0.3333333333333333,\"#9c179e\"],[0.4444444444444444,\"#bd3786\"],[0.5555555555555556,\"#d8576b\"],[0.6666666666666666,\"#ed7953\"],[0.7777777777777778,\"#fb9f3a\"],[0.8888888888888888,\"#fdca26\"],[1.0,\"#f0f921\"]]}],\"surface\":[{\"type\":\"surface\",\"colorbar\":{\"outlinewidth\":0,\"ticks\":\"\"},\"colorscale\":[[0.0,\"#0d0887\"],[0.1111111111111111,\"#46039f\"],[0.2222222222222222,\"#7201a8\"],[0.3333333333333333,\"#9c179e\"],[0.4444444444444444,\"#bd3786\"],[0.5555555555555556,\"#d8576b\"],[0.6666666666666666,\"#ed7953\"],[0.7777777777777778,\"#fb9f3a\"],[0.8888888888888888,\"#fdca26\"],[1.0,\"#f0f921\"]]}],\"mesh3d\":[{\"type\":\"mesh3d\",\"colorbar\":{\"outlinewidth\":0,\"ticks\":\"\"}}],\"scatter\":[{\"fillpattern\":{\"fillmode\":\"overlay\",\"size\":10,\"solidity\":0.2},\"type\":\"scatter\"}],\"parcoords\":[{\"type\":\"parcoords\",\"line\":{\"colorbar\":{\"outlinewidth\":0,\"ticks\":\"\"}}}],\"scatterpolargl\":[{\"type\":\"scatterpolargl\",\"marker\":{\"colorbar\":{\"outlinewidth\":0,\"ticks\":\"\"}}}],\"bar\":[{\"error_x\":{\"color\":\"#2a3f5f\"},\"error_y\":{\"color\":\"#2a3f5f\"},\"marker\":{\"line\":{\"color\":\"#E5ECF6\",\"width\":0.5},\"pattern\":{\"fillmode\":\"overlay\",\"size\":10,\"solidity\":0.2}},\"type\":\"bar\"}],\"scattergeo\":[{\"type\":\"scattergeo\",\"marker\":{\"colorbar\":{\"outlinewidth\":0,\"ticks\":\"\"}}}],\"scatterpolar\":[{\"type\":\"scatterpolar\",\"marker\":{\"colorbar\":{\"outlinewidth\":0,\"ticks\":\"\"}}}],\"histogram\":[{\"marker\":{\"pattern\":{\"fillmode\":\"overlay\",\"size\":10,\"solidity\":0.2}},\"type\":\"histogram\"}],\"scattergl\":[{\"type\":\"scattergl\",\"marker\":{\"colorbar\":{\"outlinewidth\":0,\"ticks\":\"\"}}}],\"scatter3d\":[{\"type\":\"scatter3d\",\"line\":{\"colorbar\":{\"outlinewidth\":0,\"ticks\":\"\"}},\"marker\":{\"colorbar\":{\"outlinewidth\":0,\"ticks\":\"\"}}}],\"scattermapbox\":[{\"type\":\"scattermapbox\",\"marker\":{\"colorbar\":{\"outlinewidth\":0,\"ticks\":\"\"}}}],\"scatterternary\":[{\"type\":\"scatterternary\",\"marker\":{\"colorbar\":{\"outlinewidth\":0,\"ticks\":\"\"}}}],\"scattercarpet\":[{\"type\":\"scattercarpet\",\"marker\":{\"colorbar\":{\"outlinewidth\":0,\"ticks\":\"\"}}}],\"carpet\":[{\"aaxis\":{\"endlinecolor\":\"#2a3f5f\",\"gridcolor\":\"white\",\"linecolor\":\"white\",\"minorgridcolor\":\"white\",\"startlinecolor\":\"#2a3f5f\"},\"baxis\":{\"endlinecolor\":\"#2a3f5f\",\"gridcolor\":\"white\",\"linecolor\":\"white\",\"minorgridcolor\":\"white\",\"startlinecolor\":\"#2a3f5f\"},\"type\":\"carpet\"}],\"table\":[{\"cells\":{\"fill\":{\"color\":\"#EBF0F8\"},\"line\":{\"color\":\"white\"}},\"header\":{\"fill\":{\"color\":\"#C8D4E3\"},\"line\":{\"color\":\"white\"}},\"type\":\"table\"}],\"barpolar\":[{\"marker\":{\"line\":{\"color\":\"#E5ECF6\",\"width\":0.5},\"pattern\":{\"fillmode\":\"overlay\",\"size\":10,\"solidity\":0.2}},\"type\":\"barpolar\"}],\"pie\":[{\"automargin\":true,\"type\":\"pie\"}]},\"layout\":{\"autotypenumbers\":\"strict\",\"colorway\":[\"#636efa\",\"#EF553B\",\"#00cc96\",\"#ab63fa\",\"#FFA15A\",\"#19d3f3\",\"#FF6692\",\"#B6E880\",\"#FF97FF\",\"#FECB52\"],\"font\":{\"color\":\"#2a3f5f\"},\"hovermode\":\"closest\",\"hoverlabel\":{\"align\":\"left\"},\"paper_bgcolor\":\"white\",\"plot_bgcolor\":\"#E5ECF6\",\"polar\":{\"bgcolor\":\"#E5ECF6\",\"angularaxis\":{\"gridcolor\":\"white\",\"linecolor\":\"white\",\"ticks\":\"\"},\"radialaxis\":{\"gridcolor\":\"white\",\"linecolor\":\"white\",\"ticks\":\"\"}},\"ternary\":{\"bgcolor\":\"#E5ECF6\",\"aaxis\":{\"gridcolor\":\"white\",\"linecolor\":\"white\",\"ticks\":\"\"},\"baxis\":{\"gridcolor\":\"white\",\"linecolor\":\"white\",\"ticks\":\"\"},\"caxis\":{\"gridcolor\":\"white\",\"linecolor\":\"white\",\"ticks\":\"\"}},\"coloraxis\":{\"colorbar\":{\"outlinewidth\":0,\"ticks\":\"\"}},\"colorscale\":{\"sequential\":[[0.0,\"#0d0887\"],[0.1111111111111111,\"#46039f\"],[0.2222222222222222,\"#7201a8\"],[0.3333333333333333,\"#9c179e\"],[0.4444444444444444,\"#bd3786\"],[0.5555555555555556,\"#d8576b\"],[0.6666666666666666,\"#ed7953\"],[0.7777777777777778,\"#fb9f3a\"],[0.8888888888888888,\"#fdca26\"],[1.0,\"#f0f921\"]],\"sequentialminus\":[[0.0,\"#0d0887\"],[0.1111111111111111,\"#46039f\"],[0.2222222222222222,\"#7201a8\"],[0.3333333333333333,\"#9c179e\"],[0.4444444444444444,\"#bd3786\"],[0.5555555555555556,\"#d8576b\"],[0.6666666666666666,\"#ed7953\"],[0.7777777777777778,\"#fb9f3a\"],[0.8888888888888888,\"#fdca26\"],[1.0,\"#f0f921\"]],\"diverging\":[[0,\"#8e0152\"],[0.1,\"#c51b7d\"],[0.2,\"#de77ae\"],[0.3,\"#f1b6da\"],[0.4,\"#fde0ef\"],[0.5,\"#f7f7f7\"],[0.6,\"#e6f5d0\"],[0.7,\"#b8e186\"],[0.8,\"#7fbc41\"],[0.9,\"#4d9221\"],[1,\"#276419\"]]},\"xaxis\":{\"gridcolor\":\"white\",\"linecolor\":\"white\",\"ticks\":\"\",\"title\":{\"standoff\":15},\"zerolinecolor\":\"white\",\"automargin\":true,\"zerolinewidth\":2},\"yaxis\":{\"gridcolor\":\"white\",\"linecolor\":\"white\",\"ticks\":\"\",\"title\":{\"standoff\":15},\"zerolinecolor\":\"white\",\"automargin\":true,\"zerolinewidth\":2},\"scene\":{\"xaxis\":{\"backgroundcolor\":\"#E5ECF6\",\"gridcolor\":\"white\",\"linecolor\":\"white\",\"showbackground\":true,\"ticks\":\"\",\"zerolinecolor\":\"white\",\"gridwidth\":2},\"yaxis\":{\"backgroundcolor\":\"#E5ECF6\",\"gridcolor\":\"white\",\"linecolor\":\"white\",\"showbackground\":true,\"ticks\":\"\",\"zerolinecolor\":\"white\",\"gridwidth\":2},\"zaxis\":{\"backgroundcolor\":\"#E5ECF6\",\"gridcolor\":\"white\",\"linecolor\":\"white\",\"showbackground\":true,\"ticks\":\"\",\"zerolinecolor\":\"white\",\"gridwidth\":2}},\"shapedefaults\":{\"line\":{\"color\":\"#2a3f5f\"}},\"annotationdefaults\":{\"arrowcolor\":\"#2a3f5f\",\"arrowhead\":0,\"arrowwidth\":1},\"geo\":{\"bgcolor\":\"white\",\"landcolor\":\"#E5ECF6\",\"subunitcolor\":\"white\",\"showland\":true,\"showlakes\":true,\"lakecolor\":\"white\"},\"title\":{\"x\":0.05},\"mapbox\":{\"style\":\"light\"}}},\"xaxis\":{\"anchor\":\"y\",\"domain\":[0.0,1.0],\"title\":{\"text\":\"error\"}},\"yaxis\":{\"anchor\":\"x\",\"domain\":[0.0,1.0],\"title\":{\"text\":\"count\"}},\"legend\":{\"tracegroupgap\":0},\"margin\":{\"t\":60},\"barmode\":\"relative\",\"width\":800},                        {\"responsive\": true}                    ).then(function(){\n",
              "                            \n",
              "var gd = document.getElementById('080c20da-5a45-46de-98db-d6c68db041d8');\n",
              "var x = new MutationObserver(function (mutations, observer) {{\n",
              "        var display = window.getComputedStyle(gd).display;\n",
              "        if (!display || display === 'none') {{\n",
              "            console.log([gd, 'removed!']);\n",
              "            Plotly.purge(gd);\n",
              "            observer.disconnect();\n",
              "        }}\n",
              "}});\n",
              "\n",
              "// Listen for the removal of the full notebook cells\n",
              "var notebookContainer = gd.closest('#notebook-container');\n",
              "if (notebookContainer) {{\n",
              "    x.observe(notebookContainer, {childList: true});\n",
              "}}\n",
              "\n",
              "// Listen for the clearing of the current output cell\n",
              "var outputEl = gd.closest('.output');\n",
              "if (outputEl) {{\n",
              "    x.observe(outputEl, {childList: true});\n",
              "}}\n",
              "\n",
              "                        })                };                            </script>        </div>\n",
              "</body>\n",
              "</html>"
            ]
          },
          "metadata": {}
        }
      ]
    },
    {
      "cell_type": "markdown",
      "source": [
        "![image.png](data:image/png;base64,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)"
      ],
      "metadata": {
        "id": "9DOOfRhVIbzH"
      }
    },
    {
      "cell_type": "code",
      "source": [
        "def mean_absolute_error(y_true, y_pred):\n",
        "    return abs(y_true - y_pred).sum() / len(y_true)\n",
        "\n",
        "mean_absolute_error(y_true, y_pred)"
      ],
      "metadata": {
        "colab": {
          "base_uri": "https://localhost:8080/"
        },
        "id": "vGW3e7R9IcXV",
        "outputId": "e2ee260b-adb7-477f-ee1b-5271de6850e3"
      },
      "execution_count": 9,
      "outputs": [
        {
          "output_type": "execute_result",
          "data": {
            "text/plain": [
              "7.910826063285162"
            ]
          },
          "metadata": {},
          "execution_count": 9
        }
      ]
    },
    {
      "cell_type": "code",
      "source": [
        "from sklearn.metrics import mean_absolute_error\n",
        "\n",
        "mean_absolute_error(y_true, y_pred)"
      ],
      "metadata": {
        "colab": {
          "base_uri": "https://localhost:8080/"
        },
        "id": "PFjrHEiAIfbh",
        "outputId": "05991f61-2759-4aed-b22e-3becae49c40e"
      },
      "execution_count": 10,
      "outputs": [
        {
          "output_type": "execute_result",
          "data": {
            "text/plain": [
              "7.910826063285162"
            ]
          },
          "metadata": {},
          "execution_count": 10
        }
      ]
    },
    {
      "cell_type": "markdown",
      "source": [
        "![image.png](data:image/png;base64,iVBORw0KGgoAAAANSUhEUgAAAmcAAAB+CAYAAABh9LZrAAAAAXNSR0IArs4c6QAAAARnQU1BAACxjwv8YQUAAAAJcEhZcwAADsMAAA7DAcdvqGQAACvqSURBVHhe7Z0tsNtIuKbfu2QNBQ1dl0TQZCtiI7TXLGYRi1jERmzExmzERixiERuxiEVVC0YsqloQsQjdMdqIjVjMvF+3ZB/5Nz45P/FJ3qfKdXxk2er/fru/r7v/Yy2AEEIIIYRcBf+j/0sIIYQQQq4AijNCCCGEkCuC4owQQggh5IqgOCOEEEIIuSIozgghhBBCrgiKM0IIIYSQK4LijBBCCCHkiqA4I4QQQgi5IijOCCGEEEKuCIozQgghhJArguKMXEabwzNNmGaMqr9EyO1pkXuqHJnw8ra/dn9U8bf+doXYke/aAYqmv/QYVLEOr+nlkjLfygrLIkVaLPv/vwWJv67fJuInUMG/PZ8JeRrcTpxtGhL9miOp++snaDL35v47NT6PT1vliAMXjr2Jrwnb8bDIvhJpItw09EdfT6H1vxO78Z9/vaLA3d7v4aC/WTUo0wU8dwZrc581gxuIUB7c2+be9pmHryO/ey+cyGsVvkWK8jGFzh2o4hDRcoYoDWGP+4tPhSrBzFtg4TmI2TwR8kNwh5mzGnF+rpOtkSdl//5pUcUOLMdHlJWoBp1LUxVI8+WTEpnk+1PHuUiY09R5gpM1pcnh27YWOkU5KHvtEmUWQS5dDeOpBcuS11TUjQqfCErXvn7B0OQ+vGSMMI0we2rCTDGRAYCE27BcEe/9NXIn2ipDGDhIaCYg34lvFGcGDEMKcCwdxqq/tI+aeZJGWTXWT4oqghepGjmFE2Wo6hr15lWkCKaj7j5yEX46SL/Ny5v2n/74GF1FQXq6oiDvKgoOa0qDLPD1jJdh+UjLYTpWyCIXxrHiaItoG6a3fsWYSVAeEidIkCTySgvUVQpfZ3OFKC1xKvbXwHgm6VVGmE/6C08Nw0ZY1CgTT1otcndalHGAJKuuutySH5tvFGdzOI5q6TPk5bHiu5JRfSxF3ML0iYmZuiq62QnbhTczsRP68RSuZ4s0JeQy5o6jy0uWHxcoqzJDLAXOmk53y5pitUTVT6k5vnS8OwVvBHMWwLnWmZLRFHPX7t43LTs5Qgi5Bd88c2bPPKh+IUtyGd/vsSqRpfLXdmCf7TwaGe0FcGdW56ci9wdJdWA2XDUl0oV3c5/2t0lQ7bX4GydR7dPUVkgC9fzufl+uXeL+Mh73do2qwvLCHmVZxAgcu4+D2/mlHXP0PeP8e9zBdYWmTLHwXMys7nNr5uo02g3arjPvMgu6+/1eaGouS2vFqpJnbvybVNqp5z1Q77qTZ8sMgQ6fj0IFbLsIwUPerOReV+enNbSTST6rsrH1Dex9sYqDzLskje4fw55JHORNlkgcums3qEGMrig6/AeMRhj3gqyqr8h+eSHNUs1ASxqY4xMDmlbyocA2NyUv81jK6KYumZIuXoj8aNSXKOTeTb7b7qn7ztGiUr58O89b3CwIuKT8SduUBDf103YCJENHwAH77UR4MsC7ZbWtku33rJkv1/YK0jCc+4++uH4cR5l8Oz9HR4elirv2w1L/DFiVi/7345v8VEibp7+/uBmcXNqed1yez1ufS2lfm5WkoQwOTNO6MatfUL6637AgzYImUotE+t8cJu1qWWif5E2+q/bUW6Q7PqDbuEua7KSW9I8L/fxB2DQSZv17C5TSFnZ+qC6yY+3GQn1mIjg5I0+eOt/uc2ZKhVJ2mFI6nZ0Cpip0gkz+zqUSnLYUSEGUz90ww9KQv54Da7REFjqY+UPBJyJLCR5Vg8ZSmeQ7U7mvzEJ5f2LloDRm/sxBshxh0vu/5JEjAm0voEcw5Fl6UrBNpPHwkJTNnhDaRfmnzbwImTSY2udm0iAP5vD2Gq9vQuJhuwvdeIyl8jv2FKOlCF9JI+fE7ze5pEsgaaoaia2iujStu8bYdhZIlTPTROJjGqjU8xbZ2XS4M02OUDq2rAv4wbOqRDqYqNRh3c7DSOPnWA4WaSExnGoTelc2IngiYhflfk/VcTyNHgoTs66iIDmsKEi6igL7aEWZwu5NwOXC0fl3ot+/OtoyQhhJYI0ZFs5xY1slcZoFdZ+brdQbqaOSx6uRKXV7LnVJBFGh6vK+6FDlWUSvcjtoxphKvk+aTN93ebWTeurPpFynIsbGmLvSac8n0n+nqA86wzPlT4msbKnbDc+xpH5mUo5lQLOnxI+1E5k8/2vtRJX4mDkJlqMJuqYsF8EgAu3rTVkXvm+oH1tUnVwoUTKFn6ZQRXFqzfVHrbQPwxgqlw9NW+6kX111osYW0dHNDN+mPf/WfJZnSBsX6dUo8nSdXReWL2Oi02nSjya2fpSbC4JuI+U7yie5NbrPJyIGCxH6jqRruskb+a5OLUmT5W5ioUutFuVuYnXhsEW0Sts7134O0t7vr6rZTH7Ir8+sp2WZIrdgfRs+vlk/e/ZMXm/WH+Xfz+9e6f+fv1H/bfi0fvtC7nn+p77n3/evu++8fr/+t7tB+LL+8Ptzff31X//01xSf1+9fq99/tv7t7y/9tU/rd/L7N99VfFz/8by774/Boz++6a49e/Zy/ebj5vsqnH0Ynv2hw/RVPv+9/v3l5rfk9cur9R/v/5FQ7/Hp7frFkeet//2w/nPz/WG8N+m3kxYdm7C/fj/45NM7+d29Oz/+sX6unzmMy8f1G31NvfbCcpu0/vL3+jf9G8/Xv77/3F3T/LN+92v3G5u8P88wPIevYXG5ybNn65fywU4a//t+/Xrzvee/rneC9OXD+nddBiSs74Z582X9z7tfuzTqy2DHuTS6b26epeP6+d36lQ7Pbtp9evtCh/9PdXEb19frYRFQ8fn09lWf5+r1fP1fv75d7xcLxbauHXsdKXP3w+m8fvnbX+vDZP53W+6ePX8lcd/c8O/6w1/v1//s3P95/e5Vd++rdzeZ36WbXH8p6Tm4/8vHP9cv+2fv1KNjbOvu7+sP/SXNl3/W/2y+elH5e73erVab7/y2vmnCTrQTXz4ebyeGaboTR0mPTdoNG75jZecO9aOrn/K/Dtt+WyBt7/6z1L3yrBcvunz59e9tAvZ5/Wp9k32Xt+e3zedh+X/+63tJrSGXl6+bcO+2VRrJy+7ZL9d/fhjGQn7/z5fd81+92z774x/d7wzD+fGNtKWSVrpM/Pr3Ni024d+E5cvfvx38nmJz/bluOMiPyh1Wa8qoQkYJamTQJmpk1tMvBDC92Wnn1LZAksoQwfBltDmcMhjDmnd+Klm5GX6YmMuQbdcsMsWsG8DJiGQz5Bkgo2Bv4OumZp1m+p2M9o7cfoCM6BZpiTR0YSkrpzJdyCjXdhPUg4mWuuim8A1/93mQ0ZTn9QG8C+ZcfnfPIDSddaOxE3GxFuFuWG6R1m2Z6RlPWAGCnWVrE8yD4IjD+j1iLRBKPp8aBzrR7kq6Vka8Klo6rPPJ4HsjTOZeZ0psYxxbUHyQRg/NeAa3qygobioK9EIA08PsrBf3CKaUu0LiG8wmUg9aLNXMn5oRedQNub7OdpbBUuGUGGaLbmZpMPJfZiHC3mRkSz7423wwYDkzTHayRZXRrtSVzeY3ahR62siAF3gYZuNo6iNw+3++hmHoMKrfK4czSKPJdtZkyKnyZ/gedquVha5aZdg0Ydt2wttrJ0ZT+F8JsLsTxzFsSSPNstEzUqe4S/3oZhU9qHVRUz9GtNMWKNOt+ltI/PrGUM/4GJjJd1To8u0S4iUqldfWvGtHNZe253fJZwdRNJPUGnJp+TpPJXmpkkzlpW8NYyG/73ld2yzt6KbIK3OnopDC0KVWLV1kC2Mm7XGXWJJKHcsusTDvE2ukTKXqEYPfU9OAZa5aaVO+f7bhIE+cO4kzKT1wVOnZrkbbLASQCmidcTZbLqVqC20ER9vVb17Wxti/0/i00sBlSJJQKqWrfRWcpP/oGPuNqzTEZ0JzAgPTeYBEelO1Kk7Vw7YMpWHJ+ul86SR7G9NsevjrI+O0QfdWtNJIZQmSMIArcZ9Jp3wu6pa599xbpPWyzvW/pm3uNWzCaDRo4C/n2GrN3lK3i5SX0ylmq493WC67sB8Nq+T2tPdFPybeD9LoJNXRPbxub7EeSYfmSYlqEaeFbqQ3CwFM6RwuKZsj6fTdKBchkSLQG3FVSGUAEB4Ly7HVmvHsoFrss/X/G75uEdntas1Ewqk67FCe2crARgZL2m+mijELNvVHsV+iVlKncqRJpP0slW+QHextMtJKh6+zVPlE6iu7fC2SG8Zz+L4lt0seu5IHytSWHvfBPFf+2sjZS7Mbf6Wu7A3aiW8I8GFTdklpuVv9KEIfvrKvSTmKDiqrDBas7st51anPplZ+gyLA7KmyyKnRnhajajWLlhEHYbigPb9LPiuzYP92lwvK11laNOfyciTCVSdNiY3WG0l50JdEBes0aaQ9lzdzScNpl1i9iK+UBlOJBXObWCJatYoemDZlsJ3q+yS9LysK5IlyN3EmTGf9wgDpdNqNLdwSEXFJwZnYMjKUkd2xl4zWdNNdp3BlND6XkYry2Wkn0gBIR+c86DTOkG5VXJL4XYUXgba/D+1IhMtDUKciCmXU6Umnl9ctJtKiOspfrP/8VlyS1j16+4cnwsOGdYzpkfRSvj+3ZrpZGJCiaDcLAURwXVRRBhhTuLEIOz1Eb6Vc3t+ChvH0MK7BN0VWoWZopAPU70vpmySUIwNekiLshcEOIuKUb9pM7S8oImkpIsSedSumjyODhTtWu6nXzUgupDEZayd1qVuWf2ThxmkmIuoO0qx/zca7AXyoduIc31I/jHG/gEOEzP7aA4UhZVm1Qa0WHK3cJgJHhI6SYEqIbfzOmmUpnxq7g9dbt+d3z2fNrcvXeS7OS6mvoj1VYkFpWbW5eYluodxYCTFJIe131iyhJnCN2XRHWJoSRvX1UgSvygpl3VCy23JnO/eRH487i7PtwoAiRRKneqQ0l4JztkkfT7rRxHKCmRo5HXvNlYlLOrF0oQutHRXyiATxwtefzx+7ZMoIqGs/JDB6ftpQ0dCU/QhySNucmXEoltup7I5GRmT92w0idNOFatxsRIWMlpIYC1+lzfx2lfLitJZbx10My+0U/IBlrafzr4WxiE3F0bBK6tZ9YCeb5Y7fxFgawcP0ujHR3IbNwoAuL/XoV8TLjsXoYgwpjl1e3eeChrEMqvbj6n5bZLfshM504FtDE9sNdRZC+kyYXooyv5kpduy9/DPG/QxrqTu7XRqIHrgVakbSWYhIqwt9fJPqRP346/uybcrfciLt336a9a+5tsWdbyeUgHkI7lI/pm6EWG1Sp9LCP7LoSpluVfGrS2kWapSiFuZqsZJcMkW4GZI3hVzXos2Q+rKdfLtFe37P+Xxx+TqL5GUfzmN5qdJVpYUadG0W/es2pEsslNKG1l1idWZaU4SbPL4s5LoWbYbUt72Zyk1aa9NmI2mmHjCXQd3d6iW5fu4uzraFr0QcS8ExZBRkH2t+B4z70QQShJESIENWWGbSWOqLKxE5+iLGUlm3NBnic7a9O1CngV6puNugrVAlkRaew4pn9iuX6jhGNlRbTY7FQtfSXSa9UJJ4D/eHW5XSSO3fvmp784+MYneiHp81ax5wcVrLrXokJ8gz4uG6drUsPVTm6uthLGmv0zILEOxMdag4RZCoSgb5X/HnelxUmHVNkfJSSEOstnA4W1NaEQzqdIFh9BSNXE+73un0NhXfm65sdavSzJ3VbsdYrbrOzhiKBSl36cEpI/JbutrVkjbZziBHrcINL+20ZTTUW6h6xlKf+4rWHq4W3mfczx5JLy9lba9mrJbIBjOa59qJ8OIA34671o+pJ/co5aA25d5b0a3TSk39SCku01zy2Ia9cQrrVyjmMljXQkX6hptH3KY9v6d87rm8fO1S7iyzlOjZnQWlDhe7baTkdhlFXXm3nZ0jwDbtalGmyOUGuxey8mtdHHMZsHWJNRCyG8YyqFM3KauUfF8FV600/UoXS54+9yDOpPj0CwMUhloa3b8/zRjzRaj9uNTeQZba56Yfbc6kdM6CzchVRir9lHjq2nD0PVLw/QbTzs/y3lm1md7ja7rjRzKFI62BmqK3FoE+KkUxkoqqGzAZYar9ubqZKWm07QSmvD9AbWPR7dOBROKj71fpFSqfpO6WLdJ4dVFP9RE4On3kXr+RsOgbLuXStBZMB4GjIqeWsCtzQ5/eUw+1xLUTlrdju0/QzuvEFii3QW3REM8ldi1yXxq/Po3UdiOzINdL3IPwynZM3ywMUBgqXfv3J5FBQeRLnPbSz/b0LICqBJF75EeKzd5Uu6+HPiRaLaDpypYy2/T5oOpMEMLtqvFJJpuZHrW9xqZ8zhKpY/ulTuqKu+h8QHO1V11fnqX+2Ykp7/vbvkZTwrFUnfWwiJTvkwNHO4uN4TjKF+0rjOdYhDc+a2r/wS7uUv9FuAWDwddI+bN1Ab6snbgP7lw/RBREsT7loc2lDAbFjkDrZsgkz0UwSOQHGyT3CwbkuhIqu/v33aY9v6d87rm8fClUOLsIlcG8u1/ir2uPtIWL3lcxkjZyk+8zKUuu8s+UiCSLPf/OfoasSxPJ/8Eir27BgFzvEkuLuH02CwO2gzoRvNRmPz73Is6k9HQLA6RoXbyCZDJHIsOIhRInap+bstS297ESPGm4PWpm6sV6peTEaFCVNRppdKLE+0bT0teZzhOE0oNuVpwpjIk0CE6AWEY4yc6W7KoBSxH7c0zHLZYqfFL5giyBp1qVA0Yi7lLpUNU+Ov39Y1cqpgifg/hM4clw0lcr9GSUr9LGmEVIPEueeksuTOsufDISVr438pCmKrFcTeDK6DjaWZJ2HYztEHkuHYg0VmqfIRUvtZ/T3JcRbJ58VRA8PpuFAVJTzq1m3iBi3o/UBpzWwM9N7fc0hxum2kR0tJh9J1R50WWrrKSeTmDN/a7OXJARqmyrffcsXY/UCjYTfqIWsfQ3DJFBRJJKvqu6oc7wVD479gK5ahcuTQ+p0/7chLEskEo9y5RPpw5vLkLqsq5vIm1Frva2UjMhyy7udTMWsSHlTy2G6O9T7aKTqHZCtWObdsLGQsro8Xbifrh7/ZA2SK1SlSA2mac38t4yFTHSB33X4X8kSbsRPPObGbWeW7Xn95HPPbcqX4LyR1zMpxKvPr+MmwVR6rP9fFdiV5vHE6mTB3EREXeTWAOHf0kt1bf07zem4UNE3GmHVcH82upu8qPwH2o/jf49uU+qWNqWSDlXyIhnbyRFCLmABkXgIrOTve0cCPm5qJM55mENM8iQXd+okzwA9zNzRggh90yd+PBGCwoz8pNT9Xu+fcPqbvJkoTgjhFwhypxUwTRGyj+fkJ+WZRpDn4Tm+lt/Z/LjQ3FGCLlCDEydOVapA2vjjE3IT0OFWC02UAtI1Mr/sYNIrc4gPw0UZ4SQq0Q7tJc16simzyb5yRhBbZxbLkf6pJo0X3D7jJ8MLggghBBCCLkiOHNGCCGEEHJFUJwRQgghhFwRFGeEEEIIIVcExRkhhBBCyBVBcUYIIYQQckVQnBFCCCGEXBEUZ4QQQgghVwTFGSGEEELIFUFxRgghhBByRVCcEUIIIYRcERRnhBBCCCFXBMUZIYQQQsgVQXFGCCGEEHJFUJwRQgghhFwRFGeEEEIIIVcExRkhhBBCyBVBcUYIIYQQckVQnBFCCCGEXBEUZ4QQQgghVwTFGSGEEELIFUFxRgghhBByRVCcEUIIIYRcERRnhBBCCCFXxH+shf49IYQQcnU0RYAwbVAtLYTRBGVcYDVukBdjLJIQ9ri/kZAfBM6cEUIIuR1NJUJp1f/z0FRIExOeP8dkGcGPV5hHIYLAh7PM4KVVfx8hPw4UZ4QQQi5i1dQoEg+27cDJ6/7qA9MCY8eCscxRwhJRJiJNXV+t0Mgfc6T+IeTHguKMEELIWarYhGnacIMISV5oUfRoGFM4swmWZSFKzMKkN2GuqhwpTNjWtLtAyA8ExRkhhJCzTL0adV0gTWL4dn/xUalRpvJnOkUnxVaocrkggtE2l/JZpSbYCPlhoDgjhBBy3dQVCvljW2b3v4i1SrSZNZ/BrFPEosyM/hNCfgQozgghhFw1ytetnnrw7I0Em8IOLNR5CD8zsfBo2iQ/FtxKgxBCyMUo/zMnkjd+ipqiiJAHgTNnhBBCCCFXBMUZIYQQQsgVQXFGCCGEEHJF0OeMEELIxdyPz1mL3LPgqyWYj4QVFkjmPOeJPA0ozgghhFzMfS0IaHIfcz8f7E9mYZHFmOvt/2/JqkG9lF9ql6iqCmVZoKj2tso1A2SZi81mHIScoiljRHGJpqmxNGx4iwWcRz6KguKMEELIxdzfas0WhT+Dlw+2j7VCFMkc9zO/1aDKEkRhglI/woCXlvC5wJScowphJyaSSB0T1iD355AxhBT3Eo+5OJk+Z4QQQr4DBuwohjecyioD+PF9HWQ+xnQeIClLJJ4lT2sRpwUe67h28hRZoRRB3+QRuqNjx5h5HkwpO1FWPmrZoTgjhBByOZseqlndQ2c1hb/w+yOZOqooxL3pM40By0+QRTMY0vHmFxwMuqKC+yH5er6OYExEyBuTm3I+HnczuctmYIJ/eCjOCCGEnKXNPZimOvzchF9asCx51QGm/bUd0+RtmXpYBDvyDJHno7jnnnA8ixC7NZJuSuQ4K3m24yA5cwt5utSJAyeqzg4qTDdBWSY3JszlUkqkOnN/ck/m9sugzxkh5IkiHe18jnCvI3XTGjt9/TGqCLYTY2cS5YzD+KopkcWxdOwllN+5Gl3bjo+Fa6KOXSRmjGh7tJBQJ5jPQwnhbZghLiVcP+UhkRvfnhtFZoiYUrNd99ohthXSrIXl2jhcd1AhFmFWOlzV+ePSIJO8T60U6UUOZCsU0ph4Sw9p4mP6mGsClDgjhJCnyz/rv14+Wz971r1ev//cXz/Fx/WfL27u//3Dl/76cf5599v6l2e/rF+//bje/vK/H9dvXj1f//LLL/IbL9ZvP/XX9/n8bv2qf85vfx97zpf15w9/rl/qe95IyH5iPr9f//r8Jl/U69W7r+Xl/fHxzxfrZy/frk9lJflB+PRW6tvz9R8XVLbP739dP//lt/W7f/oLjwjNmoSQp43aRqFS5rXu32J53qmojkPUY7v/z8HszHC4LXw4QYFplCJ2pzezOIaMpsMAk0aeZcwwPbE/w2pZodTvbNhHl+KPMLZ8BL4ByOePu1j/yhjPEMUuhhOHZeDfs//ZCeoEYdzADbjVxg+P6UKyGUmYnJ/ZrmL4yQRhGn7b9i53hOKMEPK0qUukIpA8rxdcdXvacVc64UXpwLF7rxNrislJRVQhCXK0pgdvdsTMNbYwt+TvbHqyQ6+rvHtjWpicsZRNJtMbx+OfmWmAeGeviwpRGGufn4djhTKVZxhKqPeXyA/NdObAEPGVlie8z5ocfrSCH/uwVaVsMhHuj7vSl+KMEPKkqatCCyRr3A9vl8tdX7ItDbIwhx2Ioiq7+SzTNk8LIhFWsVJ5Z0TTSISdbZknZrwaLLsNtuSmPQG3WqISEblhpZaRTcc7s0Y/K1NvsbsXWRXB84uHWym3KpGl8utze2fVKPmBmdqYS4lKj26PUckAIYUhI6/RstKbGhdZhnZiPOrMNsUZIeQJ04oAqkUgTWCMjE7ciOg5NsJt8wWSaQDPbFD2E1rWKXuk0DbL7k2RIu/f7mLA9FIEpzz42xpFpwHhiIAb0hQhnOzmR5umhKmUHhFMeFGE2SBZ2zzA4pI9ML6BlYj7TP46ItTJz4IJ25E/WYFqp7FoUQQeoqpEGrhwHEe/vKiEIYO0x4TijBDyhFmiKkxYymY4nvQzHzWa/WmWVYkonGChpmTqjR/YTL6n3xxFrcjsuusSi5kNJwiR5iXqZtOajzCZnjGLLkt0GtCW5wxuaqXhT4odMTD1amQuxcGW8QzBYjaYSWyR+wGyB9BnS216NjExTmTkMkfoOrBtVQbSAz+lpooRBDGqB5vau15WVQLfmUnazOCG5cGMdZ0tJB+zW65afgzUfmaqvuWodgZeBmyJR13XB6/HXsFLcUYIebrUJTIRP3oCzBj34qxQls0dqihAu/D0542IJt1ZWDbMc3ZE0+3EnKY7Cmjhu5grE6XtIf1Kj1OXaj5GUcAXIbbZJ8y0XMSVCLZHPqvvqdHtSzbMoBKBf9/+Z62IM6Wqxsp6fUgreedkMMMUWWBKGRCxsbMJWoXMi5Bl1QlT+g9MHcNdtHCTHJGzRJlIuR76cLVyXcRsljeP6qt1KWOd4a0Mtq5TVVOcEUKeLI2Is9bZzHBJB6sc9IVmuBV4FWOxDHrz4wrLstCXDeuMv1nP1EtRZjFCdw5rMhAKTYGFu8Apf2Il5ure38xQZ1BuR+BqLy25aM0wPScMj1AnIiY3Au+2L294wPjTYRrEB/5n4b0u32ygFtzKkzA+kh91FmHp+VCTJkvJO4U5GUy3yjW9NZta8HHL/HzarFAkESa+DHhGyrdSXdudfVxJ3dQ17cyCmQdDyonrdPXFTY/6JMhYritYy6+s7v5eUJwRQp4oMuotSu1v1nUJIxh9B9m0GylSIwlLGeFvNjOtUab6DeZ7fmCnMEwb8yDUG9DWdYHUV+c0Cm2KfNdh5Qbl8N/7m812/NokjBIQY2e38Rp5UuB4F3KD6RYDkXfLVzw0EZ7nP//zP+/ldT9M4R0c7+QhvDd9thIR0b89QB3XM0cwk/xTiwb06hBHys2NAGmkPKivG3sCpFGbGVvRA68y/Z4ssTJDOCot6hyJKuumDGAGiVAXXUU7vWDmAZn6SIK5vDElTOf3waiv9KwuijNCyBNliTLv/c00hgip7t1mr7MmC5HPAj3zoamrbjSvTKEn2+wVllV9YqZp3K0m3MzQtScadiXi9BtLnjPsmlqsWgvOQLC1eQRfevgbsfZ9+e///u97ed0bpodInYvZ/6touumuB2YMy3VhScasykznp+GJANlmZ4tKBLtiV4D31+XaeVnwOKyK4HAm9YKXfXaG0sTMnesd85X5XglUy50NBGqFzqqv6uf3mVLUq7hF1k+Hyv4JQXFGCHmaaH8zET+DfnEy6fc6q5S5KscimSIYONq3G3+zc2Yo9T0nOzOTJSJQd9CnO556M21mWDB3VJcBK0hE3G16+BpZUmgTzFDCkV3GIrAXfdZO/RjRsX3nHowVqqLzH1T+hltWNToL+Z7/YH/dss2LZysfkpEdHp9N/cqruOh4I4lrpqUZ5krFbtiYe89s0PywKFOrhMveuDw8PSjOCCFPEu1vNhOR1f+vMDZ7nTUl4jDEZMckthI9182bHew7NqCtcpRnpVLfKU93zTg39B2DYn6+c1iVKeKld9Hmpz+jz9mWRjr7SvX1EaKLRMOlTNDp+QanrVsiVPQ0qIOd3Tak/OnLW//BConrwp37ct0Qjb+A60Z6q4amCOS9A8uNkechvCCA73jd6lMpq6EXwHMteIPtQurE0ysgh/m2WhaIAxf+IpLvODv3fxcaSRtV1E0pmwNttl10I+V/m1tqx31PLajxkIrYXXgLhGq7iqCQ1P9KGmlWWBaxDLZ8LCL5XD4bRn+lVtV6Hhah+p0AMuY5K5BXq+7L9tCH8Jroj3EihJAnxL/r96+PnL346e36RX8u4/PfP6x3T7P8uH7Tn914+jzNL+sPv6t7Tp+99/HNS/n85frNqbP5vnxY/96H4ew5n/1Zki9OHsxJOiTfXkp+vnqYs0c//qHy6vX6/b/9hX3+fb9+rfNz9/mf3r7Qefz8zW7+ddd/W98cpfpx/edL+e7HN/r+l39+XP/z4ff1c3n/6l0t5fjV+u2nL104Xr3rz2/tyupzuXfDv/Kdl89eSbnrf1jKz+tnfzxImlxMH6dnr99LjdzwZf33b135//XvzdVP67cvJE0+d3Xj+a/v1t1xlZI2Oh3+z5k0Uinyr9RLqXeqDGyj/3r9bFNJ5XsvpU7+2X/4+d0r+Z0Xp+uo8K/6vvz+JWdsfg84c0YIeXI0ZaJHxmj3lulvdvM3Zgh9a3f+qy47U8uBH9iQWh0MAGM8Qiaj/FBtkbB5wKpGvnDgJCN4aYJTEzgr+YHO32zoDzdARuxVFuoZlry14CqHc3KCGonrIYKPOOm2QrlvxlM1dVagPmXHNibqlC+hxGZhX1MssAi72dHdhSX9rKllqaNS+0srGK4No1E+XBYcZ4rJ1EWcpgjn/xMj28dsrPa+U5Nw/fmtvVnQ3toEKyR+iqXjwVWOXlKGSvn+yp89SJpcjDmFo6amqqp3A1jpGb9AW4Et2Ju9alYqDRxYagYUBubufDvjrapX+X//35k0khRR+6mlSzhSJ7voS3qlK/h6yrlCvIhQ2S6c/pzcVi8IOu9vtqxVA7LvdnA9UJwRQp4MG9Oe7Xb7XZWhg6n8v9jsaSEd6dQwMFsE6Dbub1H4vWlvHnWmFrVflt53bI6dLasUyxqlqUwiBYrUxVhtMKpMk/J9ax6inHjIC+koDg5LXyJ1uudM3U6aKWERzvtnD18iBpwggd5pY+5Kx9zdTfZpkPsikGsLUfQwwkwx7jcbrk5uqWDCTVIpB0DszOC4LhYiFDpz456pU8Ks/NCVOW2brWMlwCcyoNAfdGJgJOVUlMNYJIotQmRUptp/cm53kqUzC1o3vmz9UWKmXE2TBGmxxGgeI7lXE+83MLIkLSIRjBV824ErQjqWaOq0GZo6R1PM51O94W+rffT66yJClXem9b/+95k0UtGP5XvypTpFInlRLEeYx/0AqSp1Pd4KW8mDWtlaz/qbiYhWDcieOfaq6GfQCCGEkKvhq+bje0OZ3PZNc+f58vdv2iT27Le/d03nn96sn2/Naf+sP7z9sGOmfHE0Mr0p/dVbCcne/58/rv/68Lk3wb1a/9XZAq+ajbn30Fz/WbsiDNO5Mz++XnfeCafSqHNhePbqr94UussmbbaP690KXkliff7411qS75DeVH3NLgWcOSOEEHJVNLkPLwKcJDppPr4/1LYQFpTXf7E/edYW/SyrO3BMb5Anym5nHKyybZcV2t6c1uQRUqM3szdLPVOqZoJOshp1v9UUSNTkq6lm1CIU7UjvtTeV5+4sWmhyBP0M8nehTuBakjY7+7lVyGM1HX3EXL+SNFCWRKOPp9ybhDVmYb/Vzck0MmCqVbLNaseFockDuHGlN5M15JPN0bR1Gmu3AlMeX0YFJPkOaFRew4Y3Pz239r35D6XQ+veEEELId0Wt2nO8AtMoe4AtMxpUVYvJdH8VX4Vo7qCYpcgGarAtfFieOnvTQlgknYioQlhOAswiZNFmc+MeJeacBRrTwnjqYOGKwJLLq3KBqd8iFsF29Jz8OkWwSNBM5fdaA5ZZIsoknKb8Rtj5ZzVlKPfUMB0JXy1CbToXcSHPOSI+HoM6tjCPRE0ZHtKyWxWtNt+1g1LimiLdV9WSbqZTwlIJYExgNCJjPRFY/RYc59OoQSkiblGb6KK/wnTu6e07VPSrxIWfj2FPWoysGYwsQr6ayPMWCOf7qzErxJLX+V5eXx16/owQQgj53uhVd8/WLx/IlqnNaPumyA362a96E1vPxz/Wz57913Z175dPb9ev1CrKb1g5+uXoQ58uG5PkxtT6+W+1mvTZ+hdJ32OWxM7c+fv6Q///MR4jjXS41crQ/v9rhTNnhBBCvj9NDn/uo7SOzEjdB8oMNw9hpjWCExMmy8yHk5qI080ChBXqdIEwW0JN0ay0A78DZ6ZMaT87DYpwgbhqu9lBw8TcvZnN2qVB5toIRhHKWxwldu9UMRyvhptFV78Qh+KMEELICXpzUlZjNbHhLUI4kyWKJEZSNlgta7STOfxFgNld9vJcVYhcB+n4YYTZSjplzxNhgBsT3CmW2QKLdo7EvWKT11NiVSLyFpLuS7RqW5JZgGhhfweBpjYJzmAsFjiwdF4hFGeEEEKO0uYeZpWH0m3g2T4K04K1AqxQOepL97oqEEw9ZIYvne+3bndRIXYcvZdZup2xuifaCqmENcq6nfYNP0V5zX5GhPRwtSYhhJAjNCjSCq7e6LNfKVevRJip/aX6eY+R0W0mKiKo0Ztb3Ra1l5mHaDm7+15mKwnjqtHnmuZpiMCxYVoOFr0wU6syveHZmIRcMZw5I4QQcsiqQpauMHUtGLkHyy8AN0U9dNhq8m5GDS7SOri1uKpiB070SJtBmAGyzD2zMSkh1wNnzgghhByidnUXYTZRTvH9gfEza9dZZ1UXIsyErxzwfoz6MYWZYLkzCjPyZODMGSGEkDNUiC0HUTvY60uzQhFM4WWizeIKoX3LDbeUGbJ/+xiMNruUEvIE4MwZIYSQ0/SHcB+cQ9gWSPUB1w7mlggf5XyflDh1QuUBIpaUYHqsFyFPCYozQgghJ2nqojsw3p7umAW7I3AEdw6lzepsgWg1uv/9yQj5CaE4I4QQcoIVllWp3znWrsdW23ZrIO3pRJRahiieIFRn6xBC7gzFGSGEkBM0WNaAYfmd6XKA6YZYzCaowjmcoMY8PXFu5C1YVRmSXM/T3ZEWVRIgyC82shJyVXBBACGEkCtgidSZIZ5ESMNvPCWgTuGGuai8JcqqgRUWSG5WMBDyZKA4I4QQ8mNRxTCdiOKMPFlo1iSEEEIIuSIozgghhHxX6tSHH/hwZhEeb1taQq4XmjUJIYR8P6oYbm4hnldw5jHstIQ/BdoyQphd5tBvuSHmw8WkNGuSJw7FGSGEkO9GW6UoR3NMSgfz2EJa3v6MzgMozsgTh2ZNQggh3w1j6mBm1sjjWgTV7O7CjJAfAM6cEUII+a6sigBTr8EijzGtc6zsOSYVzZrk54XijBBCyHekReFb8FYRinCEKGjhx/O7HQNFcUaeOBRnhBBCvittEWAeNbDMKWzPx2zSf3BbNpvQNjXKZQsYE/nNMcZOiHBGkUaeDhRnhBBCCCFXBBcEEEIIIYRcERRnhBBCCCFXBMUZIYQQQsgVQXFGCCGEEHJFUJwRQgghhFwRFGeEEEIIIVcExRkhhBBCyBVBcUYIIYQQckVQnBFCCCGEXBEUZ4QQQgghVwTFGSGEEELIFUFxRgghhBByNQD/HznZg6XD9NujAAAAAElFTkSuQmCC)"
      ],
      "metadata": {
        "id": "1GR7sDDvIkT8"
      }
    },
    {
      "cell_type": "code",
      "source": [
        "def mean_squared_error(y_true, y_pred):\n",
        "    return ((y_true - y_pred) ** 2).sum() / len(y_true)\n",
        "\n",
        "mean_squared_error(y_true, y_pred)"
      ],
      "metadata": {
        "colab": {
          "base_uri": "https://localhost:8080/"
        },
        "id": "bkTM67ZuIkyK",
        "outputId": "0aaae31d-a974-4779-e443-09929812cd06"
      },
      "execution_count": 11,
      "outputs": [
        {
          "output_type": "execute_result",
          "data": {
            "text/plain": [
              "100.09165607706812"
            ]
          },
          "metadata": {},
          "execution_count": 11
        }
      ]
    },
    {
      "cell_type": "code",
      "source": [
        "from sklearn.metrics import mean_squared_error\n",
        "\n",
        "mean_squared_error(y_true, y_pred)"
      ],
      "metadata": {
        "colab": {
          "base_uri": "https://localhost:8080/"
        },
        "id": "AgoH2lCaIrM3",
        "outputId": "ba20fd26-11e7-4e71-f6e9-b369d79733a2"
      },
      "execution_count": 12,
      "outputs": [
        {
          "output_type": "execute_result",
          "data": {
            "text/plain": [
              "100.09165607706812"
            ]
          },
          "metadata": {},
          "execution_count": 12
        }
      ]
    },
    {
      "cell_type": "markdown",
      "source": [
        "![image.png](data:image/png;base64,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)"
      ],
      "metadata": {
        "id": "fIoDeOdnIt8D"
      }
    },
    {
      "cell_type": "code",
      "source": [
        "def root_mean_squared_error(y_true, y_pred):\n",
        "    return np.sqrt(((y_true - y_pred) ** 2).sum() / len(y_true))\n",
        "\n",
        "root_mean_squared_error(y_true, y_pred)"
      ],
      "metadata": {
        "colab": {
          "base_uri": "https://localhost:8080/"
        },
        "id": "2tSCHu-KIuaX",
        "outputId": "93596511-e34c-4a92-9ccd-f273715a8c5b"
      },
      "execution_count": 13,
      "outputs": [
        {
          "output_type": "execute_result",
          "data": {
            "text/plain": [
              "10.004581754229815"
            ]
          },
          "metadata": {},
          "execution_count": 13
        }
      ]
    },
    {
      "cell_type": "code",
      "source": [
        "np.sqrt(mean_squared_error(y_true, y_pred))"
      ],
      "metadata": {
        "colab": {
          "base_uri": "https://localhost:8080/"
        },
        "id": "sm9BNwQ8IxUm",
        "outputId": "af2dd808-41cb-46e4-a71c-3cbdcd2e58b3"
      },
      "execution_count": 14,
      "outputs": [
        {
          "output_type": "execute_result",
          "data": {
            "text/plain": [
              "10.004581754229815"
            ]
          },
          "metadata": {},
          "execution_count": 14
        }
      ]
    },
    {
      "cell_type": "markdown",
      "source": [
        "![image.png](data:image/png;base64,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)"
      ],
      "metadata": {
        "id": "NmDsBAu3IzVi"
      }
    },
    {
      "cell_type": "code",
      "source": [
        "def max_error(y_true, y_pred):\n",
        "    return abs(y_true - y_pred).max()"
      ],
      "metadata": {
        "id": "SLs2GjfUI2UO"
      },
      "execution_count": 15,
      "outputs": []
    },
    {
      "cell_type": "code",
      "source": [
        "max_error(y_true, y_pred)"
      ],
      "metadata": {
        "colab": {
          "base_uri": "https://localhost:8080/"
        },
        "id": "NFI19IBWI59w",
        "outputId": "e9149750-ef2d-4bde-b39c-ac0a703257fa"
      },
      "execution_count": 16,
      "outputs": [
        {
          "output_type": "execute_result",
          "data": {
            "text/plain": [
              "31.931075678448607"
            ]
          },
          "metadata": {},
          "execution_count": 16
        }
      ]
    },
    {
      "cell_type": "code",
      "source": [
        "from sklearn.metrics import max_error\n",
        "\n",
        "max_error(y_true, y_pred)"
      ],
      "metadata": {
        "colab": {
          "base_uri": "https://localhost:8080/"
        },
        "id": "BfJiAO9iI76U",
        "outputId": "66b18523-b315-4c9a-fad5-ff9a3c4dc7a9"
      },
      "execution_count": 17,
      "outputs": [
        {
          "output_type": "execute_result",
          "data": {
            "text/plain": [
              "31.931075678448607"
            ]
          },
          "metadata": {},
          "execution_count": 17
        }
      ]
    },
    {
      "cell_type": "markdown",
      "source": [
        "![image.png](data:image/png;base64,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)"
      ],
      "metadata": {
        "id": "anIwaZAKJCbu"
      }
    },
    {
      "cell_type": "code",
      "source": [
        "from sklearn.metrics import r2_score\n",
        "\n",
        "r2_score(y_true, y_pred)"
      ],
      "metadata": {
        "colab": {
          "base_uri": "https://localhost:8080/"
        },
        "id": "ze3Dc0W2I9_W",
        "outputId": "6c9482ff-569d-46ce-858f-3d018b9e19b8"
      },
      "execution_count": 18,
      "outputs": [
        {
          "output_type": "execute_result",
          "data": {
            "text/plain": [
              "0.7408064339123333"
            ]
          },
          "metadata": {},
          "execution_count": 18
        }
      ]
    },
    {
      "cell_type": "code",
      "source": [
        "def r2_score(y_true, y_pred):\n",
        "    numerator = ((y_true - y_pred) ** 2).sum()\n",
        "    denominator = ((y_true - y_true.mean()) ** 2).sum()\n",
        "    try:\n",
        "        r2 = 1 - numerator / denominator\n",
        "    except ZeroDivisionError:\n",
        "        print('Dzielenie przez zero')\n",
        "    return r2"
      ],
      "metadata": {
        "id": "jvhRQjtsJFjl"
      },
      "execution_count": 19,
      "outputs": []
    },
    {
      "cell_type": "code",
      "source": [
        "r2_score(y_true, y_pred)"
      ],
      "metadata": {
        "colab": {
          "base_uri": "https://localhost:8080/"
        },
        "id": "NbEQNIrwJIWt",
        "outputId": "fe577e82-438e-47f4-ebeb-7b0f0e11746d"
      },
      "execution_count": 20,
      "outputs": [
        {
          "output_type": "execute_result",
          "data": {
            "text/plain": [
              "0.7408064339123333"
            ]
          },
          "metadata": {},
          "execution_count": 20
        }
      ]
    }
  ]
}