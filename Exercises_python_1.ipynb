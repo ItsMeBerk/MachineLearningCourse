{
  "nbformat": 4,
  "nbformat_minor": 0,
  "metadata": {
    "colab": {
      "provenance": [],
      "authorship_tag": "ABX9TyO4QSqRPWATYx5hYl3QVAGv",
      "include_colab_link": true
    },
    "kernelspec": {
      "name": "python3",
      "display_name": "Python 3"
    },
    "language_info": {
      "name": "python"
    }
  },
  "cells": [
    {
      "cell_type": "markdown",
      "metadata": {
        "id": "view-in-github",
        "colab_type": "text"
      },
      "source": [
        "<a href=\"https://colab.research.google.com/github/ItsMeBerk/MachineLearningCourse/blob/main/Exercises_python_1.ipynb\" target=\"_parent\"><img src=\"https://colab.research.google.com/assets/colab-badge.svg\" alt=\"Open In Colab\"/></a>"
      ]
    },
    {
      "cell_type": "code",
      "execution_count": null,
      "metadata": {
        "id": "sG1EZ_Xu7aNo"
      },
      "outputs": [],
      "source": [
        "people = {\n",
        "        \"IcFDG2bO9AYDF651DoyH\": {'name': 'John', 'age': 27, 'sex': 'Male'},\n",
        "        \"KcD9ntE6IRM59vkVta1k\": {'name': 'Marie', 'age': 22, 'sex': 'Female'},\n",
        "        \"yDlgcn99xPc19mYXcRmy\": {'name': 'Agness', 'age': 25, 'sex': 'Female'},\n",
        "        \"cpQh6GiAbBdGv35NDoTk\": {'name': 'Nabeel', 'age': 17, 'sex': 'Male'},\n",
        "        \"12BifzWxCQySKgLhgahC\": {'name': 'Jasmin ', 'age': 42, 'sex': 'Female'},\n",
        "        \"QLnmg0pzlLj9x7c7DlLv\": {'name': 'Ruby', 'age': 55, 'sex': 'Female'},\n",
        "        \"To47urX0DUznWmOxGZ6H\": {'name': 'Lori', 'age': 27, 'sex': 'Male'},\n",
        "        \"KQ4bir3y4tlkbG69I7zq\": {'name': 'Marie', 'age': 42, 'sex': 'Female'},\n",
        "        \"94cp4hsyZP2BnCh4D34z\": {'name': 'Agness', 'age': 25, 'sex': 'Female'},\n",
        "        \"Vr4wRdkljeEs46Czxo54\": {'name': 'Chiara', 'age': 17, 'sex': 'Male'},\n",
        "         }\n",
        "\"\"\"\n",
        "[('IcFDG2bO9AYDF651DoyH', {'name': 'John', 'age': 27, 'sex': 'Male'}),\n",
        " ('KcD9ntE6IRM59vkVta1k', {'name': 'Marie', 'age': 22, 'sex': 'Female'}),\n",
        " ('yDlgcn99xPc19mYXcRmy', {'name': 'Agness', 'age': 25, 'sex': 'Female'}),\n",
        " ('cpQh6GiAbBdGv35NDoTk', {'name': 'Nabeel', 'age': 17, 'sex': 'Male'}),\n",
        " ('12BifzWxCQySKgLhgahC', {'name': 'Jasmin ', 'age': 42, 'sex': 'Female'}),\n",
        " ('QLnmg0pzlLj9x7c7DlLv', {'name': 'Ruby', 'age': 55, 'sex': 'Female'}),\n",
        " ('To47urX0DUznWmOxGZ6H', {'name': 'Lori', 'age': 27, 'sex': 'Male'}),\n",
        " ('KQ4bir3y4tlkbG69I7zq', {'name': 'Marie', 'age': 42, 'sex': 'Female'}),\n",
        " ('94cp4hsyZP2BnCh4D34z', {'name': 'Agness', 'age': 25, 'sex': 'Female'}),\n",
        " ('Vr4wRdkljeEs46Czxo54', {'name': 'Chiara', 'age': 17, 'sex': 'Male'})]\n",
        "\n",
        "ppllist2 = [\n",
        "            ('John', 27, 'Male'),\n",
        "            ('John3', 22, 'Male'),\n",
        "            ('John2', 11, 'Male')\n",
        "           ]\n",
        "\n",
        "\n",
        "for name, age, sex in ppllist2:\n",
        "    print(name)\n",
        "\n",
        "\"\"\"\n",
        "\n",
        "people2 = [\n",
        "         {'id': 'IcFDG2bO9AYDF651DoyH', 'name': 'John', 'age': 27, 'sex': 'Male'},\n",
        "         {'id': 'KcD9ntE6IRM59vkVta1k', 'name': 'Marie', 'age': 22, 'sex': 'Female'},\n",
        "         {'id': 'yDlgcn99xPc19mYXcRmy', 'name': 'Agness', 'age': 25, 'sex': 'Female'}\n",
        "        ]\n",
        "\n",
        "people3 = [\"Arkadiusz\",\n",
        "           \"Wiola\",\n",
        "           \"Kuba\"\n",
        "          ]\n",
        "\n",
        "\n",
        "ratings1 = {\n",
        "            \"Arkadiusz\": (2,1,2,3,2,3),\n",
        "            \"Agness\": (4,2,1,3,4)\n",
        "           }\n",
        "ratings2 = [\n",
        "        {'name': \"Arkadiusz\", 'ratings': (2,1,2,3,2,3), 'behaviour': 4},\n",
        "        {'name': \"Agness\", 'ratings': (4,2,1,3,4), 'behaviour': 2}\n",
        "    ]\n",
        "\n",
        "ratings3 = {\n",
        "        \"Arkadiusz\": {'ratings': (2,1,2,3,2,3), 'behaviour': 4},\n",
        "        \"Agness:\": {'ratings': (4,2,1,3,4), 'behaviour': 2}\n",
        "    }"
      ]
    },
    {
      "cell_type": "code",
      "source": [
        "for people in ratings1:\n",
        "  print(people, ratings1[people])"
      ],
      "metadata": {
        "colab": {
          "base_uri": "https://localhost:8080/"
        },
        "id": "0QZtjCkvF9yP",
        "outputId": "6e818e6b-4119-484b-865e-f3697d54f128"
      },
      "execution_count": null,
      "outputs": [
        {
          "output_type": "stream",
          "name": "stdout",
          "text": [
            "Arkadiusz (2, 1, 2, 3, 2, 3)\n",
            "Agness (4, 2, 1, 3, 4)\n"
          ]
        }
      ]
    },
    {
      "cell_type": "code",
      "source": [
        "for parameters in ratings2:\n",
        "  for data in parameters:\n",
        "    print(data, parameters[data])"
      ],
      "metadata": {
        "colab": {
          "base_uri": "https://localhost:8080/"
        },
        "id": "qKJpvNU4GhNG",
        "outputId": "0a1de645-7176-410c-9dea-8f1cbd426d99"
      },
      "execution_count": null,
      "outputs": [
        {
          "output_type": "stream",
          "name": "stdout",
          "text": [
            "name Arkadiusz\n",
            "ratings (2, 1, 2, 3, 2, 3)\n",
            "behaviour 4\n",
            "name Agness\n",
            "ratings (4, 2, 1, 3, 4)\n",
            "behaviour 2\n"
          ]
        }
      ]
    },
    {
      "cell_type": "code",
      "source": [
        "for students in ratings3:\n",
        "  print('Student:',students)\n",
        "  for students2 in ratings3[students]:\n",
        "    print(students2, ratings3[students][students2])"
      ],
      "metadata": {
        "colab": {
          "base_uri": "https://localhost:8080/"
        },
        "id": "D3CTYPYaH_Zg",
        "outputId": "0154e333-9cbe-45e5-faa3-d417a9487048"
      },
      "execution_count": null,
      "outputs": [
        {
          "output_type": "stream",
          "name": "stdout",
          "text": [
            "Student: Arkadiusz\n",
            "ratings (2, 1, 2, 3, 2, 3)\n",
            "behaviour 4\n",
            "Student: Agness:\n",
            "ratings (4, 2, 1, 3, 4)\n",
            "behaviour 2\n"
          ]
        }
      ]
    },
    {
      "cell_type": "code",
      "source": [
        "for name, dictionary in ratings3.items():\n",
        "  print(\"ID\",name)\n",
        "  for key in dictionary:\n",
        "    print(key, dictionary[key])"
      ],
      "metadata": {
        "colab": {
          "base_uri": "https://localhost:8080/"
        },
        "id": "i6X6EfMUJ5F0",
        "outputId": "986fbd9f-7c6a-482b-b547-f5abd9225f37"
      },
      "execution_count": null,
      "outputs": [
        {
          "output_type": "stream",
          "name": "stdout",
          "text": [
            "ID Arkadiusz\n",
            "ratings (2, 1, 2, 3, 2, 3)\n",
            "behaviour 4\n",
            "ID Agness:\n",
            "ratings (4, 2, 1, 3, 4)\n",
            "behaviour 2\n"
          ]
        }
      ]
    },
    {
      "cell_type": "code",
      "source": [
        "liczby = [1,2,3,4,5,6]\n",
        "\n",
        "potegiDwojki = []\n",
        "for element in liczby:\n",
        "  potegiDwojki.append(element**2)\n",
        "\n",
        "liczbyParzyste = []\n",
        "for element in liczby:\n",
        "  if (element % 2 == 0):\n",
        "    liczbyParzyste.append(element)"
      ],
      "metadata": {
        "id": "ffsllwa_MIDx"
      },
      "execution_count": null,
      "outputs": []
    },
    {
      "cell_type": "code",
      "source": [
        "potegiDwojki2 = [element**2\n",
        "                 for element in liczby\n",
        "                 if element % 2 == 0]\n",
        "potegiDwojki2"
      ],
      "metadata": {
        "colab": {
          "base_uri": "https://localhost:8080/"
        },
        "id": "RgkGIFfNM-gs",
        "outputId": "a252d2e7-13ce-4178-c6b1-ca0b71a0ba0b"
      },
      "execution_count": null,
      "outputs": [
        {
          "output_type": "execute_result",
          "data": {
            "text/plain": [
              "[4, 16, 36]"
            ]
          },
          "metadata": {},
          "execution_count": 17
        }
      ]
    },
    {
      "cell_type": "code",
      "source": [
        "for humans in people3:\n",
        "  print(humans)"
      ],
      "metadata": {
        "colab": {
          "base_uri": "https://localhost:8080/"
        },
        "id": "Yh8ZynJxRCig",
        "outputId": "5b3beaeb-e390-40f5-e0c9-3afc0f3d2b1f"
      },
      "execution_count": null,
      "outputs": [
        {
          "output_type": "stream",
          "name": "stdout",
          "text": [
            "Arkadiusz\n",
            "Wiola\n",
            "Kuba\n"
          ]
        }
      ]
    },
    {
      "cell_type": "code",
      "source": [
        "people2 = [\n",
        "         {'id': 'IcFDG2bO9AYDF651DoyH', 'name': 'John', 'age': 27, 'sex': 'Male'},\n",
        "         {'id': 'KcD9ntE6IRM59vkVta1k', 'name': 'Marie', 'age': 22, 'sex': 'Female'},\n",
        "         {'id': 'yDlgcn99xPc19mYXcRmy', 'name': 'Agness', 'age': 25, 'sex': 'Female'}\n",
        "        ]\n",
        "\n",
        "for things in people2:\n",
        "  for things2 in things:\n",
        "    print(things2, things[things2])"
      ],
      "metadata": {
        "colab": {
          "base_uri": "https://localhost:8080/"
        },
        "id": "ob-NYN-3RP4x",
        "outputId": "1ba756f9-ee00-4940-ca49-8cf80cf04449"
      },
      "execution_count": null,
      "outputs": [
        {
          "output_type": "stream",
          "name": "stdout",
          "text": [
            "id IcFDG2bO9AYDF651DoyH\n",
            "name John\n",
            "age 27\n",
            "sex Male\n",
            "id KcD9ntE6IRM59vkVta1k\n",
            "name Marie\n",
            "age 22\n",
            "sex Female\n",
            "id yDlgcn99xPc19mYXcRmy\n",
            "name Agness\n",
            "age 25\n",
            "sex Female\n"
          ]
        }
      ]
    },
    {
      "cell_type": "code",
      "source": [
        "people = {\n",
        "        \"IcFDG2bO9AYDF651DoyH\": {'name': 'John', 'age': 27, 'sex': 'Male'},\n",
        "        \"KcD9ntE6IRM59vkVta1k\": {'name': 'Marie', 'age': 22, 'sex': 'Female'},\n",
        "        \"yDlgcn99xPc19mYXcRmy\": {'name': 'Agness', 'age': 25, 'sex': 'Female'},\n",
        "        \"cpQh6GiAbBdGv35NDoTk\": {'name': 'Nabeel', 'age': 17, 'sex': 'Male'},\n",
        "        \"12BifzWxCQySKgLhgahC\": {'name': 'Jasmin ', 'age': 42, 'sex': 'Female'},\n",
        "        \"QLnmg0pzlLj9x7c7DlLv\": {'name': 'Ruby', 'age': 55, 'sex': 'Female'},\n",
        "        \"To47urX0DUznWmOxGZ6H\": {'name': 'Lori', 'age': 27, 'sex': 'Male'},\n",
        "        \"KQ4bir3y4tlkbG69I7zq\": {'name': 'Marie', 'age': 42, 'sex': 'Female'},\n",
        "        \"94cp4hsyZP2BnCh4D34z\": {'name': 'Agness', 'age': 25, 'sex': 'Female'},\n",
        "        \"Vr4wRdkljeEs46Czxo54\": {'name': 'Chiara', 'age': 17, 'sex': 'Male'},\n",
        "}\n",
        "\n",
        "\n",
        "for id in people:\n",
        "  print(\"ID:\",id)\n",
        "  for things in people[id]:\n",
        "    print(things, people[id][things])"
      ],
      "metadata": {
        "id": "gAZQBsF0SjJa",
        "colab": {
          "base_uri": "https://localhost:8080/"
        },
        "outputId": "f2cffcae-99e5-40b1-e868-583a88e9bb1d"
      },
      "execution_count": null,
      "outputs": [
        {
          "output_type": "stream",
          "name": "stdout",
          "text": [
            "ID: IcFDG2bO9AYDF651DoyH\n",
            "name John\n",
            "age 27\n",
            "sex Male\n",
            "ID: KcD9ntE6IRM59vkVta1k\n",
            "name Marie\n",
            "age 22\n",
            "sex Female\n",
            "ID: yDlgcn99xPc19mYXcRmy\n",
            "name Agness\n",
            "age 25\n",
            "sex Female\n",
            "ID: cpQh6GiAbBdGv35NDoTk\n",
            "name Nabeel\n",
            "age 17\n",
            "sex Male\n",
            "ID: 12BifzWxCQySKgLhgahC\n",
            "name Jasmin \n",
            "age 42\n",
            "sex Female\n",
            "ID: QLnmg0pzlLj9x7c7DlLv\n",
            "name Ruby\n",
            "age 55\n",
            "sex Female\n",
            "ID: To47urX0DUznWmOxGZ6H\n",
            "name Lori\n",
            "age 27\n",
            "sex Male\n",
            "ID: KQ4bir3y4tlkbG69I7zq\n",
            "name Marie\n",
            "age 42\n",
            "sex Female\n",
            "ID: 94cp4hsyZP2BnCh4D34z\n",
            "name Agness\n",
            "age 25\n",
            "sex Female\n",
            "ID: Vr4wRdkljeEs46Czxo54\n",
            "name Chiara\n",
            "age 17\n",
            "sex Male\n"
          ]
        }
      ]
    },
    {
      "cell_type": "code",
      "source": [
        "# Wyrażenia listowe\n",
        "\n",
        "liczby = [1,2,3,4,5,6]\n",
        "\n",
        "potegiDwojki = []\n",
        "for element in liczby:\n",
        "  potegiDwojki.append(element**2)\n",
        "\n",
        "liczbyParzyste = []\n",
        "for element in liczby:\n",
        "  if element % 2 == 0:\n",
        "    liczbyParzyste.append(element)\n",
        "\n",
        "\n",
        "liczbyParzyste2 = [\n",
        "    element ** 2\n",
        "    for element in liczby\n",
        "    if element % 2 == 0\n",
        "]\n",
        "\n",
        "liczbyParzyste2"
      ],
      "metadata": {
        "colab": {
          "base_uri": "https://localhost:8080/"
        },
        "id": "TF0RLXzO8jH5",
        "outputId": "2b089564-38d6-438a-eeeb-9b982afecd17"
      },
      "execution_count": null,
      "outputs": [
        {
          "output_type": "execute_result",
          "data": {
            "text/plain": [
              "[4, 16, 36]"
            ]
          },
          "metadata": {},
          "execution_count": 4
        }
      ]
    },
    {
      "cell_type": "code",
      "source": [
        "# Wyrażenia generujące\n",
        "\n",
        "evenNumbersGenerator = (element\n",
        "                        for element in range(400)\n",
        "                        if (element % 2 == 0)\n",
        "                        )\n",
        "\n",
        "for item in evenNumbersGenerator:\n",
        "  print(item)"
      ],
      "metadata": {
        "colab": {
          "base_uri": "https://localhost:8080/"
        },
        "id": "dz192dcQACiq",
        "outputId": "4c7441c4-2647-44bf-a7c6-4bd24c072e72"
      },
      "execution_count": null,
      "outputs": [
        {
          "output_type": "stream",
          "name": "stdout",
          "text": [
            "0\n",
            "2\n",
            "4\n",
            "6\n",
            "8\n",
            "10\n",
            "12\n",
            "14\n",
            "16\n",
            "18\n",
            "20\n",
            "22\n",
            "24\n",
            "26\n",
            "28\n",
            "30\n",
            "32\n",
            "34\n",
            "36\n",
            "38\n",
            "40\n",
            "42\n",
            "44\n",
            "46\n",
            "48\n",
            "50\n",
            "52\n",
            "54\n",
            "56\n",
            "58\n",
            "60\n",
            "62\n",
            "64\n",
            "66\n",
            "68\n",
            "70\n",
            "72\n",
            "74\n",
            "76\n",
            "78\n",
            "80\n",
            "82\n",
            "84\n",
            "86\n",
            "88\n",
            "90\n",
            "92\n",
            "94\n",
            "96\n",
            "98\n",
            "100\n",
            "102\n",
            "104\n",
            "106\n",
            "108\n",
            "110\n",
            "112\n",
            "114\n",
            "116\n",
            "118\n",
            "120\n",
            "122\n",
            "124\n",
            "126\n",
            "128\n",
            "130\n",
            "132\n",
            "134\n",
            "136\n",
            "138\n",
            "140\n",
            "142\n",
            "144\n",
            "146\n",
            "148\n",
            "150\n",
            "152\n",
            "154\n",
            "156\n",
            "158\n",
            "160\n",
            "162\n",
            "164\n",
            "166\n",
            "168\n",
            "170\n",
            "172\n",
            "174\n",
            "176\n",
            "178\n",
            "180\n",
            "182\n",
            "184\n",
            "186\n",
            "188\n",
            "190\n",
            "192\n",
            "194\n",
            "196\n",
            "198\n",
            "200\n",
            "202\n",
            "204\n",
            "206\n",
            "208\n",
            "210\n",
            "212\n",
            "214\n",
            "216\n",
            "218\n",
            "220\n",
            "222\n",
            "224\n",
            "226\n",
            "228\n",
            "230\n",
            "232\n",
            "234\n",
            "236\n",
            "238\n",
            "240\n",
            "242\n",
            "244\n",
            "246\n",
            "248\n",
            "250\n",
            "252\n",
            "254\n",
            "256\n",
            "258\n",
            "260\n",
            "262\n",
            "264\n",
            "266\n",
            "268\n",
            "270\n",
            "272\n",
            "274\n",
            "276\n",
            "278\n",
            "280\n",
            "282\n",
            "284\n",
            "286\n",
            "288\n",
            "290\n",
            "292\n",
            "294\n",
            "296\n",
            "298\n",
            "300\n",
            "302\n",
            "304\n",
            "306\n",
            "308\n",
            "310\n",
            "312\n",
            "314\n",
            "316\n",
            "318\n",
            "320\n",
            "322\n",
            "324\n",
            "326\n",
            "328\n",
            "330\n",
            "332\n",
            "334\n",
            "336\n",
            "338\n",
            "340\n",
            "342\n",
            "344\n",
            "346\n",
            "348\n",
            "350\n",
            "352\n",
            "354\n",
            "356\n",
            "358\n",
            "360\n",
            "362\n",
            "364\n",
            "366\n",
            "368\n",
            "370\n",
            "372\n",
            "374\n",
            "376\n",
            "378\n",
            "380\n",
            "382\n",
            "384\n",
            "386\n",
            "388\n",
            "390\n",
            "392\n",
            "394\n",
            "396\n",
            "398\n"
          ]
        }
      ]
    },
    {
      "cell_type": "code",
      "source": [
        "import sys\n",
        "\n",
        "print(sys.getsizeof(evenNumbersGenerator))"
      ],
      "metadata": {
        "colab": {
          "base_uri": "https://localhost:8080/"
        },
        "id": "mdEuYWSJA5iY",
        "outputId": "11fa5a9d-8190-4515-828f-f2b1dbbcfdc4"
      },
      "execution_count": null,
      "outputs": [
        {
          "output_type": "stream",
          "name": "stdout",
          "text": [
            "104\n"
          ]
        }
      ]
    },
    {
      "cell_type": "code",
      "source": [
        "for item in evenNumbersGenerator:\n",
        "  print(item)"
      ],
      "metadata": {
        "id": "ZB4zeK14BLUH"
      },
      "execution_count": null,
      "outputs": []
    },
    {
      "cell_type": "code",
      "source": [
        "print(sys.getsizeof(evenNumbersGenerator))"
      ],
      "metadata": {
        "colab": {
          "base_uri": "https://localhost:8080/"
        },
        "id": "6QMEPrqKBRsU",
        "outputId": "663c5077-fa02-44cb-bf3f-80e3ec506632"
      },
      "execution_count": null,
      "outputs": [
        {
          "output_type": "stream",
          "name": "stdout",
          "text": [
            "104\n"
          ]
        }
      ]
    },
    {
      "cell_type": "code",
      "source": [
        "sum(evenNumbersGenerator)"
      ],
      "metadata": {
        "colab": {
          "base_uri": "https://localhost:8080/"
        },
        "id": "JSxWOQEqBWPD",
        "outputId": "507c2f51-9ad2-4dc8-a666-79248781e59f"
      },
      "execution_count": null,
      "outputs": [
        {
          "output_type": "execute_result",
          "data": {
            "text/plain": [
              "0"
            ]
          },
          "metadata": {},
          "execution_count": 9
        }
      ]
    },
    {
      "cell_type": "code",
      "source": [
        "numbers100 = (element\n",
        "              for element in range(101))\n",
        "\n",
        "sum(numbers100)"
      ],
      "metadata": {
        "colab": {
          "base_uri": "https://localhost:8080/"
        },
        "id": "OpXbWfTVBZq9",
        "outputId": "60cf00fa-22cb-4171-e292-ef2f211587fa"
      },
      "execution_count": null,
      "outputs": [
        {
          "output_type": "execute_result",
          "data": {
            "text/plain": [
              "5050"
            ]
          },
          "metadata": {},
          "execution_count": 14
        }
      ]
    },
    {
      "cell_type": "code",
      "source": [
        "# Wyrażenia słownikowe (dicty)\n",
        "\n",
        "names = {'Arkadiusz','Krzysiek','Karol','Basia','Jurek'}\n",
        "\n",
        "numbers = [1,2,3,4,5]\n",
        "\n",
        "celcius = { 't1': -20, 't2': -15, 't3': 0, 't4': 12, 't5': 24}\n",
        "\n",
        "namesLength = {\n",
        "    name : len(name)\n",
        "    for name in names\n",
        "    if name.startswith('A')\n",
        "}\n",
        "\n",
        "\n",
        "\n",
        "multipliedNumbers = {\n",
        "    number: number*number\n",
        "    for number in numbers\n",
        "}\n",
        "\n",
        "multipliedNumbers\n",
        "\n",
        "toFahrenheit = {\n",
        "    temperature: celcius * 9/5 + 32\n",
        "    for temperature, celcius in celcius.items()\n",
        "    if celcius >=0\n",
        "    }\n",
        "\n",
        "toFahrenheit"
      ],
      "metadata": {
        "colab": {
          "base_uri": "https://localhost:8080/"
        },
        "id": "q-e3pNDcDJNQ",
        "outputId": "9bf88b7f-5960-4b4c-9907-7e0052c73993"
      },
      "execution_count": null,
      "outputs": [
        {
          "output_type": "execute_result",
          "data": {
            "text/plain": [
              "{'t3': 32.0, 't4': 53.6, 't5': 75.2}"
            ]
          },
          "metadata": {},
          "execution_count": 22
        }
      ]
    },
    {
      "cell_type": "code",
      "source": [
        "# zbiór\n",
        "\n",
        "names = {'arkadiusz','basia','kasia','mela','ciechan','batman'}\n",
        "\n",
        "namez = {\n",
        "    name.capitalize()\n",
        "    for name in names\n",
        "    if not name.startswith('b')\n",
        "}\n",
        "\n",
        "namez"
      ],
      "metadata": {
        "colab": {
          "base_uri": "https://localhost:8080/"
        },
        "id": "hbGu7YgzN1oJ",
        "outputId": "71f04e33-25e3-4921-dd94-72e11324fae9"
      },
      "execution_count": null,
      "outputs": [
        {
          "output_type": "execute_result",
          "data": {
            "text/plain": [
              "{'Arkadiusz', 'Ciechan', 'Kasia', 'Mela'}"
            ]
          },
          "metadata": {},
          "execution_count": 24
        }
      ]
    },
    {
      "cell_type": "code",
      "source": [
        "\"\"\"\n",
        "Liczby od 2 do 470, które:\n",
        "są podzielne przez 7, ale nie przez 5\n",
        "\"\"\"\n",
        "\n",
        "( number\n",
        "    for number in range(2,471)\n",
        "    if number % 5 !=0 and number % 7 == 0\n",
        "    )\n",
        "\n",
        "\n",
        "numberz = [ number\n",
        "           for number in range(2, 471)\n",
        "           if number % 5 !=0 and number % 7 == 0]\n",
        "\n",
        "\n",
        "\n",
        "\n",
        "liczbySet = {\n",
        "    liczba\n",
        "    for liczba in range(100,471)\n",
        "    if (liczba % 7 == 0) and (liczba % 5 != 0)\n",
        "    }\n",
        "\n",
        "numbers = [\n",
        "    number\n",
        "    for number in range(100,471)\n",
        "    if (number % 7 == 0) and (number % 5 != 0)\n",
        "]\n",
        "\n",
        "\n",
        "dic = {\n",
        "    i: numbers[i]\n",
        "    for i in range(1, len(numbers))\n",
        "    }\n",
        "\n",
        "dic\n"
      ],
      "metadata": {
        "colab": {
          "base_uri": "https://localhost:8080/"
        },
        "id": "VzEaXrmwSZ1J",
        "outputId": "d0da5304-c6e6-4782-f4d1-53e23a6cd02b"
      },
      "execution_count": null,
      "outputs": [
        {
          "output_type": "execute_result",
          "data": {
            "text/plain": [
              "{1: 119,\n",
              " 2: 126,\n",
              " 3: 133,\n",
              " 4: 147,\n",
              " 5: 154,\n",
              " 6: 161,\n",
              " 7: 168,\n",
              " 8: 182,\n",
              " 9: 189,\n",
              " 10: 196,\n",
              " 11: 203,\n",
              " 12: 217,\n",
              " 13: 224,\n",
              " 14: 231,\n",
              " 15: 238,\n",
              " 16: 252,\n",
              " 17: 259,\n",
              " 18: 266,\n",
              " 19: 273,\n",
              " 20: 287,\n",
              " 21: 294,\n",
              " 22: 301,\n",
              " 23: 308,\n",
              " 24: 322,\n",
              " 25: 329,\n",
              " 26: 336,\n",
              " 27: 343,\n",
              " 28: 357,\n",
              " 29: 364,\n",
              " 30: 371,\n",
              " 31: 378,\n",
              " 32: 392,\n",
              " 33: 399,\n",
              " 34: 406,\n",
              " 35: 413,\n",
              " 36: 427,\n",
              " 37: 434,\n",
              " 38: 441,\n",
              " 39: 448,\n",
              " 40: 462,\n",
              " 41: 469}"
            ]
          },
          "metadata": {},
          "execution_count": 29
        }
      ]
    },
    {
      "cell_type": "markdown",
      "source": [
        "# Funkcje"
      ],
      "metadata": {
        "id": "YCdd2EstdJZC"
      }
    },
    {
      "cell_type": "code",
      "source": [
        "list = [1,2,3,4,5,-1,0,3,0,8,2,-5,-2000,-1,-15]\n",
        "\n",
        "def xd(lista):\n",
        "  suma = 0\n",
        "  for i in lista:\n",
        "    if i >= 0:\n",
        "      suma += i\n",
        "    else:\n",
        "      continue\n",
        "  return suma\n",
        "\n",
        "print(xd(list))"
      ],
      "metadata": {
        "colab": {
          "base_uri": "https://localhost:8080/"
        },
        "id": "TDfqR2BtdICU",
        "outputId": "12c69bf8-d477-49e7-b2c6-6670bd13de4e"
      },
      "execution_count": null,
      "outputs": [
        {
          "output_type": "stream",
          "name": "stdout",
          "text": [
            "28\n"
          ]
        }
      ]
    },
    {
      "cell_type": "code",
      "source": [
        "definicje = {}\n",
        "\n",
        "while(True):\n",
        "    print(\"1: Dodaj definicję\")\n",
        "    print(\"2: Znajdź definicję\")\n",
        "    print(\"3: Usuń definicję\")\n",
        "    print(\"4: Zakończ\")\n",
        "\n",
        "    wybor = input(\"Co chcesz zrobić? \")\n",
        "\n",
        "    if (wybor == \"1\"):\n",
        "        klucz = input(\"Podaj klucz (słowo) do zdefiniowania: \")\n",
        "        definicja = input(\"Podaj definicję: \")\n",
        "        definicje[klucz] = definicja\n",
        "        print(\"Definicja dodana pomyślnie\")\n",
        "    elif (wybor == \"2\"):\n",
        "        klucz = input(\"Czego szukasz? \")\n",
        "        if klucz in definicje:\n",
        "            print(definicje[klucz])\n",
        "        else:\n",
        "            print(\"Nie znaleziono definicji o nazwie\", klucz)\n",
        "    elif (wybor == \"3\"):\n",
        "        klucz = input(\"Jaką definicję chcesz usunąć? \")\n",
        "        if klucz in definicje:\n",
        "            del definicje[klucz]\n",
        "            print(\"Usunięto definicję o nazwie:\", klucz)\n",
        "        else:\n",
        "            print(\"Nie znaleziono definicji o nazwie\", klucz)\n",
        "    elif (wybor == \"4\"):\n",
        "        print(\"No to pa!\")\n",
        "        break\n",
        "    else:\n",
        "        print(\"Podałeś coś z poza zakresu\")"
      ],
      "metadata": {
        "colab": {
          "base_uri": "https://localhost:8080/"
        },
        "id": "pEXUv0s5cMjF",
        "outputId": "1b2eb643-dac0-47a9-8159-5e6a73a6baee"
      },
      "execution_count": null,
      "outputs": [
        {
          "output_type": "stream",
          "name": "stdout",
          "text": [
            "1: Dodaj definicję\n",
            "2: Znajdź definicję\n",
            "3: Usuń definicję\n",
            "4: Zakończ\n",
            "Co chcesz zrobić? 1\n",
            "Podaj klucz (słowo) do zdefiniowania: ciechan\n",
            "Podaj definicję: mój kolega\n",
            "Definicja dodana pomyślnie\n",
            "1: Dodaj definicję\n",
            "2: Znajdź definicję\n",
            "3: Usuń definicję\n",
            "4: Zakończ\n",
            "Co chcesz zrobić? 2\n",
            "Czego szukasz? ciechan\n",
            "mój kolega\n",
            "1: Dodaj definicję\n",
            "2: Znajdź definicję\n",
            "3: Usuń definicję\n",
            "4: Zakończ\n",
            "Co chcesz zrobić? 4\n",
            "No to pa!\n"
          ]
        }
      ]
    },
    {
      "cell_type": "code",
      "source": [
        "def pole_prostokata(a,b):\n",
        "  return a * b\n",
        "\n",
        "print(5*pole_prostokata(2,5))"
      ],
      "metadata": {
        "colab": {
          "base_uri": "https://localhost:8080/"
        },
        "id": "iq9BdLR4giAr",
        "outputId": "a6f2544f-bf93-4697-868b-3e0fdd257bdb"
      },
      "execution_count": null,
      "outputs": [
        {
          "output_type": "stream",
          "name": "stdout",
          "text": [
            "50\n"
          ]
        }
      ]
    },
    {
      "cell_type": "code",
      "source": [
        "suma = 0\n",
        "for liczba in range(1,6):\n",
        "  suma = suma + liczba\n",
        "print(suma)"
      ],
      "metadata": {
        "colab": {
          "base_uri": "https://localhost:8080/"
        },
        "id": "b_NWJGv5iBa4",
        "outputId": "83b1704f-3e89-4569-e227-ee34b536cdb7"
      },
      "execution_count": null,
      "outputs": [
        {
          "output_type": "stream",
          "name": "stdout",
          "text": [
            "15\n"
          ]
        }
      ]
    },
    {
      "cell_type": "code",
      "source": [
        "def sumuj_do(liczba):\n",
        "  suma = 0\n",
        "  for liczba in range(1,liczba+1):\n",
        "    suma = suma + liczba\n",
        "  return suma\n",
        "\n",
        "print(suma)"
      ],
      "metadata": {
        "colab": {
          "base_uri": "https://localhost:8080/"
        },
        "id": "s4_lrgFxv9HO",
        "outputId": "93b1dbb9-6fa3-46ac-d947-6cb77911707e"
      },
      "execution_count": null,
      "outputs": [
        {
          "output_type": "stream",
          "name": "stdout",
          "text": [
            "15\n"
          ]
        }
      ]
    },
    {
      "cell_type": "code",
      "source": [
        "print(sumuj_do(5))"
      ],
      "metadata": {
        "colab": {
          "base_uri": "https://localhost:8080/"
        },
        "id": "bKYom4FmwFW0",
        "outputId": "f09eff95-4826-42fa-c1cb-950ad91dc52e"
      },
      "execution_count": null,
      "outputs": [
        {
          "output_type": "stream",
          "name": "stdout",
          "text": [
            "15\n"
          ]
        }
      ]
    },
    {
      "cell_type": "code",
      "source": [
        "print(sumuj_do(25))"
      ],
      "metadata": {
        "colab": {
          "base_uri": "https://localhost:8080/"
        },
        "id": "IKCCX8nuwL-x",
        "outputId": "2a5a2e5f-eb0e-4ca5-df3c-832ef4325c31"
      },
      "execution_count": null,
      "outputs": [
        {
          "output_type": "stream",
          "name": "stdout",
          "text": [
            "325\n"
          ]
        }
      ]
    },
    {
      "cell_type": "code",
      "source": [
        "import time\n",
        "\n",
        "def sumuj_do(liczba):\n",
        "  suma = 0\n",
        "  for liczba in range(1,liczba+1):\n",
        "    suma = suma + liczba\n",
        "  return suma\n",
        "\n",
        "\n",
        "def sumuj_do2(liczba):\n",
        "  return sum([liczba for liczba in range(1,liczba+1)])\n",
        "\n",
        "def sumuj_do3(liczba):\n",
        "  return sum({liczba for liczba in range(1,liczba+1)})\n",
        "\n",
        "def sumuj_do4(liczba):\n",
        "  return sum((liczba for liczba in range(1,liczba+1)))\n",
        "\n",
        "def sumuj_do5(liczba):\n",
        "  return (1 + liczba) / 2 * liczba\n",
        "\n",
        "\n",
        "start = time.perf_counter()\n",
        "print(sumuj_do(25555555))\n",
        "end = time.perf_counter()\n",
        "print(end-start)\n",
        "\n",
        "\n",
        "start = time.perf_counter()\n",
        "print(sumuj_do2(25555555))\n",
        "end = time.perf_counter()\n",
        "print(end-start)\n",
        "\n",
        "\n",
        "start = time.perf_counter()\n",
        "print(sumuj_do3(25555555))\n",
        "end = time.perf_counter()\n",
        "print(end-start)\n",
        "\n",
        "\n",
        "start = time.perf_counter()\n",
        "print(sumuj_do4(25555555))\n",
        "end = time.perf_counter()\n",
        "print(end-start)\n",
        "\n",
        "\n",
        "start = time.perf_counter()\n",
        "print(sumuj_do5(25555555))\n",
        "end = time.perf_counter()\n",
        "print(end-start)"
      ],
      "metadata": {
        "colab": {
          "base_uri": "https://localhost:8080/"
        },
        "id": "tLwwDRJpw3S0",
        "outputId": "20e9ebc3-e647-4b2d-9e5a-9c5debbf72da"
      },
      "execution_count": null,
      "outputs": [
        {
          "output_type": "stream",
          "name": "stdout",
          "text": [
            "326543208456790\n",
            "1.6423007799999993\n",
            "326543208456790\n",
            "1.8409003840000082\n",
            "326543208456790\n",
            "3.478611397999998\n",
            "326543208456790\n",
            "3.079709740999988\n",
            "326543208456790.0\n",
            "0.0006042329999900176\n"
          ]
        }
      ]
    },
    {
      "cell_type": "code",
      "source": [
        "def function_performance(func, arg, how_many_time=1):\n",
        "  sum = 0\n",
        "  for i in range(0,how_many_time):\n",
        "    start = time.perf_counter()\n",
        "    func(arg)\n",
        "    end = time.perf_counter()\n",
        "    sum = sum + (end-start)\n",
        "  return sum\n",
        "\n",
        "def show_message(message):\n",
        "  print(message)\n"
      ],
      "metadata": {
        "id": "0wT5Z04SyOPb"
      },
      "execution_count": null,
      "outputs": []
    },
    {
      "cell_type": "code",
      "source": [
        "function_performance(sumuj_do,500000)"
      ],
      "metadata": {
        "colab": {
          "base_uri": "https://localhost:8080/"
        },
        "id": "kAo6jzW_k6KG",
        "outputId": "9fcc2891-bd84-4946-ba5f-3f52048c9bbc"
      },
      "execution_count": null,
      "outputs": [
        {
          "output_type": "execute_result",
          "data": {
            "text/plain": [
              "0.05961690099996986"
            ]
          },
          "metadata": {},
          "execution_count": 12
        }
      ]
    },
    {
      "cell_type": "code",
      "source": [
        "function_performance(sumuj_do2,500000)"
      ],
      "metadata": {
        "colab": {
          "base_uri": "https://localhost:8080/"
        },
        "id": "KlYKcrhmk7mp",
        "outputId": "86372516-0573-4e0d-c01f-5ccc1ff04ce8"
      },
      "execution_count": null,
      "outputs": [
        {
          "output_type": "execute_result",
          "data": {
            "text/plain": [
              "0.033425626999985525"
            ]
          },
          "metadata": {},
          "execution_count": 11
        }
      ]
    },
    {
      "cell_type": "code",
      "source": [
        "function_performance(sumuj_do3,500000)"
      ],
      "metadata": {
        "colab": {
          "base_uri": "https://localhost:8080/"
        },
        "id": "FSLEBpdUk8tv",
        "outputId": "285c3238-bf9b-447d-ae76-43c313b1e210"
      },
      "execution_count": null,
      "outputs": [
        {
          "output_type": "execute_result",
          "data": {
            "text/plain": [
              "0.05731134399997018"
            ]
          },
          "metadata": {},
          "execution_count": 13
        }
      ]
    },
    {
      "cell_type": "code",
      "source": [
        "function_performance(sumuj_do4,500000)"
      ],
      "metadata": {
        "colab": {
          "base_uri": "https://localhost:8080/"
        },
        "id": "EQ4DSPAIk9zG",
        "outputId": "a2210a10-e8a3-46ba-9e6a-00965125b68e"
      },
      "execution_count": null,
      "outputs": [
        {
          "output_type": "execute_result",
          "data": {
            "text/plain": [
              "0.04295730500001582"
            ]
          },
          "metadata": {},
          "execution_count": 14
        }
      ]
    },
    {
      "cell_type": "code",
      "source": [
        "function_performance(sumuj_do5,500000)"
      ],
      "metadata": {
        "colab": {
          "base_uri": "https://localhost:8080/"
        },
        "id": "Jww8NG_-k-lW",
        "outputId": "2f52a63b-b3ce-4b04-c312-20876b2103cd"
      },
      "execution_count": null,
      "outputs": [
        {
          "output_type": "execute_result",
          "data": {
            "text/plain": [
              "3.264999975272076e-06"
            ]
          },
          "metadata": {},
          "execution_count": 15
        }
      ]
    },
    {
      "cell_type": "code",
      "source": [
        "def increment(x,amount = 1):\n",
        "  return x + amount\n",
        "\n",
        "increment(12)"
      ],
      "metadata": {
        "colab": {
          "base_uri": "https://localhost:8080/"
        },
        "id": "QZUJbAhUlPMl",
        "outputId": "8825bb96-3376-4328-a8a3-5e84a091ebdd"
      },
      "execution_count": null,
      "outputs": [
        {
          "output_type": "execute_result",
          "data": {
            "text/plain": [
              "13"
            ]
          },
          "metadata": {},
          "execution_count": 17
        }
      ]
    },
    {
      "cell_type": "code",
      "source": [
        "function_performance(sumuj_do5,500000,24)"
      ],
      "metadata": {
        "colab": {
          "base_uri": "https://localhost:8080/"
        },
        "id": "YeuAgr5-qb8q",
        "outputId": "04da3ddc-b12a-4e5e-b142-73512adef24e"
      },
      "execution_count": null,
      "outputs": [
        {
          "output_type": "execute_result",
          "data": {
            "text/plain": [
              "1.3479997960530454e-05"
            ]
          },
          "metadata": {},
          "execution_count": 21
        }
      ]
    },
    {
      "cell_type": "code",
      "source": [
        "function_performance(sumuj_do5,50000000,30)"
      ],
      "metadata": {
        "colab": {
          "base_uri": "https://localhost:8080/"
        },
        "id": "TjPZH0P2t0jr",
        "outputId": "71c78524-7c4e-455d-e709-f460ec3048b8"
      },
      "execution_count": null,
      "outputs": [
        {
          "output_type": "execute_result",
          "data": {
            "text/plain": [
              "8.689399965078337e-05"
            ]
          },
          "metadata": {},
          "execution_count": 22
        }
      ]
    },
    {
      "cell_type": "code",
      "source": [
        "function_performance(sumuj_do5,500000002313,1000)"
      ],
      "metadata": {
        "colab": {
          "base_uri": "https://localhost:8080/"
        },
        "id": "yrwVIoret3c-",
        "outputId": "3b406e9d-ed35-47d7-8e36-f595693cdb16"
      },
      "execution_count": null,
      "outputs": [
        {
          "output_type": "execute_result",
          "data": {
            "text/plain": [
              "0.0005370089961616031"
            ]
          },
          "metadata": {},
          "execution_count": 24
        }
      ]
    },
    {
      "cell_type": "code",
      "source": [
        "def greet(name, message, separator = \" \"):\n",
        "  print(message, name)\n",
        "\n",
        "greet(\"Arek\",'Witajcie')\n",
        "\n"
      ],
      "metadata": {
        "colab": {
          "base_uri": "https://localhost:8080/"
        },
        "id": "mz61XeBBuisg",
        "outputId": "e746287b-2b90-44e9-b74d-95abb9e4eceb"
      },
      "execution_count": null,
      "outputs": [
        {
          "output_type": "stream",
          "name": "stdout",
          "text": [
            "Witajcie Arek\n"
          ]
        }
      ]
    },
    {
      "cell_type": "code",
      "source": [
        "def function_performance(func, how_many_time=1, **arg):\n",
        "  sum = 0\n",
        "  for i in range(0,how_many_time):\n",
        "    start = time.perf_counter()\n",
        "    func(**arg)\n",
        "    end = time.perf_counter()\n",
        "    sum = sum + (end-start)\n",
        "  return sum\n",
        "\n",
        "\n",
        "setContainer = { i for i in range(1000)}\n",
        "\n",
        "listContainer = [i for i in range(1000)]"
      ],
      "metadata": {
        "id": "9ONZGkBXvFmh"
      },
      "execution_count": null,
      "outputs": []
    },
    {
      "cell_type": "code",
      "source": [
        "def belong(what_value,container):\n",
        "  if what_value in container:\n",
        "    return \"Yes\"\n",
        "  else:\n",
        "    return \"No\""
      ],
      "metadata": {
        "id": "SUzaU839yWQW"
      },
      "execution_count": null,
      "outputs": []
    },
    {
      "cell_type": "code",
      "source": [
        "# Argumenty pozycyjne (nienazwane) zawsze przed argumentami nazwanymi!!!"
      ],
      "metadata": {
        "id": "R0LRDQcfypIF"
      },
      "execution_count": null,
      "outputs": []
    },
    {
      "cell_type": "code",
      "source": [
        "print(function_performance(belong,50000,what_value=500,container= setContainer))"
      ],
      "metadata": {
        "colab": {
          "base_uri": "https://localhost:8080/"
        },
        "id": "EjbMR3k82A9b",
        "outputId": "6c9df477-e523-4ffb-cf07-06a65c0a0905"
      },
      "execution_count": null,
      "outputs": [
        {
          "output_type": "stream",
          "name": "stdout",
          "text": [
            "0.037102318122379074\n"
          ]
        }
      ]
    },
    {
      "cell_type": "code",
      "source": [
        "def count(*arg):\n",
        "  suma = 0\n",
        "  liczby = [*arg]\n",
        "  for i in arg:\n",
        "    suma = suma + i\n",
        "  return suma\n",
        "\n",
        "\n",
        "print(count(1,2,3))"
      ],
      "metadata": {
        "colab": {
          "base_uri": "https://localhost:8080/"
        },
        "id": "QrB8qZXF9G54",
        "outputId": "d76ae6f8-09eb-4ce7-fd13-1ecd722166cf"
      },
      "execution_count": null,
      "outputs": [
        {
          "output_type": "stream",
          "name": "stdout",
          "text": [
            "6\n"
          ]
        }
      ]
    },
    {
      "cell_type": "code",
      "source": [
        "def add():\n",
        "  global c\n",
        "  c = c + 4\n",
        "  print(c)\n",
        "\n",
        "\n",
        "c = 1\n",
        "\n",
        "add()"
      ],
      "metadata": {
        "colab": {
          "base_uri": "https://localhost:8080/"
        },
        "id": "LH1GvqtNDkVY",
        "outputId": "1a8c11d3-fb65-459c-e85c-e5d744e74e23"
      },
      "execution_count": null,
      "outputs": [
        {
          "output_type": "stream",
          "name": "stdout",
          "text": [
            "5\n"
          ]
        }
      ]
    },
    {
      "cell_type": "code",
      "source": [
        "def evil_function(toBeDesotroyed):\n",
        "  print(id(toBeDesotroyed))\n",
        "  toBeDesotroyed[0] = 4\n",
        "\n",
        "myList = [1,4,2,1,52,3]\n",
        "\n",
        "evil_function(myList.copy())\n",
        "\n"
      ],
      "metadata": {
        "colab": {
          "base_uri": "https://localhost:8080/"
        },
        "id": "_fBWK29eHsrd",
        "outputId": "20fad1a5-22b1-4886-a5a3-72b9112e02a5"
      },
      "execution_count": null,
      "outputs": [
        {
          "output_type": "stream",
          "name": "stdout",
          "text": [
            "136145040511936\n"
          ]
        }
      ]
    },
    {
      "cell_type": "markdown",
      "source": [
        "Obiekt to zmienna, która ma więcej możliwości, można wywoływać na nim funkcje, może również mieć więcej niż 1 wartość.\n",
        "Obiekty, które są immutable: bool, int, float, tuple, str\n",
        "immutable - niezmienne\n",
        "mutable - zmienne"
      ],
      "metadata": {
        "id": "KZ5sK1oIKwg4"
      }
    },
    {
      "cell_type": "code",
      "source": [
        "a = 4\n",
        "# metoda - funkcja powiązana z obiektem"
      ],
      "metadata": {
        "id": "P-wC4Yi-bj0b"
      },
      "execution_count": null,
      "outputs": []
    },
    {
      "cell_type": "code",
      "source": [
        "print(a.bit_length())"
      ],
      "metadata": {
        "id": "geGxmjPbbpFt",
        "colab": {
          "base_uri": "https://localhost:8080/"
        },
        "outputId": "c6d5f79e-f11f-4d7c-fa16-ad5740bb2336"
      },
      "execution_count": null,
      "outputs": [
        {
          "output_type": "stream",
          "name": "stdout",
          "text": [
            "3\n"
          ]
        }
      ]
    },
    {
      "cell_type": "code",
      "source": [
        "a = 4\n",
        "listSample = [1, 4, 512, 24]"
      ],
      "metadata": {
        "id": "qRnVuLJIMCre"
      },
      "execution_count": null,
      "outputs": []
    },
    {
      "cell_type": "code",
      "source": [
        "listSample2 = listSample"
      ],
      "metadata": {
        "id": "r0KbyOVuMIXj"
      },
      "execution_count": null,
      "outputs": []
    },
    {
      "cell_type": "code",
      "source": [
        "listSample2.append(465)"
      ],
      "metadata": {
        "id": "210K7Z1_MLFu"
      },
      "execution_count": null,
      "outputs": []
    },
    {
      "cell_type": "code",
      "source": [
        "id"
      ],
      "metadata": {
        "colab": {
          "base_uri": "https://localhost:8080/"
        },
        "id": "9cl8WvGIMPf7",
        "outputId": "dff11088-5716-43f4-cdfe-3f4c4182c0d1"
      },
      "execution_count": null,
      "outputs": [
        {
          "output_type": "execute_result",
          "data": {
            "text/plain": [
              "<function id(obj, /)>"
            ]
          },
          "metadata": {},
          "execution_count": 7
        }
      ]
    },
    {
      "cell_type": "code",
      "source": [
        "a = 4\n",
        "b = a\n",
        "b = 7"
      ],
      "metadata": {
        "id": "Q2u-rMgYMYpI"
      },
      "execution_count": null,
      "outputs": []
    },
    {
      "cell_type": "code",
      "source": [
        "a"
      ],
      "metadata": {
        "colab": {
          "base_uri": "https://localhost:8080/"
        },
        "id": "meq4Pd2WMbbm",
        "outputId": "15f6cf92-c701-45d6-c97f-7592f3114abd"
      },
      "execution_count": null,
      "outputs": [
        {
          "output_type": "execute_result",
          "data": {
            "text/plain": [
              "4"
            ]
          },
          "metadata": {},
          "execution_count": 9
        }
      ]
    },
    {
      "cell_type": "code",
      "source": [
        "b"
      ],
      "metadata": {
        "colab": {
          "base_uri": "https://localhost:8080/"
        },
        "id": "sAc7hrHUMcnt",
        "outputId": "e2c60604-cfec-47df-cf9c-ae6d7e6da275"
      },
      "execution_count": null,
      "outputs": [
        {
          "output_type": "execute_result",
          "data": {
            "text/plain": [
              "7"
            ]
          },
          "metadata": {},
          "execution_count": 10
        }
      ]
    },
    {
      "cell_type": "code",
      "source": [
        "a = 4\n",
        "print(id(a))\n",
        "b = a\n",
        "print(id(a))\n",
        "b = 7\n",
        "print(id(a))"
      ],
      "metadata": {
        "colab": {
          "base_uri": "https://localhost:8080/"
        },
        "id": "XkGSrAWvMiN8",
        "outputId": "587871c4-88e0-4df8-8864-46bc85d2c563"
      },
      "execution_count": null,
      "outputs": [
        {
          "output_type": "stream",
          "name": "stdout",
          "text": [
            "136565368488272\n",
            "136565368488272\n",
            "136565368488272\n"
          ]
        }
      ]
    },
    {
      "cell_type": "code",
      "source": [
        "a = 4\n",
        "print(id(a))\n",
        "b = a\n",
        "print(id(b))\n",
        "b = 7\n",
        "print(id(b))"
      ],
      "metadata": {
        "colab": {
          "base_uri": "https://localhost:8080/"
        },
        "id": "URWB8RDMM5Lv",
        "outputId": "dea085a1-f24c-4963-b818-8abe0f6bfd61"
      },
      "execution_count": null,
      "outputs": [
        {
          "output_type": "stream",
          "name": "stdout",
          "text": [
            "136565368488272\n",
            "136565368488272\n",
            "136565368488368\n"
          ]
        }
      ]
    },
    {
      "cell_type": "markdown",
      "source": [
        "Zmiana miejsca przypisania na nowy adres, na inny obiekt '='"
      ],
      "metadata": {
        "id": "oEkvX0hdM9zv"
      }
    },
    {
      "cell_type": "code",
      "source": [
        "listSample = [1, 4, 512, 24]\n",
        "\n",
        "listSample2 = listSample\n",
        "\n",
        "listSample2[0] = 7\n",
        "listSample"
      ],
      "metadata": {
        "colab": {
          "base_uri": "https://localhost:8080/"
        },
        "id": "M0x4n6m9M8Z0",
        "outputId": "34940b30-f3c8-4667-ca5f-51535042e1aa"
      },
      "execution_count": null,
      "outputs": [
        {
          "output_type": "execute_result",
          "data": {
            "text/plain": [
              "[7, 4, 512, 24]"
            ]
          },
          "metadata": {},
          "execution_count": 14
        }
      ]
    },
    {
      "cell_type": "code",
      "source": [
        "listSample2"
      ],
      "metadata": {
        "colab": {
          "base_uri": "https://localhost:8080/"
        },
        "id": "YvrAfbTdODa0",
        "outputId": "58911f7a-9aa7-4a4d-942b-7c6cf1d2799d"
      },
      "execution_count": null,
      "outputs": [
        {
          "output_type": "execute_result",
          "data": {
            "text/plain": [
              "[7, 4, 512, 24]"
            ]
          },
          "metadata": {},
          "execution_count": 15
        }
      ]
    },
    {
      "cell_type": "markdown",
      "source": [
        "Listy są mutable - jeden jest przypisany do drugiego i oba polegają na sobie, znak równości tworzy drugie powiązanie"
      ],
      "metadata": {
        "id": "Ki8v58ZROFHQ"
      }
    },
    {
      "cell_type": "code",
      "source": [
        "k = 4\n",
        "h = 4"
      ],
      "metadata": {
        "id": "YIpaV-jAOJiZ"
      },
      "execution_count": null,
      "outputs": []
    },
    {
      "cell_type": "code",
      "source": [
        "id(h)"
      ],
      "metadata": {
        "colab": {
          "base_uri": "https://localhost:8080/"
        },
        "id": "ewvNJ0O4OYIi",
        "outputId": "49a0325e-8fec-45df-e0d4-c48984a95ead"
      },
      "execution_count": null,
      "outputs": [
        {
          "output_type": "execute_result",
          "data": {
            "text/plain": [
              "136565368488272"
            ]
          },
          "metadata": {},
          "execution_count": 18
        }
      ]
    },
    {
      "cell_type": "code",
      "source": [
        "id(k)"
      ],
      "metadata": {
        "colab": {
          "base_uri": "https://localhost:8080/"
        },
        "id": "LvJEdlo_OaXa",
        "outputId": "db6d2884-0f46-4149-9664-75977da3002c"
      },
      "execution_count": null,
      "outputs": [
        {
          "output_type": "execute_result",
          "data": {
            "text/plain": [
              "136565368488272"
            ]
          },
          "metadata": {},
          "execution_count": 19
        }
      ]
    },
    {
      "cell_type": "code",
      "source": [
        "c = 5\n",
        "def add(c, amount = 1):\n",
        "  c = c + amount\n",
        "\n",
        "add(c)\n",
        "c"
      ],
      "metadata": {
        "colab": {
          "base_uri": "https://localhost:8080/"
        },
        "id": "5pU78QH5OeNc",
        "outputId": "68b26090-c830-421c-c801-403e6cbe2c85"
      },
      "execution_count": null,
      "outputs": [
        {
          "output_type": "execute_result",
          "data": {
            "text/plain": [
              "5"
            ]
          },
          "metadata": {},
          "execution_count": 23
        }
      ]
    },
    {
      "cell_type": "code",
      "source": [
        "c = 5\n",
        "print(id(c))\n",
        "def add(c, amount = 1):\n",
        "  print(id(c))\n",
        "  c = c + amount\n",
        "  print(id(c))\n",
        "add(c)\n",
        "c\n",
        "# przy zmianie wartości zmienia się indeks - immutable, ale c globalne pozostałe niezmienione"
      ],
      "metadata": {
        "colab": {
          "base_uri": "https://localhost:8080/"
        },
        "id": "4ro7E8lDOpSk",
        "outputId": "5ab17b70-6910-429d-da9f-3575e1962565"
      },
      "execution_count": null,
      "outputs": [
        {
          "output_type": "stream",
          "name": "stdout",
          "text": [
            "136565368488304\n",
            "136565368488304\n",
            "136565368488336\n"
          ]
        },
        {
          "output_type": "execute_result",
          "data": {
            "text/plain": [
              "5"
            ]
          },
          "metadata": {},
          "execution_count": 25
        }
      ]
    },
    {
      "cell_type": "code",
      "source": [
        "def append_element_to_list(lista,element):\n",
        "  print(id(lista))\n",
        "  lista.append(element)\n",
        "  print(id(lista))\n",
        "\n",
        "print(id(listSample))\n",
        "append_element_to_list(listSample,5)"
      ],
      "metadata": {
        "colab": {
          "base_uri": "https://localhost:8080/"
        },
        "id": "wRF55n7VO_Nv",
        "outputId": "fad19fab-619f-4d16-de7d-9b2a8aa8109b"
      },
      "execution_count": null,
      "outputs": [
        {
          "output_type": "stream",
          "name": "stdout",
          "text": [
            "136564098283904\n",
            "136564098283904\n",
            "136564098283904\n"
          ]
        }
      ]
    },
    {
      "cell_type": "code",
      "source": [
        "numbers1 = [1,3,5,6,7]\n",
        "numbers2 = [1,3,5,7,9]\n",
        "\n",
        "def any_even(lista):\n",
        "  for nr in lista:\n",
        "    if nr % 2 == 0:\n",
        "      return True\n",
        "\n",
        "    return False\n",
        "\n",
        "print(any_even(numbers1))\n",
        "print(any_even(numbers2))"
      ],
      "metadata": {
        "colab": {
          "base_uri": "https://localhost:8080/"
        },
        "id": "bmHZcSKyVbxC",
        "outputId": "829752b6-c3d1-4002-a58a-15acd2802b0d"
      },
      "execution_count": null,
      "outputs": [
        {
          "output_type": "stream",
          "name": "stdout",
          "text": [
            "False\n",
            "False\n"
          ]
        }
      ]
    },
    {
      "cell_type": "code",
      "source": [
        "# any - sprawdza czy jakakolwiek wartość to true"
      ],
      "metadata": {
        "id": "EA1iu238V6jx"
      },
      "execution_count": null,
      "outputs": []
    },
    {
      "cell_type": "code",
      "source": [
        "print(any(numbers2))"
      ],
      "metadata": {
        "colab": {
          "base_uri": "https://localhost:8080/"
        },
        "id": "bkLGwZ6pWCGu",
        "outputId": "96356c86-c874-4ed4-b4b7-ba170869aef2"
      },
      "execution_count": null,
      "outputs": [
        {
          "output_type": "stream",
          "name": "stdout",
          "text": [
            "True\n"
          ]
        }
      ]
    },
    {
      "cell_type": "code",
      "source": [
        "def any_even(lista):\n",
        "  return [nr % 2 == 0 for nr in lista]\n",
        "\n",
        "print(any_even(numbers1))\n",
        "print(any_even(numbers2))"
      ],
      "metadata": {
        "colab": {
          "base_uri": "https://localhost:8080/"
        },
        "id": "AUs1TZ4SYAMs",
        "outputId": "d4c70b15-5f9d-4879-9a58-74740a916fdc"
      },
      "execution_count": null,
      "outputs": [
        {
          "output_type": "stream",
          "name": "stdout",
          "text": [
            "[False, False, False, True, False]\n",
            "[False, False, False, False, False]\n"
          ]
        }
      ]
    },
    {
      "cell_type": "code",
      "source": [
        "def any_even(lista):\n",
        "  return any([nr % 2 == 0 for nr in lista])\n",
        "\n",
        "print(any_even(numbers1))\n",
        "print(any_even(numbers2))"
      ],
      "metadata": {
        "colab": {
          "base_uri": "https://localhost:8080/"
        },
        "id": "3Uby94XDYSae",
        "outputId": "df93d052-5a74-4317-c6b7-f1abdf8c05dc"
      },
      "execution_count": null,
      "outputs": [
        {
          "output_type": "stream",
          "name": "stdout",
          "text": [
            "True\n",
            "False\n"
          ]
        }
      ]
    },
    {
      "cell_type": "code",
      "source": [
        "john = {\n",
        "    'name': 'John Doe',\n",
        "    'age': 30,\n",
        "    'skills': ['Python', 'Javascript', 'C++']\n",
        "}\n",
        "\n",
        "jane = {\n",
        "    'name': 'Jane Doe',\n",
        "    'age': 30,\n",
        "    'skills': ['Python','Java']\n",
        "}\n",
        "\n",
        "skills = ['Python','Java']\n",
        "\n",
        "def has_skills(person,skills):\n",
        "  return all(skill in person['skills'] for skill in skills)\n",
        "\n",
        "print(has_skills(jane,skills))\n",
        "print(has_skills(john,skills))"
      ],
      "metadata": {
        "colab": {
          "base_uri": "https://localhost:8080/"
        },
        "id": "Flz44TrEY0oF",
        "outputId": "804bcd47-ebdb-476a-f4d0-01b7a49dbe49"
      },
      "execution_count": null,
      "outputs": [
        {
          "output_type": "stream",
          "name": "stdout",
          "text": [
            "True\n",
            "False\n"
          ]
        }
      ]
    },
    {
      "cell_type": "code",
      "source": [
        "colors = ['red','green','blue','yellow']\n",
        "\n",
        "tasks = ['clean','sport','pay','cry']\n",
        "\n",
        "for i, task in enumerate(tasks, start =1):\n",
        "  task = task.capitalize()\n",
        "  print(i,task)"
      ],
      "metadata": {
        "colab": {
          "base_uri": "https://localhost:8080/"
        },
        "id": "rmAQw-36cao-",
        "outputId": "75b41ec3-a563-4bc5-dcba-11dc7a422cd6"
      },
      "execution_count": null,
      "outputs": [
        {
          "output_type": "stream",
          "name": "stdout",
          "text": [
            "1 Clean\n",
            "2 Sport\n",
            "3 Pay\n",
            "4 Cry\n"
          ]
        }
      ]
    },
    {
      "cell_type": "markdown",
      "source": [
        "Obiekt - to naprawdę każda zmienna w Python np.\n",
        "\n",
        "                         a = 4\n",
        "\n",
        "można wywołać na obiekcie “funkcję”, inaczej metodę np. wypisanie długości bitowej\n",
        "\n",
        "                    print(a.bit_length())\n",
        "\n",
        "             \n",
        "_____\n",
        "\n",
        "Obiekt mutable - z ang. zmienny (podatny na zmianę)\n",
        "\n",
        "       listSample = [ 1,4,512,24 ]\n",
        "       listSample2 = listSample\n",
        "       listSample2.append (465)\n",
        "\n",
        "\n",
        "Mimo dodania za pomocą append liczby 465 tylko do listSample2  została ona dodana do obu list. Po zapisaniu znaku równości zachodzi przypisanie dokładnego adresu w tle. Lista jest obiektem typu mutable -  co oznacza, z ang. że jest podatna na zmianę, co oznacza, że możemy zmieniać wartości “oryginału” na nowym obiekcie.\n",
        "\n",
        "\n",
        "Obiekt immutable - niezmienny (bool, int, float, tuple, str)\n",
        "\n",
        "a = 4\n",
        "b = a\n",
        "b = 7\n",
        "\n",
        "\n",
        "Obiekty immutable, gwarantują nam to, że pod a będzie 4 pomimo przypisania do b wartości 7.\n",
        "\n",
        "Gdy stawiamy znak równości = zmieniamy  miejsce wskazywania na nowy adres, na inny obiekt.\n",
        "            \n",
        "       k = 4\n",
        "       h = 4\n",
        "\n",
        "             \n",
        "Po odwołaniu się do id(k) oraz id(h) wskazują one ten sam adres, bo 4 i 4 to ten sam obiekt, zachodzi optymalizacja - czyli przy tych samych wartościach nie są tworzone nowe miejsca w pamięci. Dopiero gdy zrobimy zmianę tzn. h = 25 to od razu h jest innym obiektem.\n",
        "\n",
        "\n",
        "Przesyłając mutable zachodzi zmiana na oryginale, natomiast przesyłając immutable niezmienne np. int, bool - nie zachodzi zmiana w oryginale."
      ],
      "metadata": {
        "id": "W1u6RM0l3tcR"
      }
    },
    {
      "cell_type": "markdown",
      "source": [
        "## Random"
      ],
      "metadata": {
        "id": "dNmj1jA93g7p"
      }
    },
    {
      "cell_type": "markdown",
      "source": [
        "random - (z ang. losowy). moduł po zaimportowaniu dostarcza nam kilka funkcji:\n",
        "\n",
        "\n",
        "random - losuje liczby od 0 do 1, która jest liczbą zmiennoprzecinkową zaczynając 0 nie licząc 1.\n",
        "\n",
        "                    random 0 <= x < 1 lub [0,1)\n",
        "\n",
        "\n",
        "          import random\n",
        "          print(random.random())\n",
        "\n",
        "\n",
        "uniform - w tej funkcji jako pierwszy argument przesyłamy początek losowania, następnym argumentem jest koniec losowanie np. licząc od 2.5 bez uwzględnienia 10.\n",
        "\n",
        "          uniform (2.5, 10.0) 2.5<= x <10.0 lub [2.5,10)\n",
        "\n",
        "      przykład wykorzystania funkcji uniform w pętli od 0 do 100\n",
        "\n",
        "          x = 0\n",
        "          while x < 100:\n",
        "                x = x + 1\n",
        "                print(random.uniform(0,100))\n",
        "\n",
        "\n",
        "randrange - wylosuje liczby całkowite podane w zakresie puli oraz wybierze jedną z tych z wartości.\n",
        "           \n",
        "          randrange(10) z puli (0, 1, 2, 3, 4, 5, 6, 7, 8, 9)\n",
        "\n",
        "\n",
        "\n",
        "\n",
        "\n",
        "randrange (0, 15, 2) parzyste z puli  - podajemy liczby w zakresie od 0 do 14, następnie wypisujemy “step” - wielokrotność liczby, które mają być tworzone () przez co otrzymujemy (0,2,4,6,8,10,12,14) i losujemy jedną z nich.\n",
        "\n",
        "\n",
        "randint - przyjmuje pełną podaną wartość np. od 0 do 4 włącznie  np.\n",
        "\n",
        "        randint(0,4) lub [0,4]\n"
      ],
      "metadata": {
        "id": "aapCmCkS322b"
      }
    },
    {
      "cell_type": "code",
      "source": [
        "import random\n",
        "\n",
        "x = 0\n",
        "while x < 100:\n",
        "  x = x + 1\n",
        "  print(random.uniform(0,100))"
      ],
      "metadata": {
        "colab": {
          "base_uri": "https://localhost:8080/"
        },
        "id": "4amd9P743hL-",
        "outputId": "209c1e48-f41d-4e3d-e268-8fe163384e14"
      },
      "execution_count": null,
      "outputs": [
        {
          "output_type": "stream",
          "name": "stdout",
          "text": [
            "21.22602162698255\n",
            "71.75388793405425\n",
            "46.35801756079717\n",
            "0.4586443630609449\n",
            "15.606275731302954\n",
            "55.704924544880406\n",
            "1.636013358907784\n",
            "51.271040657013266\n",
            "82.28406042164585\n",
            "62.90660031022549\n",
            "42.44140285595171\n",
            "55.79885094230605\n",
            "62.62812400630854\n",
            "24.34510931863134\n",
            "34.69000325258737\n",
            "46.91527598239391\n",
            "29.05402554042943\n",
            "3.5400294717039427\n",
            "98.49718610098645\n",
            "7.692865972918705\n",
            "29.446176759995446\n",
            "33.48457740685012\n",
            "49.41304862694448\n",
            "83.93334122018807\n",
            "68.99797609402383\n",
            "73.01226956589454\n",
            "57.61623017046102\n",
            "79.45850097223644\n",
            "2.3047442467785673\n",
            "50.29542832213782\n",
            "99.35958161849392\n",
            "54.74607568223288\n",
            "99.5857663156826\n",
            "40.056433770034324\n",
            "19.78323976622278\n",
            "6.142060854238462\n",
            "43.91928299215561\n",
            "80.49772737414771\n",
            "81.59585184191388\n",
            "18.11544596788276\n",
            "87.11308725387212\n",
            "0.27442601271826517\n",
            "87.79977661733601\n",
            "44.263547413632786\n",
            "78.67821921507853\n",
            "18.517356356327163\n",
            "40.076478979408506\n",
            "19.266280920819\n",
            "38.35845704992688\n",
            "90.11652891179402\n",
            "27.050186094508355\n",
            "86.4704035753369\n",
            "50.81423752745798\n",
            "51.59872796833875\n",
            "97.64890722893095\n",
            "18.034966781499804\n",
            "88.81820839509282\n",
            "83.14112339838371\n",
            "75.29745611416988\n",
            "91.10172185946197\n",
            "29.59044383591979\n",
            "34.54651496398861\n",
            "22.11863488806164\n",
            "98.64887057900036\n",
            "23.14257268425768\n",
            "87.20245361395249\n",
            "17.048246794099942\n",
            "31.563783217692244\n",
            "58.70089115947202\n",
            "59.31749798769167\n",
            "74.26498715726154\n",
            "23.685584040589536\n",
            "13.519209720989945\n",
            "29.100008783903252\n",
            "65.26481587303459\n",
            "77.44296008259967\n",
            "17.01354528320217\n",
            "49.35599277627417\n",
            "93.08783035327633\n",
            "83.46070888595979\n",
            "83.23432035928366\n",
            "52.466610253169335\n",
            "30.028945900472014\n",
            "7.042696705849217\n",
            "48.52426218494789\n",
            "79.77959017723441\n",
            "4.235085899039925\n",
            "0.7493808821244063\n",
            "7.959370644803654\n",
            "93.68573510698116\n",
            "73.93023879463462\n",
            "91.92613575919299\n",
            "79.63836796653298\n",
            "49.71715119611101\n",
            "74.88451732034427\n",
            "52.49673696144702\n",
            "41.34396143843213\n",
            "8.995431395183672\n",
            "3.782245297251141\n",
            "91.50888922557499\n"
          ]
        }
      ]
    },
    {
      "cell_type": "code",
      "source": [
        "def will_weapon_hit(weaponChanceToHitPercentage):\n",
        "  isHitChanceRandom = random.uniform(0,100)\n",
        "  if (isHitChanceRandom < weaponChanceToHitPercentage):\n",
        "    return 'hit'\n",
        "  else:\n",
        "    return 'not hit'\n",
        "\n",
        "print(will_weapon_hit(50))"
      ],
      "metadata": {
        "colab": {
          "base_uri": "https://localhost:8080/"
        },
        "id": "5eZ2nL0J3oY_",
        "outputId": "d725319f-388f-4c01-fdd0-b665cdd03248"
      },
      "execution_count": null,
      "outputs": [
        {
          "output_type": "stream",
          "name": "stdout",
          "text": [
            "not hit\n"
          ]
        }
      ]
    },
    {
      "cell_type": "code",
      "source": [
        "import random\n",
        "print(random.uniform(2.5,10))"
      ],
      "metadata": {
        "colab": {
          "base_uri": "https://localhost:8080/"
        },
        "id": "wV9U8xZpE5yr",
        "outputId": "9217b1a3-c3b9-4f8a-d048-b2b3e0223cd4"
      },
      "execution_count": null,
      "outputs": [
        {
          "output_type": "stream",
          "name": "stdout",
          "text": [
            "3.3668055264048125\n"
          ]
        }
      ]
    },
    {
      "cell_type": "code",
      "source": [
        "print(random.random())"
      ],
      "metadata": {
        "colab": {
          "base_uri": "https://localhost:8080/"
        },
        "id": "PEp71AAVGJQs",
        "outputId": "092d579a-868a-4e82-920b-375e69165a9d"
      },
      "execution_count": null,
      "outputs": [
        {
          "output_type": "stream",
          "name": "stdout",
          "text": [
            "0.377463483743826\n"
          ]
        }
      ]
    },
    {
      "cell_type": "code",
      "source": [
        "print(random.randrange(10))"
      ],
      "metadata": {
        "colab": {
          "base_uri": "https://localhost:8080/"
        },
        "id": "PD-9FvGuGMT8",
        "outputId": "2657d3c0-3dc5-4e2d-a6ea-2e50a5a50569"
      },
      "execution_count": null,
      "outputs": [
        {
          "output_type": "stream",
          "name": "stdout",
          "text": [
            "6\n"
          ]
        }
      ]
    },
    {
      "cell_type": "code",
      "source": [
        "x = 0\n",
        "while x < 100:\n",
        "  x = x + 1\n",
        "  print(random.uniform(0,100))\n"
      ],
      "metadata": {
        "colab": {
          "base_uri": "https://localhost:8080/"
        },
        "id": "YM5H_QK0GSRA",
        "outputId": "ffacefbb-e40f-459f-efc9-c773da695db7"
      },
      "execution_count": null,
      "outputs": [
        {
          "output_type": "stream",
          "name": "stdout",
          "text": [
            "61.58814117761072\n",
            "19.589861897462903\n",
            "6.884598325806746\n",
            "87.43828951427777\n",
            "8.634622049903417\n",
            "29.561173765747295\n",
            "14.467958670226333\n",
            "90.86423065291244\n",
            "96.00737864114028\n",
            "84.19404380293683\n",
            "53.688617220834786\n",
            "86.83560086475408\n",
            "74.73568746557349\n",
            "44.334241673963916\n",
            "35.45858227260933\n",
            "94.17207051322795\n",
            "8.414882887322007\n",
            "73.83327289225137\n",
            "9.65748697934804\n",
            "41.68843559032892\n",
            "6.298345167757113\n",
            "3.8384212944399865\n",
            "19.955452870506264\n",
            "12.439460938657632\n",
            "96.85976774954439\n",
            "4.502899200756749\n",
            "4.296798251231049\n",
            "7.1897730270639615\n",
            "21.518455511724767\n",
            "91.4413003650327\n",
            "69.54229312880042\n",
            "27.739090989183456\n",
            "68.1775982010677\n",
            "70.4854577043852\n",
            "43.40045287647866\n",
            "64.1625879057232\n",
            "91.98937147725412\n",
            "44.839151062945106\n",
            "26.310637075391487\n",
            "20.91398167278061\n",
            "17.41254297006276\n",
            "56.6095407802472\n",
            "67.25963092822805\n",
            "31.45456502488465\n",
            "47.71430815392418\n",
            "51.06499770941036\n",
            "47.64321746099054\n",
            "59.09256581080399\n",
            "93.16409098338545\n",
            "99.54577486605298\n",
            "40.9805162788075\n",
            "1.6897207643778667\n",
            "53.60449964047477\n",
            "4.6669165027043436\n",
            "49.912656295993806\n",
            "70.08747082237537\n",
            "43.88680859914733\n",
            "6.05668292701278\n",
            "84.27219699380292\n",
            "90.47964801214421\n",
            "5.1338374330124665\n",
            "82.99827672552857\n",
            "52.58527866234449\n",
            "23.273467288290583\n",
            "44.471103686368465\n",
            "7.8283225661543\n",
            "15.696456174118122\n",
            "31.14678381091631\n",
            "63.080976119518226\n",
            "87.0083218941058\n",
            "19.381923822413892\n",
            "46.19577072077337\n",
            "95.06487830985964\n",
            "51.11292762218679\n",
            "71.43549262556165\n",
            "20.40543249512804\n",
            "53.19653820954664\n",
            "76.8599769648746\n",
            "45.13724022439731\n",
            "61.96937550089796\n",
            "48.88023402737579\n",
            "98.77939138467809\n",
            "39.55077529703559\n",
            "68.31948858310396\n",
            "30.334118680650914\n",
            "32.72970511351576\n",
            "73.05853298499376\n",
            "81.56873405936801\n",
            "17.898547849408995\n",
            "24.02089244532757\n",
            "67.04071155636511\n",
            "56.554873524558126\n",
            "72.96633009535832\n",
            "42.77061512829632\n",
            "66.4627187319841\n",
            "37.21563278540386\n",
            "13.688543253293561\n",
            "69.28006315149659\n",
            "24.005025441247675\n",
            "13.291926339866311\n"
          ]
        }
      ]
    },
    {
      "cell_type": "code",
      "source": [
        "import random\n",
        "def ifhit(hits,weaponChancetoHit):\n",
        "  listHit = []\n",
        "  x = 0\n",
        "  while x < hits:\n",
        "    isHitChance = random.uniform(0,100)\n",
        "    if (isHitChance < weaponChancetoHit):\n",
        "      listHit.append('hit')\n",
        "    else:\n",
        "      listHit.append('not hit')\n",
        "    x += 1\n",
        "  print('Number of hits:',listHit.count('hit'))\n",
        "  print('Number of non-hits:',listHit.count('not hit'))\n",
        "\n",
        "ifhit(100,30)"
      ],
      "metadata": {
        "colab": {
          "base_uri": "https://localhost:8080/"
        },
        "id": "aBKngAGCHvMW",
        "outputId": "a9f26168-7b76-4dbf-b14c-90627f1d581a"
      },
      "execution_count": null,
      "outputs": [
        {
          "output_type": "stream",
          "name": "stdout",
          "text": [
            "Number of hits: 26\n",
            "Number of non-hits: 74\n"
          ]
        }
      ]
    },
    {
      "cell_type": "code",
      "source": [
        "import random\n",
        "\n",
        "def will_weapon_hit(weaponChanceToHitPercentage):\n",
        "  isHitChance = random.uniform(0,100)\n",
        "  if (isHitChance < weaponChanceToHitPercentage):\n",
        "    return 'hit'\n",
        "  else:\n",
        "    return 'not hit'\n",
        "\n",
        "\n",
        "x = 0\n",
        "listHit = []\n",
        "while x < 100:\n",
        "  x = x + 1\n",
        "  listHit.append(will_weapon_hit(50))\n",
        "\n",
        "from collections import Counter\n",
        "\n",
        "dictionaryHit = Counter(listHit)\n",
        "\n",
        "dictionaryHit"
      ],
      "metadata": {
        "colab": {
          "base_uri": "https://localhost:8080/"
        },
        "id": "hWEqFyUtRzKq",
        "outputId": "e4d6bd9b-0526-4303-ac0c-003e3b08a257"
      },
      "execution_count": null,
      "outputs": [
        {
          "output_type": "execute_result",
          "data": {
            "text/plain": [
              "Counter({'hit': 53, 'not hit': 47})"
            ]
          },
          "metadata": {},
          "execution_count": 15
        }
      ]
    },
    {
      "cell_type": "markdown",
      "source": [
        "choice - zwraca losowy element\n",
        "\n",
        "choices - zwraca listę elementów, ma większe możliwości"
      ],
      "metadata": {
        "id": "oaOFHdB_Xs6W"
      }
    },
    {
      "cell_type": "markdown",
      "source": [
        "W module random znajdziemy funkcję :\n",
        "\n",
        "Choice - używamy tej funkcji gdy chcemy wylosować losowo jeden z elementów  i mieć równe prawdopodobieństwo losowania.\n",
        "\n",
        "         movieList = [\"Tytuł1\", \"Tytuł2\", \"Tytuł3\", \"Tytuł4\"]\n",
        "\n",
        "\n",
        "        import random\n",
        "        print(random.choice(movieList)\n",
        "\n",
        "\n",
        "W tym momencie szansa na wylosowanie każdego z tych elementów wynosi 25%\n",
        "\n",
        "\n",
        "Choices - zwraca listę elementów i pozwala ustalić prawdopodobieństwo wylosowania jednego z podanych elementów\n",
        "\n",
        " nagrodaZeSkrzynki = [\"zielona\", \"pomarańczowa\", \"purpurowa\", \"legendarna\"]\n",
        "\n",
        "\n",
        "Odwołujemy się więc do opcji random i funkcji choices po czym piszemy skąd chcemy pobrać dane, opcjonalne możemy podać drugi argument, a jako ostatni (k) liczbę losowań.\n",
        "\n",
        "   import random\n",
        "      random.choices(nagrodaZeSkrzynki, k = 100)\n",
        "\n",
        "W tym kodzie szanse na wystąpienie nagród są równomierne - a więc po ok.25% szans na wylosowanie.\n",
        "\n",
        "Aby ustalić dokładnie jakie szanse mają wystąpić dla poszczególnych elementów musimy podać jako drugi argument listę za pomocą średniej ważonej, ułamków lub liczb całkowitych (określane za pomocą procentów)\n",
        "\n",
        "print(random.choices(nagrodaZeSkrzynki, [80,15,4,1], k = 100))\n",
        "\n",
        "\n",
        "Czyli szansa na wystąpienie :\n",
        "Zielony - 80 %\n",
        "Pomarańcz - 15%\n",
        "Purpurowy - 4 %\n",
        "Legendarny - 1 %\n",
        "\n",
        "\n",
        "\n",
        "\n",
        "\n",
        "\n"
      ],
      "metadata": {
        "id": "A83a0Jp3e6TQ"
      }
    },
    {
      "cell_type": "code",
      "source": [
        "import random\n",
        "\n",
        "movieList = ['Tytul1','Tytul2','Tytul3','Tytul4']\n",
        "\n",
        "event = ['smierc','wygrana','przegrana','utrata zlota']\n",
        "\n",
        "nagrodaZeSkrzynki = ['zielona','pomarańczowa','purpurowa','legendarna']"
      ],
      "metadata": {
        "id": "ikN4pUf0fWXR"
      },
      "execution_count": null,
      "outputs": []
    },
    {
      "cell_type": "code",
      "source": [
        "print(random.choice(nagrodaZeSkrzynki))"
      ],
      "metadata": {
        "colab": {
          "base_uri": "https://localhost:8080/"
        },
        "id": "tBArRiTke7N2",
        "outputId": "917364f5-94f5-4f38-e3da-8500130da881"
      },
      "execution_count": null,
      "outputs": [
        {
          "output_type": "stream",
          "name": "stdout",
          "text": [
            "pomarańczowa\n"
          ]
        }
      ]
    },
    {
      "cell_type": "code",
      "source": [
        "print(random.choices(nagrodaZeSkrzynki, k=1))"
      ],
      "metadata": {
        "colab": {
          "base_uri": "https://localhost:8080/"
        },
        "id": "DmA5Mb4yfn5-",
        "outputId": "a4cc9a00-04f1-4349-c722-13ad6ec91ed5"
      },
      "execution_count": null,
      "outputs": [
        {
          "output_type": "stream",
          "name": "stdout",
          "text": [
            "['purpurowa']\n"
          ]
        }
      ]
    },
    {
      "cell_type": "code",
      "source": [
        "from collections import Counter\n",
        "print(Counter(random.choices(nagrodaZeSkrzynki, [0.8,0.1,0.095,0.005] ,k=1000000 )))"
      ],
      "metadata": {
        "colab": {
          "base_uri": "https://localhost:8080/"
        },
        "id": "bkcwl8fugW-P",
        "outputId": "047ecd64-35cc-4f22-bcfe-51ff7c4626f2"
      },
      "execution_count": null,
      "outputs": [
        {
          "output_type": "stream",
          "name": "stdout",
          "text": [
            "Counter({'zielona': 800147, 'pomarańczowa': 100047, 'purpurowa': 94796, 'legendarna': 5010})\n"
          ]
        }
      ]
    },
    {
      "cell_type": "markdown",
      "source": [
        "shuffle - tasowanie"
      ],
      "metadata": {
        "id": "LNDycV8ih8_S"
      }
    },
    {
      "cell_type": "code",
      "source": [
        "import random\n",
        "\n",
        "cardList = ['9', '9', '9','9',\n",
        "'10','10','10','10',\n",
        "'Jack','Jack','Jack','Jack'\n",
        "'Queen','Queen','Queen','Queen',\n",
        "'King','King','King','King',\n",
        "'Ace','Ace','Ace','Ace',\n",
        "'Joker', 'Joker'\n",
        "]\n",
        "\n",
        "random.shuffle(cardList)\n",
        "\n",
        "print(cardList)"
      ],
      "metadata": {
        "colab": {
          "base_uri": "https://localhost:8080/"
        },
        "id": "oYeAklCmh55i",
        "outputId": "7c2b7f83-72e6-44d1-d43b-71979ae46314"
      },
      "execution_count": null,
      "outputs": [
        {
          "output_type": "stream",
          "name": "stdout",
          "text": [
            "['9', '10', 'King', 'Ace', '9', 'Queen', 'Jack', 'Joker', '10', 'Queen', 'Ace', 'Queen', '9', '10', '9', 'Ace', 'JackQueen', 'King', 'King', '10', 'Jack', 'Jack', 'King', 'Ace', 'Joker']\n"
          ]
        }
      ]
    },
    {
      "cell_type": "code",
      "source": [
        "'''\n",
        "Napisz lotto - wyprintuj 6 liczb z 49 losowych\n",
        "'''\n",
        "import random\n",
        "numery_lotto = []\n",
        "\n",
        "while len(numery_lotto) < 6:\n",
        "  numer = random.randint(1,49)\n",
        "  if numer not in numery_lotto:\n",
        "    numery_lotto.append(numer)\n",
        "  else:\n",
        "    continue\n",
        "print('Oto numery lotto:',numery_lotto)"
      ],
      "metadata": {
        "colab": {
          "base_uri": "https://localhost:8080/"
        },
        "id": "Eo8NsUs3nbpy",
        "outputId": "6c522e98-27b7-412e-a1c5-bc8b69e9dbf7"
      },
      "execution_count": null,
      "outputs": [
        {
          "output_type": "stream",
          "name": "stdout",
          "text": [
            "Oto numery lotto: [1, 10, 38, 41, 13, 37]\n"
          ]
        }
      ]
    },
    {
      "cell_type": "code",
      "source": [
        "def choose_random_numbers(amount,total_amount):\n",
        "  print(random.randint(0, total_amount))\n",
        "\n",
        "choose_random_numbers(6,49)"
      ],
      "metadata": {
        "colab": {
          "base_uri": "https://localhost:8080/"
        },
        "id": "V2n6Gg_DrP4W",
        "outputId": "7db61661-867f-4652-e8d3-9384fa431728"
      },
      "execution_count": null,
      "outputs": [
        {
          "output_type": "stream",
          "name": "stdout",
          "text": [
            "18\n"
          ]
        }
      ]
    },
    {
      "cell_type": "code",
      "source": [
        "def choose_random_numbers(amount,total_amount):\n",
        "  print(random.sample(range(total_amount +1), amount))\n",
        "\n",
        "choose_random_numbers(6,49)"
      ],
      "metadata": {
        "colab": {
          "base_uri": "https://localhost:8080/"
        },
        "id": "7flgS4vhrhtW",
        "outputId": "77d65508-fec1-409e-cfd6-1818dc7ad454"
      },
      "execution_count": null,
      "outputs": [
        {
          "output_type": "stream",
          "name": "stdout",
          "text": [
            "[22, 43, 34, 45, 14, 27]\n"
          ]
        }
      ]
    },
    {
      "cell_type": "code",
      "source": [
        "cardList = ['9', '9', '9','9',\n",
        "'10','10','10','10',\n",
        "'Jack','Jack','Jack','Jack'\n",
        "'Queen','Queen','Queen','Queen',\n",
        "'King','King','King','King',\n",
        "'Ace','Ace','Ace','Ace',\n",
        "'Joker', 'Joker'\n",
        "]\n",
        "\n",
        "random.shuffle(cardList)"
      ],
      "metadata": {
        "id": "Yz6TH_sQtAE7"
      },
      "execution_count": null,
      "outputs": []
    },
    {
      "cell_type": "code",
      "source": [
        "print(random.sample(cardList,5))"
      ],
      "metadata": {
        "colab": {
          "base_uri": "https://localhost:8080/"
        },
        "id": "lprRiHkRt2Wl",
        "outputId": "0eea94b8-3062-470a-bcd0-16effd3786ce"
      },
      "execution_count": null,
      "outputs": [
        {
          "output_type": "stream",
          "name": "stdout",
          "text": [
            "['9', 'Jack', '10', 'Jack', 'King']\n"
          ]
        }
      ]
    },
    {
      "cell_type": "code",
      "source": [
        "cardList = ['9', '9', '9','9',\n",
        "'10','10','10','10',\n",
        "'Jack','Jack','Jack','Jack'\n",
        "'Queen','Queen','Queen','Queen',\n",
        "'King','King','King','King',\n",
        "'Ace','Ace','Ace','Ace',\n",
        "'Joker', 'Joker'\n",
        "]\n",
        "\n",
        "cardlist1 = []\n",
        "cardlist2 = []\n",
        "\n",
        "while len(cardlist1) < 5 and len(cardlist2) < 5:\n",
        "  random.shuffle(cardList)\n",
        "  cardlist1.append(cardList.pop())\n",
        "  cardlist2.append(cardList.pop())\n",
        "print(cardlist1)\n",
        "print(cardlist2)"
      ],
      "metadata": {
        "colab": {
          "base_uri": "https://localhost:8080/"
        },
        "id": "8jpvjvzLv42I",
        "outputId": "020b8136-492b-4901-d25d-9ee9dbbbc482"
      },
      "execution_count": null,
      "outputs": [
        {
          "output_type": "stream",
          "name": "stdout",
          "text": [
            "['10', '9', '9', 'King', 'JackQueen']\n",
            "['Ace', '10', 'Ace', '9', 'King']\n"
          ]
        }
      ]
    },
    {
      "cell_type": "code",
      "source": [
        "import random\n",
        "from enum import Enum\n",
        "\n",
        "Event = Enum('Event', ['Chest','Empty'])\n",
        "\n",
        "eventDictionary = {\n",
        "    Event.Chest: 0.6,\n",
        "    Event.Empty: 0.4\n",
        "}\n",
        "\n",
        "eventList = list(eventDictionary.keys())\n",
        "eventProbability = list(eventDictionary.values())\n",
        "\n",
        "Colours = Enum('Colours', {'Green': 'zielony',\n",
        "                           'Orange': 'pomarańczowy',\n",
        "                           'Purple': 'fioletowy',\n",
        "                           'Gold': 'złoty'})\n",
        "\n",
        "chestColoursDictionary = {\n",
        "    Colours.Green: 0.75,\n",
        "    Colours.Orange: 0.2,\n",
        "    Colours.Purple: 0.04,\n",
        "    Colours.Gold: 0.01\n",
        "}\n",
        "\n",
        "chestColourList = tuple(chestColoursDictionary.keys())\n",
        "chestColourProbability = tuple(chestColoursDictionary.values())\n",
        "\n",
        "rewardsForChests = {\n",
        "                    chestColourList[reward]: (reward+1)*(reward+1) * 1000\n",
        "                    for reward in range(len(chestColourList))\n",
        "}\n",
        "\n",
        "gameLength = 5\n",
        "goldAcquired = 0\n",
        "\n",
        "print(\"Welcome in my game called Komnata\")\n",
        "print(\"You have only 5 steps to make, see yourself how much gold you've got\")\n",
        "\n",
        "\n",
        "while gameLength > 0:\n",
        "  gameAnswer = input(\"Do you want to move forward?\")\n",
        "  if (gameAnswer == 'yes'):\n",
        "    print('Great, let us see what you got')\n",
        "    drawnEvent = random.choices(eventList,eventProbability)[0]\n",
        "\n",
        "    if (drawnEvent == Event.Chest):\n",
        "      print('You have drawn a chest!')\n",
        "      drawnColour = random.choices(chestColourList,chestColourProbability)[0]\n",
        "      print(\"This chest color is\", drawnColour.value)\n",
        "      gamerReward = rewardsForChests[drawnColour]\n",
        "      goldAcquired = goldAcquired + gamerReward\n",
        "\n",
        "    elif (drawnEvent == Event.Empty):\n",
        "      print('Unfortunately, you have drown nothing :(')\n",
        "  else:\n",
        "    print(\"You can go just straight :/\")\n",
        "    continue\n",
        "\n",
        "  gameLength = gameLength - 1\n",
        "\n",
        "print('Congratulations!', goldAcquired)\n",
        "\n"
      ],
      "metadata": {
        "colab": {
          "base_uri": "https://localhost:8080/"
        },
        "id": "gb7940lJXkih",
        "outputId": "45e63afe-c4f6-4dfe-e4b3-79304df10a15"
      },
      "execution_count": 4,
      "outputs": [
        {
          "output_type": "stream",
          "name": "stdout",
          "text": [
            "Welcome in my game called Komnata\n",
            "You have only 5 steps to make, see yourself how much gold you've got\n",
            "Do you want to move forward?yes\n",
            "Great, let us see what you got\n",
            "You have drawn a chest!\n",
            "This chest color is zielony\n",
            "Do you want to move forward?yes\n",
            "Great, let us see what you got\n",
            "You have drawn a chest!\n",
            "This chest color is zielony\n",
            "Do you want to move forward?yes\n",
            "Great, let us see what you got\n",
            "Unfortunately, you have drown nothing :(\n",
            "Do you want to move forward?yes\n",
            "Great, let us see what you got\n",
            "Unfortunately, you have drown nothing :(\n",
            "Do you want to move forward?yes\n",
            "Great, let us see what you got\n",
            "You have drawn a chest!\n",
            "This chest color is zielony\n",
            "Congratulations! 3000\n"
          ]
        }
      ]
    },
    {
      "cell_type": "code",
      "source": [
        "import random\n",
        "from enum import Enum\n",
        "\n",
        "Event = Enum('Event', ['Chest','Empty'])\n",
        "\n",
        "eventDictionary = {\n",
        "    Event.Chest: 0.6,\n",
        "    Event.Empty: 0.4\n",
        "}\n",
        "\n",
        "eventList = list(eventDictionary.keys())\n",
        "eventProbability = list(eventDictionary.values())\n",
        "\n",
        "Colours = Enum('Colours', {'Green': 'zielony',\n",
        "                           'Orange': 'pomarańczowy',\n",
        "                           'Purple': 'fioletowy',\n",
        "                           'Gold': 'złoty'})\n",
        "\n",
        "chestColoursDictionary = {\n",
        "    Colours.Green: 0.75,\n",
        "    Colours.Orange: 0.2,\n",
        "    Colours.Purple: 0.04,\n",
        "    Colours.Gold: 0.01\n",
        "}\n",
        "\n",
        "chestColourList = tuple(chestColoursDictionary.keys())\n",
        "chestColourProbability = tuple(chestColoursDictionary.values())\n",
        "\n",
        "rewardsForChests = {\n",
        "                    chestColourList[reward]: (reward+1)*(reward+1) * 1000\n",
        "                    for reward in range(len(chestColourList))\n",
        "}\n",
        "\n",
        "gameLength = 5\n",
        "goldAcquired = 0\n",
        "\n",
        "print(\"Welcome in my game called Komnata\")\n",
        "print(\"You have only 5 steps to make, see yourself how much gold you've got\")\n",
        "\n",
        "\n",
        "while gameLength > 0:\n",
        "  gameAnswer = input(\"Do you want to move forward?\")\n",
        "  if (gameAnswer == 'yes'):\n",
        "    print('Great, let us see what you got')\n",
        "    drawnEvent = random.choices(eventList,eventProbability)[0]\n",
        "\n",
        "    if (drawnEvent == Event.Chest):\n",
        "      print('You have drawn a chest!')\n",
        "      drawnColour = random.choices(chestColourList,chestColourProbability)[0]\n",
        "      print(\"This chest color is\", drawnColour.value)\n",
        "      gamerReward = rewardsForChests[drawnColour]\n",
        "      goldAcquired = goldAcquired + gamerReward\n",
        "\n",
        "    elif (drawnEvent == Event.Empty):\n",
        "      print('Unfortunately, you have drown nothing :(')\n",
        "  else:\n",
        "    print(\"You can go just straight :/\")\n",
        "    continue\n",
        "\n",
        "  gameLength = gameLength - 1\n",
        "\n",
        "print('Congratulations!', goldAcquired)"
      ],
      "metadata": {
        "id": "wEvxsv5wgCq5"
      },
      "execution_count": null,
      "outputs": []
    },
    {
      "cell_type": "code",
      "source": [
        "import random\n",
        "from enum import Enum\n",
        "\n",
        "def findApproximate(value, percentRange):\n",
        "  lowestValue = value - (percentRange/100)*value\n",
        "  highestValue = value + (percentRange/100)*value\n",
        "  return random.randint(lowestValue,highestValue)\n",
        "\n",
        "Event = Enum('Event', ['Chest','Empty'])\n",
        "\n",
        "eventDictionary = {\n",
        "    Event.Chest: 0.6,\n",
        "    Event.Empty: 0.4\n",
        "}\n",
        "\n",
        "eventList = list(eventDictionary.keys())\n",
        "eventProbability = list(eventDictionary.values())\n",
        "\n",
        "Colours = Enum('Colours', {'Green': 'zielony',\n",
        "                           'Orange': 'pomarańczowy',\n",
        "                           'Purple': 'fioletowy',\n",
        "                           'Gold': 'złoty'})\n",
        "\n",
        "chestColoursDictionary = {\n",
        "    Colours.Green: 0.75,\n",
        "    Colours.Orange: 0.2,\n",
        "    Colours.Purple: 0.04,\n",
        "    Colours.Gold: 0.01\n",
        "}\n",
        "\n",
        "chestColourList = tuple(chestColoursDictionary.keys())\n",
        "chestColourProbability = tuple(chestColoursDictionary.values())\n",
        "\n",
        "rewardsForChests = {\n",
        "                    chestColourList[reward]: (reward+1)*(reward+1) * 1000\n",
        "                    for reward in range(len(chestColourList))\n",
        "}\n",
        "\n",
        "gameLength = 5\n",
        "goldAcquired = 0\n",
        "\n",
        "print(\"Welcome in my game called Komnata\")\n",
        "print(\"You have only 5 steps to make, see yourself how much gold you've got\")\n",
        "\n",
        "\n",
        "while gameLength > 0:\n",
        "  gameAnswer = input(\"Do you want to move forward?\")\n",
        "  if (gameAnswer == 'yes'):\n",
        "    print('Great, let us see what you got')\n",
        "    drawnEvent = random.choices(eventList,eventProbability)[0]\n",
        "\n",
        "    if (drawnEvent == Event.Chest):\n",
        "      print('You have drawn a chest!')\n",
        "      drawnColour = random.choices(chestColourList,chestColourProbability)[0]\n",
        "      print(\"This chest color is\", drawnColour.value)\n",
        "      gamerReward = findApproximate(rewardsForChests[drawnColour],15)\n",
        "      goldAcquired = goldAcquired + gamerReward\n",
        "\n",
        "    elif (drawnEvent == Event.Empty):\n",
        "      print('Unfortunately, you have drown nothing :(')\n",
        "  else:\n",
        "    print(\"You can go just straight :/\")\n",
        "    continue\n",
        "\n",
        "  gameLength = gameLength - 1\n",
        "\n",
        "print('Congratulations!', goldAcquired)"
      ],
      "metadata": {
        "colab": {
          "base_uri": "https://localhost:8080/"
        },
        "id": "uayA3klxgoXf",
        "outputId": "87d8f1a3-1213-4e57-94f7-2b3cdb8b6c13"
      },
      "execution_count": 5,
      "outputs": [
        {
          "output_type": "stream",
          "name": "stdout",
          "text": [
            "Welcome in my game called Komnata\n",
            "You have only 5 steps to make, see yourself how much gold you've got\n",
            "Do you want to move forward?yes\n",
            "Great, let us see what you got\n",
            "Unfortunately, you have drown nothing :(\n",
            "Do you want to move forward?yes\n",
            "Great, let us see what you got\n",
            "You have drawn a chest!\n",
            "This chest color is zielony\n",
            "Do you want to move forward?yes\n",
            "Great, let us see what you got\n",
            "You have drawn a chest!\n",
            "This chest color is zielony\n",
            "Do you want to move forward?yes\n",
            "Great, let us see what you got\n",
            "You have drawn a chest!\n",
            "This chest color is zielony\n",
            "Do you want to move forward?yes\n",
            "Great, let us see what you got\n",
            "Unfortunately, you have drown nothing :(\n",
            "Congratulations! 3245\n"
          ]
        }
      ]
    }
  ]
}